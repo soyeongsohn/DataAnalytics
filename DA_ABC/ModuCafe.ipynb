{
 "cells": [
  {
   "cell_type": "markdown",
   "id": "5985be8b",
   "metadata": {},
   "source": [
    "# Project: 모두카페 꼼꼼히 살펴보기"
   ]
  },
  {
   "cell_type": "markdown",
   "id": "f854a3c8",
   "metadata": {},
   "source": [
    "## 상황 인식과 문제 정의"
   ]
  },
  {
   "cell_type": "markdown",
   "id": "5c74ce53",
   "metadata": {},
   "source": [
    "### 1. 상황 인식\n",
    "'모두카페'라는 스터디카페 데이터를 분석하여 이 카페가 더 잘되기 위한 운영 전략을 제시 <br>\n",
    "데이터는 총 4개이다.\n",
    "- `entry_data`: 시간별 입장 기록 데이터\n",
    "- `sales_data`: 시간별 음식/음료 판매 데이터\n",
    "- `item_data`: 판매하고 있는 음식/음료 종류와 가격\n",
    "- `item_entry_data`: 입장권 종류와 가격"
   ]
  },
  {
   "cell_type": "markdown",
   "id": "48604c9e",
   "metadata": {},
   "source": [
    "### 2. 문제 정의\n",
    "> 핵심 문제: 모두카페의 상태는 어떤가\n",
    "\n",
    "- 월별 매출액 추세\n",
    "- 가장 인기있는 음식/음료\n",
    "- 가장 많이 팔린 입장권 종류"
   ]
  },
  {
   "cell_type": "markdown",
   "id": "5240615e",
   "metadata": {},
   "source": [
    "## 데이터 분석"
   ]
  },
  {
   "cell_type": "markdown",
   "id": "85314f1f",
   "metadata": {},
   "source": [
    "### 1. 데이터 불러오기"
   ]
  },
  {
   "cell_type": "code",
   "execution_count": 2,
   "id": "d840bf5b",
   "metadata": {},
   "outputs": [],
   "source": [
    "# 필요 라이브러리 호출\n",
    "import pandas as pd\n",
    "import numpy as np\n",
    "import matplotlib.pyplot as plt\n",
    "import seaborn as sns\n",
    "\n",
    "plt.style.use('default')"
   ]
  },
  {
   "cell_type": "code",
   "execution_count": 5,
   "id": "c594bd7c",
   "metadata": {},
   "outputs": [],
   "source": [
    "# 데이터 호출\n",
    "entry_data = pd.read_csv('./data/entry_data.csv')\n",
    "sales_data = pd.read_csv('./data/sales_data.csv')\n",
    "item_data = pd.read_csv('./data/item_data.csv')\n",
    "item_entry_data = pd.read_csv('./data/item_entry_data.csv')"
   ]
  },
  {
   "cell_type": "code",
   "execution_count": 6,
   "id": "d766452e",
   "metadata": {},
   "outputs": [
    {
     "data": {
      "text/html": [
       "<div>\n",
       "<style scoped>\n",
       "    .dataframe tbody tr th:only-of-type {\n",
       "        vertical-align: middle;\n",
       "    }\n",
       "\n",
       "    .dataframe tbody tr th {\n",
       "        vertical-align: top;\n",
       "    }\n",
       "\n",
       "    .dataframe thead th {\n",
       "        text-align: right;\n",
       "    }\n",
       "</style>\n",
       "<table border=\"1\" class=\"dataframe\">\n",
       "  <thead>\n",
       "    <tr style=\"text-align: right;\">\n",
       "      <th></th>\n",
       "      <th>요금제명</th>\n",
       "      <th>입실</th>\n",
       "      <th>퇴실</th>\n",
       "      <th>이용</th>\n",
       "      <th>위치</th>\n",
       "      <th>금액</th>\n",
       "      <th>구분</th>\n",
       "      <th>고객</th>\n",
       "    </tr>\n",
       "  </thead>\n",
       "  <tbody>\n",
       "    <tr>\n",
       "      <th>0</th>\n",
       "      <td>시간요금제(1시간)</td>\n",
       "      <td>2022-04-01 23:39</td>\n",
       "      <td>2022-04-02 0:39</td>\n",
       "      <td>오전 1:00:00</td>\n",
       "      <td>선불기2</td>\n",
       "      <td>3000</td>\n",
       "      <td>퇴실</td>\n",
       "      <td>customer263717</td>\n",
       "    </tr>\n",
       "    <tr>\n",
       "      <th>1</th>\n",
       "      <td>시간요금제(1시간)</td>\n",
       "      <td>2022-04-01 23:39</td>\n",
       "      <td>2022-04-02 0:39</td>\n",
       "      <td>오전 1:00:00</td>\n",
       "      <td>선불기2</td>\n",
       "      <td>3000</td>\n",
       "      <td>퇴실</td>\n",
       "      <td>customer263717</td>\n",
       "    </tr>\n",
       "    <tr>\n",
       "      <th>2</th>\n",
       "      <td>무제한 입장권</td>\n",
       "      <td>2022-04-01 20:55</td>\n",
       "      <td>2022-04-01 21:41</td>\n",
       "      <td>오전 12:46:00</td>\n",
       "      <td>선불기2</td>\n",
       "      <td>7400</td>\n",
       "      <td>퇴실</td>\n",
       "      <td>customer247263</td>\n",
       "    </tr>\n",
       "    <tr>\n",
       "      <th>3</th>\n",
       "      <td>무제한 입장권</td>\n",
       "      <td>2022-04-01 20:55</td>\n",
       "      <td>2022-04-01 21:41</td>\n",
       "      <td>오전 12:46:00</td>\n",
       "      <td>선불기2</td>\n",
       "      <td>7400</td>\n",
       "      <td>퇴실</td>\n",
       "      <td>customer247263</td>\n",
       "    </tr>\n",
       "    <tr>\n",
       "      <th>4</th>\n",
       "      <td>한국대생 무제한 입장권</td>\n",
       "      <td>2022-04-01 19:54</td>\n",
       "      <td>2022-04-01 22:28</td>\n",
       "      <td>오전 2:33:00</td>\n",
       "      <td>선불기2</td>\n",
       "      <td>7400</td>\n",
       "      <td>퇴실</td>\n",
       "      <td>customer388928</td>\n",
       "    </tr>\n",
       "  </tbody>\n",
       "</table>\n",
       "</div>"
      ],
      "text/plain": [
       "           요금제명                입실                퇴실           이용    위치    금액  \\\n",
       "0    시간요금제(1시간)  2022-04-01 23:39   2022-04-02 0:39   오전 1:00:00  선불기2  3000   \n",
       "1    시간요금제(1시간)  2022-04-01 23:39   2022-04-02 0:39   오전 1:00:00  선불기2  3000   \n",
       "2       무제한 입장권  2022-04-01 20:55  2022-04-01 21:41  오전 12:46:00  선불기2  7400   \n",
       "3       무제한 입장권  2022-04-01 20:55  2022-04-01 21:41  오전 12:46:00  선불기2  7400   \n",
       "4  한국대생 무제한 입장권  2022-04-01 19:54  2022-04-01 22:28   오전 2:33:00  선불기2  7400   \n",
       "\n",
       "   구분              고객  \n",
       "0  퇴실  customer263717  \n",
       "1  퇴실  customer263717  \n",
       "2  퇴실  customer247263  \n",
       "3  퇴실  customer247263  \n",
       "4  퇴실  customer388928  "
      ]
     },
     "execution_count": 6,
     "metadata": {},
     "output_type": "execute_result"
    }
   ],
   "source": [
    "# entry_data 데이터 정보 확인\n",
    "entry_data.head()"
   ]
  },
  {
   "cell_type": "markdown",
   "id": "a98de39a",
   "metadata": {},
   "source": [
    "중복 데이터가 있으니 분석 시 제거해줄 필요가 있다."
   ]
  },
  {
   "cell_type": "code",
   "execution_count": 7,
   "id": "52dd104d",
   "metadata": {},
   "outputs": [
    {
     "data": {
      "text/html": [
       "<div>\n",
       "<style scoped>\n",
       "    .dataframe tbody tr th:only-of-type {\n",
       "        vertical-align: middle;\n",
       "    }\n",
       "\n",
       "    .dataframe tbody tr th {\n",
       "        vertical-align: top;\n",
       "    }\n",
       "\n",
       "    .dataframe thead th {\n",
       "        text-align: right;\n",
       "    }\n",
       "</style>\n",
       "<table border=\"1\" class=\"dataframe\">\n",
       "  <thead>\n",
       "    <tr style=\"text-align: right;\">\n",
       "      <th></th>\n",
       "      <th>결제일시</th>\n",
       "      <th>판매위치</th>\n",
       "      <th>상품명</th>\n",
       "      <th>결제방식</th>\n",
       "      <th>비고</th>\n",
       "      <th>판매수량</th>\n",
       "      <th>결제금액</th>\n",
       "      <th>고객</th>\n",
       "    </tr>\n",
       "  </thead>\n",
       "  <tbody>\n",
       "    <tr>\n",
       "      <th>0</th>\n",
       "      <td>2022-04-01 19:41</td>\n",
       "      <td>선불기1</td>\n",
       "      <td>치킨카라아케 6pc</td>\n",
       "      <td>신용카드</td>\n",
       "      <td>결제완료</td>\n",
       "      <td>1</td>\n",
       "      <td>4,500</td>\n",
       "      <td>customer275507</td>\n",
       "    </tr>\n",
       "    <tr>\n",
       "      <th>1</th>\n",
       "      <td>2022-04-01 19:41</td>\n",
       "      <td>선불기1</td>\n",
       "      <td>짜장라면(계란추가)</td>\n",
       "      <td>신용카드</td>\n",
       "      <td>결제완료</td>\n",
       "      <td>1</td>\n",
       "      <td>5,500</td>\n",
       "      <td>customer275507</td>\n",
       "    </tr>\n",
       "    <tr>\n",
       "      <th>2</th>\n",
       "      <td>2022-04-01 19:41</td>\n",
       "      <td>선불기1</td>\n",
       "      <td>라면</td>\n",
       "      <td>신용카드</td>\n",
       "      <td>결제완료</td>\n",
       "      <td>1</td>\n",
       "      <td>4,000</td>\n",
       "      <td>customer275507</td>\n",
       "    </tr>\n",
       "    <tr>\n",
       "      <th>3</th>\n",
       "      <td>2022-04-01 19:41</td>\n",
       "      <td>선불기1</td>\n",
       "      <td>비엔나소세지(토핑)</td>\n",
       "      <td>신용카드</td>\n",
       "      <td>결제완료</td>\n",
       "      <td>1</td>\n",
       "      <td>1,000</td>\n",
       "      <td>customer275507</td>\n",
       "    </tr>\n",
       "    <tr>\n",
       "      <th>4</th>\n",
       "      <td>2022-04-01 19:41</td>\n",
       "      <td>선불기1</td>\n",
       "      <td>라면(계란/치즈추가)</td>\n",
       "      <td>신용카드</td>\n",
       "      <td>결제완료</td>\n",
       "      <td>1</td>\n",
       "      <td>5,000</td>\n",
       "      <td>customer275507</td>\n",
       "    </tr>\n",
       "  </tbody>\n",
       "</table>\n",
       "</div>"
      ],
      "text/plain": [
       "               결제일시  판매위치          상품명  결제방식    비고  판매수량   결제금액  \\\n",
       "0  2022-04-01 19:41  선불기1   치킨카라아케 6pc  신용카드  결제완료     1  4,500   \n",
       "1  2022-04-01 19:41  선불기1   짜장라면(계란추가)  신용카드  결제완료     1  5,500   \n",
       "2  2022-04-01 19:41  선불기1           라면  신용카드  결제완료     1  4,000   \n",
       "3  2022-04-01 19:41  선불기1   비엔나소세지(토핑)  신용카드  결제완료     1  1,000   \n",
       "4  2022-04-01 19:41  선불기1  라면(계란/치즈추가)  신용카드  결제완료     1  5,000   \n",
       "\n",
       "               고객  \n",
       "0  customer275507  \n",
       "1  customer275507  \n",
       "2  customer275507  \n",
       "3  customer275507  \n",
       "4  customer275507  "
      ]
     },
     "execution_count": 7,
     "metadata": {},
     "output_type": "execute_result"
    }
   ],
   "source": [
    "# sales_data 데이터 정보 확인\n",
    "sales_data.head()"
   ]
  },
  {
   "cell_type": "code",
   "execution_count": 8,
   "id": "eb67372a",
   "metadata": {},
   "outputs": [
    {
     "data": {
      "text/html": [
       "<div>\n",
       "<style scoped>\n",
       "    .dataframe tbody tr th:only-of-type {\n",
       "        vertical-align: middle;\n",
       "    }\n",
       "\n",
       "    .dataframe tbody tr th {\n",
       "        vertical-align: top;\n",
       "    }\n",
       "\n",
       "    .dataframe thead th {\n",
       "        text-align: right;\n",
       "    }\n",
       "</style>\n",
       "<table border=\"1\" class=\"dataframe\">\n",
       "  <thead>\n",
       "    <tr style=\"text-align: right;\">\n",
       "      <th></th>\n",
       "      <th>구분</th>\n",
       "      <th>분류</th>\n",
       "      <th>상품명</th>\n",
       "      <th>판매금액</th>\n",
       "    </tr>\n",
       "  </thead>\n",
       "  <tbody>\n",
       "    <tr>\n",
       "      <th>0</th>\n",
       "      <td>1</td>\n",
       "      <td>게임&amp;TV</td>\n",
       "      <td>이어폰(커널형)</td>\n",
       "      <td>3,000원</td>\n",
       "    </tr>\n",
       "    <tr>\n",
       "      <th>1</th>\n",
       "      <td>2</td>\n",
       "      <td>디저트</td>\n",
       "      <td>초코머핀</td>\n",
       "      <td>3,500원</td>\n",
       "    </tr>\n",
       "    <tr>\n",
       "      <th>2</th>\n",
       "      <td>3</td>\n",
       "      <td>디저트</td>\n",
       "      <td>쿠키(초코칩)</td>\n",
       "      <td>1,500원</td>\n",
       "    </tr>\n",
       "    <tr>\n",
       "      <th>3</th>\n",
       "      <td>4</td>\n",
       "      <td>디저트</td>\n",
       "      <td>쿠키(마카다미아)</td>\n",
       "      <td>1,500원</td>\n",
       "    </tr>\n",
       "    <tr>\n",
       "      <th>4</th>\n",
       "      <td>5</td>\n",
       "      <td>디저트</td>\n",
       "      <td>미니마카롱(3개)</td>\n",
       "      <td>2,000원</td>\n",
       "    </tr>\n",
       "  </tbody>\n",
       "</table>\n",
       "</div>"
      ],
      "text/plain": [
       "   구분     분류        상품명    판매금액\n",
       "0   1  게임&TV   이어폰(커널형)  3,000원\n",
       "1   2    디저트       초코머핀  3,500원\n",
       "2   3    디저트    쿠키(초코칩)  1,500원\n",
       "3   4    디저트  쿠키(마카다미아)  1,500원\n",
       "4   5    디저트  미니마카롱(3개)  2,000원"
      ]
     },
     "execution_count": 8,
     "metadata": {},
     "output_type": "execute_result"
    }
   ],
   "source": [
    "# item_data 데이터 정보 확인\n",
    "item_data.head()"
   ]
  },
  {
   "cell_type": "code",
   "execution_count": 9,
   "id": "47324989",
   "metadata": {},
   "outputs": [
    {
     "data": {
      "text/html": [
       "<div>\n",
       "<style scoped>\n",
       "    .dataframe tbody tr th:only-of-type {\n",
       "        vertical-align: middle;\n",
       "    }\n",
       "\n",
       "    .dataframe tbody tr th {\n",
       "        vertical-align: top;\n",
       "    }\n",
       "\n",
       "    .dataframe thead th {\n",
       "        text-align: right;\n",
       "    }\n",
       "</style>\n",
       "<table border=\"1\" class=\"dataframe\">\n",
       "  <thead>\n",
       "    <tr style=\"text-align: right;\">\n",
       "      <th></th>\n",
       "      <th>순위</th>\n",
       "      <th>분류</th>\n",
       "      <th>상품명</th>\n",
       "      <th>판매금액</th>\n",
       "    </tr>\n",
       "  </thead>\n",
       "  <tbody>\n",
       "    <tr>\n",
       "      <th>0</th>\n",
       "      <td>1</td>\n",
       "      <td>한국대생</td>\n",
       "      <td>한국대생 요금제</td>\n",
       "      <td>2,000원</td>\n",
       "    </tr>\n",
       "    <tr>\n",
       "      <th>1</th>\n",
       "      <td>2</td>\n",
       "      <td>심야-조조</td>\n",
       "      <td>심야-조조 요금제</td>\n",
       "      <td>5,000원</td>\n",
       "    </tr>\n",
       "    <tr>\n",
       "      <th>2</th>\n",
       "      <td>3</td>\n",
       "      <td>일반인</td>\n",
       "      <td>일반요금제</td>\n",
       "      <td>2,500원</td>\n",
       "    </tr>\n",
       "    <tr>\n",
       "      <th>3</th>\n",
       "      <td>4</td>\n",
       "      <td>한국대생</td>\n",
       "      <td>한국대생 요금제</td>\n",
       "      <td>2,500원</td>\n",
       "    </tr>\n",
       "    <tr>\n",
       "      <th>4</th>\n",
       "      <td>5</td>\n",
       "      <td>일반인</td>\n",
       "      <td>일반요금제</td>\n",
       "      <td>2,000원</td>\n",
       "    </tr>\n",
       "  </tbody>\n",
       "</table>\n",
       "</div>"
      ],
      "text/plain": [
       "   순위     분류        상품명    판매금액\n",
       "0   1   한국대생   한국대생 요금제  2,000원\n",
       "1   2  심야-조조  심야-조조 요금제  5,000원\n",
       "2   3    일반인      일반요금제  2,500원\n",
       "3   4   한국대생   한국대생 요금제  2,500원\n",
       "4   5    일반인      일반요금제  2,000원"
      ]
     },
     "execution_count": 9,
     "metadata": {},
     "output_type": "execute_result"
    }
   ],
   "source": [
    "# item_entry_data 데이터 정보 확인\n",
    "item_entry_data.head()"
   ]
  },
  {
   "cell_type": "markdown",
   "id": "fd629023",
   "metadata": {},
   "source": [
    "### 2. 데이터 분석하기"
   ]
  },
  {
   "cell_type": "markdown",
   "id": "1b8e9778",
   "metadata": {},
   "source": [
    "#### 1) 월별 매출액 추세"
   ]
  },
  {
   "cell_type": "code",
   "execution_count": 13,
   "id": "50e9964e",
   "metadata": {},
   "outputs": [],
   "source": [
    "temp_var = sales_data.copy()\n",
    "\n",
    "temp_var[\"date\"] = sales_data[\"결제일시\"].str[:7]"
   ]
  },
  {
   "cell_type": "code",
   "execution_count": 14,
   "id": "6cad79e0",
   "metadata": {},
   "outputs": [],
   "source": [
    "temp_var[\"결제금액\"] = temp_var[\"결제금액\"].str.replace(\",\", \"\")\n",
    "temp_var[\"결제금액\"] = temp_var[\"결제금액\"].astype(int)\n",
    "\n",
    "# 결제금액열을 date 기준으로 집계하기\n",
    "payment_data = temp_var.groupby(\"date\").sum()[\"결제금액\"]"
   ]
  },
  {
   "cell_type": "code",
   "execution_count": 15,
   "id": "36a32fef",
   "metadata": {},
   "outputs": [
    {
     "data": {
      "text/plain": [
       "date\n",
       "2021-02       7000\n",
       "2021-03    2104500\n",
       "2021-04    3116600\n",
       "2021-05    2537000\n",
       "2021-06    3621500\n",
       "2021-07    1215000\n",
       "2021-08    1229000\n",
       "2021-09    1197500\n",
       "2021-10    2138500\n",
       "2021-11    2748500\n",
       "2021-12    3290000\n",
       "2022-01    1430500\n",
       "2022-02    1181500\n",
       "2022-03    1870900\n",
       "2022-04      49900\n",
       "Name: 결제금액, dtype: int64"
      ]
     },
     "execution_count": 15,
     "metadata": {},
     "output_type": "execute_result"
    }
   ],
   "source": [
    "payment_data"
   ]
  },
  {
   "cell_type": "code",
   "execution_count": 19,
   "id": "e76acfc4",
   "metadata": {},
   "outputs": [
    {
     "data": {
      "image/png": "[encoded data removed]",
      "text/plain": [
       "<Figure size 640x480 with 1 Axes>"
      ]
     },
     "metadata": {},
     "output_type": "display_data"
    }
   ],
   "source": [
    "# 집계 결과 시각화\n",
    "payment_data.plot(kind=\"bar\")\n",
    "\n",
    "plt.xlabel(\"Month\")\n",
    "plt.ylabel(\"Sales\")\n",
    "plt.title(\"Sales by Month\")\n",
    "\n",
    "plt.show()"
   ]
  },
  {
   "cell_type": "markdown",
   "id": "c065d276",
   "metadata": {},
   "source": [
    "학기 중에 이용이 많은 것을 알 수 있다."
   ]
  },
  {
   "cell_type": "markdown",
   "id": "196f3900",
   "metadata": {},
   "source": [
    "#### 2) 가장 인기 있는 음식/음료"
   ]
  },
  {
   "cell_type": "code",
   "execution_count": 20,
   "id": "b655ff19",
   "metadata": {},
   "outputs": [],
   "source": [
    "temp_var = temp_var[~(temp_var['판매수량']==-1)]\n",
    "items_count = pd.DataFrame(temp_var[\"상품명\"].value_counts())[:10]"
   ]
  },
  {
   "cell_type": "code",
   "execution_count": 21,
   "id": "4a7fafcd",
   "metadata": {},
   "outputs": [
    {
     "data": {
      "text/html": [
       "<div>\n",
       "<style scoped>\n",
       "    .dataframe tbody tr th:only-of-type {\n",
       "        vertical-align: middle;\n",
       "    }\n",
       "\n",
       "    .dataframe tbody tr th {\n",
       "        vertical-align: top;\n",
       "    }\n",
       "\n",
       "    .dataframe thead th {\n",
       "        text-align: right;\n",
       "    }\n",
       "</style>\n",
       "<table border=\"1\" class=\"dataframe\">\n",
       "  <thead>\n",
       "    <tr style=\"text-align: right;\">\n",
       "      <th></th>\n",
       "      <th>상품명</th>\n",
       "    </tr>\n",
       "  </thead>\n",
       "  <tbody>\n",
       "    <tr>\n",
       "      <th>김치볶음밥</th>\n",
       "      <td>1204</td>\n",
       "    </tr>\n",
       "    <tr>\n",
       "      <th>라면</th>\n",
       "      <td>749</td>\n",
       "    </tr>\n",
       "    <tr>\n",
       "      <th>짜장라면</th>\n",
       "      <td>455</td>\n",
       "    </tr>\n",
       "    <tr>\n",
       "      <th>치즈불고기볶음밥</th>\n",
       "      <td>420</td>\n",
       "    </tr>\n",
       "    <tr>\n",
       "      <th>계란추가</th>\n",
       "      <td>314</td>\n",
       "    </tr>\n",
       "    <tr>\n",
       "      <th>낙지볶음밥</th>\n",
       "      <td>312</td>\n",
       "    </tr>\n",
       "    <tr>\n",
       "      <th>새우볶음밥</th>\n",
       "      <td>309</td>\n",
       "    </tr>\n",
       "    <tr>\n",
       "      <th>아메리카노(ICE)</th>\n",
       "      <td>284</td>\n",
       "    </tr>\n",
       "    <tr>\n",
       "      <th>치즈감자튀김</th>\n",
       "      <td>246</td>\n",
       "    </tr>\n",
       "    <tr>\n",
       "      <th>감자튀김</th>\n",
       "      <td>242</td>\n",
       "    </tr>\n",
       "  </tbody>\n",
       "</table>\n",
       "</div>"
      ],
      "text/plain": [
       "             상품명\n",
       "김치볶음밥       1204\n",
       "라면           749\n",
       "짜장라면         455\n",
       "치즈불고기볶음밥     420\n",
       "계란추가         314\n",
       "낙지볶음밥        312\n",
       "새우볶음밥        309\n",
       "아메리카노(ICE)   284\n",
       "치즈감자튀김       246\n",
       "감자튀김         242"
      ]
     },
     "execution_count": 21,
     "metadata": {},
     "output_type": "execute_result"
    }
   ],
   "source": [
    "items_count"
   ]
  },
  {
   "cell_type": "code",
   "execution_count": 22,
   "id": "b9cacf32",
   "metadata": {},
   "outputs": [
    {
     "name": "stdout",
     "output_type": "stream",
     "text": [
      "완료!\n"
     ]
    }
   ],
   "source": [
    "# 한글이 포함된 시각화를 위해 Matplotlib 설정\n",
    "import matplotlib as mpl\n",
    "import matplotlib.pyplot as plt\n",
    "import matplotlib.font_manager as fm\n",
    "\n",
    "fontpath = '/usr/share/fonts/truetype/nanum/NanumBarunGothic.ttf'\n",
    "font = fm.FontProperties(fname=fontpath, size=9)\n",
    "plt.rc('font', family='NanumBarunGothic') \n",
    "mpl.font_manager.findfont(font)\n",
    "print(\"완료!\")"
   ]
  },
  {
   "cell_type": "code",
   "execution_count": 30,
   "id": "002faff4",
   "metadata": {},
   "outputs": [
    {
     "data": {
      "image/png": "[encoded data removed]",
      "text/plain": [
       "<Figure size 640x480 with 1 Axes>"
      ]
     },
     "metadata": {},
     "output_type": "display_data"
    }
   ],
   "source": [
    "# 집계 결과 시각화\n",
    "items_count.plot(kind=\"bar\")\n",
    "\n",
    "plt.xlabel(\"Products\")\n",
    "plt.ylabel(\"Sales Quantity\")\n",
    "plt.title(\"Sales Quantity by Products\")\n",
    "\n",
    "plt.show()"
   ]
  },
  {
   "cell_type": "code",
   "execution_count": 25,
   "id": "115e80ac",
   "metadata": {},
   "outputs": [],
   "source": [
    "# 결제금액열을 상품명을 기준으로 집계\n",
    "items_payment = temp_var.groupby(\"상품명\").sum()[\"결제금액\"]\n",
    "# 상위 10개 도출하기\n",
    "items_payment = items_payment.sort_values(ascending=False)[:10]"
   ]
  },
  {
   "cell_type": "code",
   "execution_count": 26,
   "id": "868e0f9e",
   "metadata": {},
   "outputs": [
    {
     "data": {
      "text/plain": [
       "상품명\n",
       "김치볶음밥         6004400\n",
       "라면            2941500\n",
       "치즈불고기볶음밥      2292600\n",
       "짜장라면          2038500\n",
       "낙지볶음밥         1710700\n",
       "새우볶음밥         1539800\n",
       "치즈감자튀김        1354200\n",
       "감자튀김          1083800\n",
       "아메리카노(ICE)    1058100\n",
       "불닭볶음면          693000\n",
       "Name: 결제금액, dtype: int64"
      ]
     },
     "execution_count": 26,
     "metadata": {},
     "output_type": "execute_result"
    }
   ],
   "source": [
    "items_payment"
   ]
  },
  {
   "cell_type": "code",
   "execution_count": 32,
   "id": "ec6f29b4",
   "metadata": {},
   "outputs": [
    {
     "data": {
      "image/png": "[encoded data removed]",
      "text/plain": [
       "<Figure size 640x480 with 1 Axes>"
      ]
     },
     "metadata": {},
     "output_type": "display_data"
    }
   ],
   "source": [
    "# 집계 결과 시각화하기\n",
    "items_payment.plot(kind=\"bar\")\n",
    "\n",
    "plt.xlabel(\"Products\")\n",
    "plt.ylabel(\"Sales\")\n",
    "plt.title(\"Sales by Products\")\n",
    "\n",
    "plt.show()"
   ]
  },
  {
   "cell_type": "markdown",
   "id": "a02d26df",
   "metadata": {},
   "source": [
    "김치볶음밥과 라면이 판매량/판매금액 모두 높다"
   ]
  },
  {
   "cell_type": "markdown",
   "id": "588c8395",
   "metadata": {},
   "source": [
    "#### 3) 가장 많이 팔린 입장권 종류"
   ]
  },
  {
   "cell_type": "code",
   "execution_count": 40,
   "id": "2dbd5ae4",
   "metadata": {},
   "outputs": [],
   "source": [
    "temp_var = entry_data.copy().drop_duplicates()\n",
    "temp_var[\"금액\"] = temp_var[\"금액\"].astype(int)\n",
    "# 요금제명 기준으로 집계하기\n",
    "tickets = temp_var.groupby(\"요금제명\").sum()[\"금액\"]\n",
    "# 상위 10개 도출하기\n",
    "tickets = tickets.sort_values(ascending=False)[:10]"
   ]
  },
  {
   "cell_type": "code",
   "execution_count": 41,
   "id": "2fa00bfa",
   "metadata": {},
   "outputs": [
    {
     "data": {
      "image/png": "[encoded data removed]",
      "text/plain": [
       "<Figure size 640x480 with 1 Axes>"
      ]
     },
     "metadata": {},
     "output_type": "display_data"
    }
   ],
   "source": [
    "tickets.plot(kind=\"bar\")\n",
    "\n",
    "plt.xlabel(\"Tickets\")\n",
    "plt.ylabel(\"Sales\")\n",
    "plt.title(\"Sales by Tickets\")\n",
    "\n",
    "plt.show()"
   ]
  },
  {
   "cell_type": "markdown",
   "id": "36df08b5",
   "metadata": {},
   "source": [
    "한국대생(종일권), 입장권(종일권) 순으로 많이 팔렸다. <br>\n",
    "주로 이용하는 고객이 한국대생인 것을 알 수 있고, 고객 대부분 종일권을 이용한다는 것도 확인할 수 있다."
   ]
  },
  {
   "cell_type": "markdown",
   "id": "97b03c0c",
   "metadata": {},
   "source": [
    "### 4) 방학 기간 이용 현황\n",
    "- 1, 2, 7, 8월"
   ]
  },
  {
   "cell_type": "code",
   "execution_count": 48,
   "id": "00a050f8",
   "metadata": {},
   "outputs": [
    {
     "data": {
      "text/html": [
       "<div>\n",
       "<style scoped>\n",
       "    .dataframe tbody tr th:only-of-type {\n",
       "        vertical-align: middle;\n",
       "    }\n",
       "\n",
       "    .dataframe tbody tr th {\n",
       "        vertical-align: top;\n",
       "    }\n",
       "\n",
       "    .dataframe thead th {\n",
       "        text-align: right;\n",
       "    }\n",
       "</style>\n",
       "<table border=\"1\" class=\"dataframe\">\n",
       "  <thead>\n",
       "    <tr style=\"text-align: right;\">\n",
       "      <th></th>\n",
       "      <th>요금제명</th>\n",
       "      <th>입실</th>\n",
       "      <th>퇴실</th>\n",
       "      <th>이용</th>\n",
       "      <th>위치</th>\n",
       "      <th>금액</th>\n",
       "      <th>구분</th>\n",
       "      <th>고객</th>\n",
       "      <th>month</th>\n",
       "    </tr>\n",
       "  </thead>\n",
       "  <tbody>\n",
       "    <tr>\n",
       "      <th>0</th>\n",
       "      <td>시간요금제(1시간)</td>\n",
       "      <td>2022-04-01 23:39</td>\n",
       "      <td>2022-04-02 0:39</td>\n",
       "      <td>오전 1:00:00</td>\n",
       "      <td>선불기2</td>\n",
       "      <td>3000</td>\n",
       "      <td>퇴실</td>\n",
       "      <td>customer263717</td>\n",
       "      <td>4</td>\n",
       "    </tr>\n",
       "    <tr>\n",
       "      <th>2</th>\n",
       "      <td>무제한 입장권</td>\n",
       "      <td>2022-04-01 20:55</td>\n",
       "      <td>2022-04-01 21:41</td>\n",
       "      <td>오전 12:46:00</td>\n",
       "      <td>선불기2</td>\n",
       "      <td>7400</td>\n",
       "      <td>퇴실</td>\n",
       "      <td>customer247263</td>\n",
       "      <td>4</td>\n",
       "    </tr>\n",
       "    <tr>\n",
       "      <th>4</th>\n",
       "      <td>한국대생 무제한 입장권</td>\n",
       "      <td>2022-04-01 19:54</td>\n",
       "      <td>2022-04-01 22:28</td>\n",
       "      <td>오전 2:33:00</td>\n",
       "      <td>선불기2</td>\n",
       "      <td>7400</td>\n",
       "      <td>퇴실</td>\n",
       "      <td>customer388928</td>\n",
       "      <td>4</td>\n",
       "    </tr>\n",
       "    <tr>\n",
       "      <th>7</th>\n",
       "      <td>한국대생 무제한 입장권</td>\n",
       "      <td>2022-04-01 19:32</td>\n",
       "      <td>2022-04-01 22:28</td>\n",
       "      <td>오전 2:56:00</td>\n",
       "      <td>선불기2</td>\n",
       "      <td>6400</td>\n",
       "      <td>퇴실</td>\n",
       "      <td>customer498538</td>\n",
       "      <td>4</td>\n",
       "    </tr>\n",
       "    <tr>\n",
       "      <th>11</th>\n",
       "      <td>한국대생 무제한 입장권</td>\n",
       "      <td>2022-04-01 18:46</td>\n",
       "      <td>2022-04-01 21:38</td>\n",
       "      <td>오전 2:52:00</td>\n",
       "      <td>선불기2</td>\n",
       "      <td>6400</td>\n",
       "      <td>퇴실</td>\n",
       "      <td>customer899296</td>\n",
       "      <td>4</td>\n",
       "    </tr>\n",
       "    <tr>\n",
       "      <th>...</th>\n",
       "      <td>...</td>\n",
       "      <td>...</td>\n",
       "      <td>...</td>\n",
       "      <td>...</td>\n",
       "      <td>...</td>\n",
       "      <td>...</td>\n",
       "      <td>...</td>\n",
       "      <td>...</td>\n",
       "      <td>...</td>\n",
       "    </tr>\n",
       "    <tr>\n",
       "      <th>22548</th>\n",
       "      <td>시간권</td>\n",
       "      <td>2021-02-17 13:11</td>\n",
       "      <td>2021-02-17 13:14</td>\n",
       "      <td>오전 12:02:00</td>\n",
       "      <td>선불기2</td>\n",
       "      <td>0</td>\n",
       "      <td>퇴실</td>\n",
       "      <td>customer715819</td>\n",
       "      <td>2</td>\n",
       "    </tr>\n",
       "    <tr>\n",
       "      <th>22549</th>\n",
       "      <td>종일요금제</td>\n",
       "      <td>2021-02-17 13:10</td>\n",
       "      <td>2021-02-17 14:19</td>\n",
       "      <td>오전 1:09:00</td>\n",
       "      <td>선불기1</td>\n",
       "      <td>6500</td>\n",
       "      <td>퇴실</td>\n",
       "      <td>customer774105</td>\n",
       "      <td>2</td>\n",
       "    </tr>\n",
       "    <tr>\n",
       "      <th>22550</th>\n",
       "      <td>종일요금제</td>\n",
       "      <td>2021-02-17 13:09</td>\n",
       "      <td>2021-02-17 14:19</td>\n",
       "      <td>오전 1:10:00</td>\n",
       "      <td>선불기1</td>\n",
       "      <td>6500</td>\n",
       "      <td>퇴실</td>\n",
       "      <td>customer774105</td>\n",
       "      <td>2</td>\n",
       "    </tr>\n",
       "    <tr>\n",
       "      <th>22552</th>\n",
       "      <td>종일요금제</td>\n",
       "      <td>2021-02-17 13:06</td>\n",
       "      <td>2021-02-17 14:19</td>\n",
       "      <td>오전 1:13:00</td>\n",
       "      <td>선불기1</td>\n",
       "      <td>7000</td>\n",
       "      <td>퇴실</td>\n",
       "      <td>customer774105</td>\n",
       "      <td>2</td>\n",
       "    </tr>\n",
       "    <tr>\n",
       "      <th>22554</th>\n",
       "      <td>종일요금제</td>\n",
       "      <td>2021-02-17 12:58</td>\n",
       "      <td>2021-02-17 14:19</td>\n",
       "      <td>오전 1:21:00</td>\n",
       "      <td>선불기1</td>\n",
       "      <td>7000</td>\n",
       "      <td>퇴실</td>\n",
       "      <td>customer774105</td>\n",
       "      <td>2</td>\n",
       "    </tr>\n",
       "  </tbody>\n",
       "</table>\n",
       "<p>19321 rows × 9 columns</p>\n",
       "</div>"
      ],
      "text/plain": [
       "               요금제명                입실                퇴실           이용    위치  \\\n",
       "0        시간요금제(1시간)  2022-04-01 23:39   2022-04-02 0:39   오전 1:00:00  선불기2   \n",
       "2           무제한 입장권  2022-04-01 20:55  2022-04-01 21:41  오전 12:46:00  선불기2   \n",
       "4      한국대생 무제한 입장권  2022-04-01 19:54  2022-04-01 22:28   오전 2:33:00  선불기2   \n",
       "7      한국대생 무제한 입장권  2022-04-01 19:32  2022-04-01 22:28   오전 2:56:00  선불기2   \n",
       "11     한국대생 무제한 입장권  2022-04-01 18:46  2022-04-01 21:38   오전 2:52:00  선불기2   \n",
       "...             ...               ...               ...          ...   ...   \n",
       "22548           시간권  2021-02-17 13:11  2021-02-17 13:14  오전 12:02:00  선불기2   \n",
       "22549         종일요금제  2021-02-17 13:10  2021-02-17 14:19   오전 1:09:00  선불기1   \n",
       "22550         종일요금제  2021-02-17 13:09  2021-02-17 14:19   오전 1:10:00  선불기1   \n",
       "22552         종일요금제  2021-02-17 13:06  2021-02-17 14:19   오전 1:13:00  선불기1   \n",
       "22554         종일요금제  2021-02-17 12:58  2021-02-17 14:19   오전 1:21:00  선불기1   \n",
       "\n",
       "         금액  구분              고객  month  \n",
       "0      3000  퇴실  customer263717      4  \n",
       "2      7400  퇴실  customer247263      4  \n",
       "4      7400  퇴실  customer388928      4  \n",
       "7      6400  퇴실  customer498538      4  \n",
       "11     6400  퇴실  customer899296      4  \n",
       "...     ...  ..             ...    ...  \n",
       "22548     0  퇴실  customer715819      2  \n",
       "22549  6500  퇴실  customer774105      2  \n",
       "22550  6500  퇴실  customer774105      2  \n",
       "22552  7000  퇴실  customer774105      2  \n",
       "22554  7000  퇴실  customer774105      2  \n",
       "\n",
       "[19321 rows x 9 columns]"
      ]
     },
     "execution_count": 48,
     "metadata": {},
     "output_type": "execute_result"
    }
   ],
   "source": [
    "temp_var"
   ]
  },
  {
   "cell_type": "code",
   "execution_count": 45,
   "id": "0b43f330",
   "metadata": {},
   "outputs": [],
   "source": [
    "temp_var = entry_data.copy().drop_duplicates()\n",
    "temp_var[\"month\"] = temp_var[\"입실\"].str[5:7]\n",
    "temp_var[\"month\"] = temp_var[\"month\"].astype(int)"
   ]
  },
  {
   "cell_type": "code",
   "execution_count": 51,
   "id": "d7374e2e",
   "metadata": {},
   "outputs": [
    {
     "data": {
      "text/html": [
       "<div>\n",
       "<style scoped>\n",
       "    .dataframe tbody tr th:only-of-type {\n",
       "        vertical-align: middle;\n",
       "    }\n",
       "\n",
       "    .dataframe tbody tr th {\n",
       "        vertical-align: top;\n",
       "    }\n",
       "\n",
       "    .dataframe thead th {\n",
       "        text-align: right;\n",
       "    }\n",
       "</style>\n",
       "<table border=\"1\" class=\"dataframe\">\n",
       "  <thead>\n",
       "    <tr style=\"text-align: right;\">\n",
       "      <th></th>\n",
       "      <th>요금제명</th>\n",
       "      <th>입실</th>\n",
       "      <th>퇴실</th>\n",
       "      <th>이용</th>\n",
       "      <th>위치</th>\n",
       "      <th>금액</th>\n",
       "      <th>구분</th>\n",
       "      <th>고객</th>\n",
       "      <th>month</th>\n",
       "    </tr>\n",
       "  </thead>\n",
       "  <tbody>\n",
       "    <tr>\n",
       "      <th>1454</th>\n",
       "      <td>심야-조조무제한</td>\n",
       "      <td>2022-02-28 23:33</td>\n",
       "      <td>2022-03-01 1:35</td>\n",
       "      <td>오전 2:02:00</td>\n",
       "      <td>선불기2</td>\n",
       "      <td>5000</td>\n",
       "      <td>퇴실</td>\n",
       "      <td>customer453884</td>\n",
       "      <td>2</td>\n",
       "    </tr>\n",
       "    <tr>\n",
       "      <th>1455</th>\n",
       "      <td>심야-조조무제한</td>\n",
       "      <td>2022-02-28 22:36</td>\n",
       "      <td>2022-03-01 1:45</td>\n",
       "      <td>오전 3:09:00</td>\n",
       "      <td>선불기2</td>\n",
       "      <td>5000</td>\n",
       "      <td>퇴실</td>\n",
       "      <td>customer293254</td>\n",
       "      <td>2</td>\n",
       "    </tr>\n",
       "    <tr>\n",
       "      <th>1456</th>\n",
       "      <td>심야-조조무제한</td>\n",
       "      <td>2022-02-28 22:16</td>\n",
       "      <td>2022-03-01 7:24</td>\n",
       "      <td>오전 9:08:00</td>\n",
       "      <td>선불기2</td>\n",
       "      <td>5000</td>\n",
       "      <td>퇴실</td>\n",
       "      <td>customer847542</td>\n",
       "      <td>2</td>\n",
       "    </tr>\n",
       "    <tr>\n",
       "      <th>1457</th>\n",
       "      <td>심야-조조무제한</td>\n",
       "      <td>2022-02-28 21:04</td>\n",
       "      <td>2022-03-01 1:28</td>\n",
       "      <td>오전 4:24:00</td>\n",
       "      <td>선불기2</td>\n",
       "      <td>5000</td>\n",
       "      <td>퇴실</td>\n",
       "      <td>customer567142</td>\n",
       "      <td>2</td>\n",
       "    </tr>\n",
       "    <tr>\n",
       "      <th>1458</th>\n",
       "      <td>한국대생 입장권(종일권)</td>\n",
       "      <td>2022-02-28 20:31</td>\n",
       "      <td>2022-03-01 1:59</td>\n",
       "      <td>오전 5:28:00</td>\n",
       "      <td>선불기2</td>\n",
       "      <td>6500</td>\n",
       "      <td>퇴실</td>\n",
       "      <td>customer552974</td>\n",
       "      <td>2</td>\n",
       "    </tr>\n",
       "  </tbody>\n",
       "</table>\n",
       "</div>"
      ],
      "text/plain": [
       "               요금제명                입실               퇴실          이용    위치  \\\n",
       "1454       심야-조조무제한  2022-02-28 23:33  2022-03-01 1:35  오전 2:02:00  선불기2   \n",
       "1455       심야-조조무제한  2022-02-28 22:36  2022-03-01 1:45  오전 3:09:00  선불기2   \n",
       "1456       심야-조조무제한  2022-02-28 22:16  2022-03-01 7:24  오전 9:08:00  선불기2   \n",
       "1457       심야-조조무제한  2022-02-28 21:04  2022-03-01 1:28  오전 4:24:00  선불기2   \n",
       "1458  한국대생 입장권(종일권)  2022-02-28 20:31  2022-03-01 1:59  오전 5:28:00  선불기2   \n",
       "\n",
       "        금액  구분              고객  month  \n",
       "1454  5000  퇴실  customer453884      2  \n",
       "1455  5000  퇴실  customer293254      2  \n",
       "1456  5000  퇴실  customer847542      2  \n",
       "1457  5000  퇴실  customer567142      2  \n",
       "1458  6500  퇴실  customer552974      2  "
      ]
     },
     "execution_count": 51,
     "metadata": {},
     "output_type": "execute_result"
    }
   ],
   "source": [
    "vacation_entry = temp_var.loc[temp_var[\"month\"].isin([1, 2, 7, 8])]\n",
    "vacation_entry.head()"
   ]
  },
  {
   "cell_type": "code",
   "execution_count": 55,
   "id": "45489959",
   "metadata": {},
   "outputs": [],
   "source": [
    "vacation_tickets = vacation_entry.groupby(\"요금제명\").sum()[\"금액\"]\n",
    "vacation_tickets = vacation_tickets.sort_values(ascending=False)[:10]"
   ]
  },
  {
   "cell_type": "code",
   "execution_count": 57,
   "id": "1652d2c3",
   "metadata": {},
   "outputs": [
    {
     "data": {
      "image/png": "[encoded data removed]",
      "text/plain": [
       "<Figure size 640x480 with 1 Axes>"
      ]
     },
     "metadata": {},
     "output_type": "display_data"
    }
   ],
   "source": [
    "vacation_tickets.plot(kind=\"bar\")\n",
    "\n",
    "plt.xlabel(\"Tickets\")\n",
    "plt.ylabel(\"Sales\")\n",
    "plt.title(\"Sales by Tickets on Vacation\")\n",
    "\n",
    "plt.show()"
   ]
  },
  {
   "cell_type": "markdown",
   "id": "339f05e8",
   "metadata": {},
   "source": [
    "방학 기간에는 근소하지만 한국대생이 아닌 일반 이용 고객의 이용이 더 많은 것을 확인할 수 있다."
   ]
  },
  {
   "cell_type": "markdown",
   "id": "c0f929d7",
   "metadata": {},
   "source": [
    "#### 4) 여름방학/겨울방학 이용 현황 비교"
   ]
  },
  {
   "cell_type": "code",
   "execution_count": 59,
   "id": "b2c28bb1",
   "metadata": {},
   "outputs": [
    {
     "name": "stderr",
     "output_type": "stream",
     "text": [
      "/tmp/ipykernel_31/2333113806.py:1: SettingWithCopyWarning: \n",
      "A value is trying to be set on a copy of a slice from a DataFrame.\n",
      "Try using .loc[row_indexer,col_indexer] = value instead\n",
      "\n",
      "See the caveats in the documentation: https://pandas.pydata.org/pandas-docs/stable/user_guide/indexing.html#returning-a-view-versus-a-copy\n",
      "  vacation_entry[\"Vacation\"] = \"winter\"\n",
      "/opt/conda/lib/python3.9/site-packages/pandas/core/indexing.py:1817: SettingWithCopyWarning: \n",
      "A value is trying to be set on a copy of a slice from a DataFrame.\n",
      "Try using .loc[row_indexer,col_indexer] = value instead\n",
      "\n",
      "See the caveats in the documentation: https://pandas.pydata.org/pandas-docs/stable/user_guide/indexing.html#returning-a-view-versus-a-copy\n",
      "  self._setitem_single_column(loc, value, pi)\n"
     ]
    },
    {
     "data": {
      "text/html": [
       "<div>\n",
       "<style scoped>\n",
       "    .dataframe tbody tr th:only-of-type {\n",
       "        vertical-align: middle;\n",
       "    }\n",
       "\n",
       "    .dataframe tbody tr th {\n",
       "        vertical-align: top;\n",
       "    }\n",
       "\n",
       "    .dataframe thead th {\n",
       "        text-align: right;\n",
       "    }\n",
       "</style>\n",
       "<table border=\"1\" class=\"dataframe\">\n",
       "  <thead>\n",
       "    <tr style=\"text-align: right;\">\n",
       "      <th></th>\n",
       "      <th>요금제명</th>\n",
       "      <th>입실</th>\n",
       "      <th>퇴실</th>\n",
       "      <th>이용</th>\n",
       "      <th>위치</th>\n",
       "      <th>금액</th>\n",
       "      <th>구분</th>\n",
       "      <th>고객</th>\n",
       "      <th>month</th>\n",
       "      <th>Vacation</th>\n",
       "    </tr>\n",
       "  </thead>\n",
       "  <tbody>\n",
       "    <tr>\n",
       "      <th>1454</th>\n",
       "      <td>심야-조조무제한</td>\n",
       "      <td>2022-02-28 23:33</td>\n",
       "      <td>2022-03-01 1:35</td>\n",
       "      <td>오전 2:02:00</td>\n",
       "      <td>선불기2</td>\n",
       "      <td>5000</td>\n",
       "      <td>퇴실</td>\n",
       "      <td>customer453884</td>\n",
       "      <td>2</td>\n",
       "      <td>winter</td>\n",
       "    </tr>\n",
       "    <tr>\n",
       "      <th>1455</th>\n",
       "      <td>심야-조조무제한</td>\n",
       "      <td>2022-02-28 22:36</td>\n",
       "      <td>2022-03-01 1:45</td>\n",
       "      <td>오전 3:09:00</td>\n",
       "      <td>선불기2</td>\n",
       "      <td>5000</td>\n",
       "      <td>퇴실</td>\n",
       "      <td>customer293254</td>\n",
       "      <td>2</td>\n",
       "      <td>winter</td>\n",
       "    </tr>\n",
       "    <tr>\n",
       "      <th>1456</th>\n",
       "      <td>심야-조조무제한</td>\n",
       "      <td>2022-02-28 22:16</td>\n",
       "      <td>2022-03-01 7:24</td>\n",
       "      <td>오전 9:08:00</td>\n",
       "      <td>선불기2</td>\n",
       "      <td>5000</td>\n",
       "      <td>퇴실</td>\n",
       "      <td>customer847542</td>\n",
       "      <td>2</td>\n",
       "      <td>winter</td>\n",
       "    </tr>\n",
       "    <tr>\n",
       "      <th>1457</th>\n",
       "      <td>심야-조조무제한</td>\n",
       "      <td>2022-02-28 21:04</td>\n",
       "      <td>2022-03-01 1:28</td>\n",
       "      <td>오전 4:24:00</td>\n",
       "      <td>선불기2</td>\n",
       "      <td>5000</td>\n",
       "      <td>퇴실</td>\n",
       "      <td>customer567142</td>\n",
       "      <td>2</td>\n",
       "      <td>winter</td>\n",
       "    </tr>\n",
       "    <tr>\n",
       "      <th>1458</th>\n",
       "      <td>한국대생 입장권(종일권)</td>\n",
       "      <td>2022-02-28 20:31</td>\n",
       "      <td>2022-03-01 1:59</td>\n",
       "      <td>오전 5:28:00</td>\n",
       "      <td>선불기2</td>\n",
       "      <td>6500</td>\n",
       "      <td>퇴실</td>\n",
       "      <td>customer552974</td>\n",
       "      <td>2</td>\n",
       "      <td>winter</td>\n",
       "    </tr>\n",
       "  </tbody>\n",
       "</table>\n",
       "</div>"
      ],
      "text/plain": [
       "               요금제명                입실               퇴실          이용    위치  \\\n",
       "1454       심야-조조무제한  2022-02-28 23:33  2022-03-01 1:35  오전 2:02:00  선불기2   \n",
       "1455       심야-조조무제한  2022-02-28 22:36  2022-03-01 1:45  오전 3:09:00  선불기2   \n",
       "1456       심야-조조무제한  2022-02-28 22:16  2022-03-01 7:24  오전 9:08:00  선불기2   \n",
       "1457       심야-조조무제한  2022-02-28 21:04  2022-03-01 1:28  오전 4:24:00  선불기2   \n",
       "1458  한국대생 입장권(종일권)  2022-02-28 20:31  2022-03-01 1:59  오전 5:28:00  선불기2   \n",
       "\n",
       "        금액  구분              고객  month Vacation  \n",
       "1454  5000  퇴실  customer453884      2   winter  \n",
       "1455  5000  퇴실  customer293254      2   winter  \n",
       "1456  5000  퇴실  customer847542      2   winter  \n",
       "1457  5000  퇴실  customer567142      2   winter  \n",
       "1458  6500  퇴실  customer552974      2   winter  "
      ]
     },
     "execution_count": 59,
     "metadata": {},
     "output_type": "execute_result"
    }
   ],
   "source": [
    "vacation_entry[\"Vacation\"] = \"winter\"\n",
    "vacation_entry.loc[vacation_entry[\"month\"].isin([7, 8]), \"Vacation\"] = \"summer\"\n",
    "vacation_entry.head()"
   ]
  },
  {
   "cell_type": "code",
   "execution_count": 70,
   "id": "54f39293",
   "metadata": {},
   "outputs": [
    {
     "data": {
      "image/png": "[encoded data removed]",
      "text/plain": [
       "<Figure size 640x480 with 1 Axes>"
      ]
     },
     "metadata": {},
     "output_type": "display_data"
    }
   ],
   "source": [
    "sns.countplot(x=\"Vacation\", data=vacation_entry)\n",
    "plt.xlabel(\"Vacation\")\n",
    "plt.ylabel(\"# of Entries\")\n",
    "plt.title(\"# of Entries by Vacation Type\")\n",
    "\n",
    "plt.show()"
   ]
  },
  {
   "cell_type": "markdown",
   "id": "4aecb01a",
   "metadata": {},
   "source": [
    "여름방학에 이용 고객 수가 근소하게 더 많은 것을 확인할 수 있다.(큰 차이는 없다.)"
   ]
  },
  {
   "cell_type": "markdown",
   "id": "79ef0789",
   "metadata": {},
   "source": [
    "#### 5) 여름방학/겨울방학 판매총액 비교"
   ]
  },
  {
   "cell_type": "code",
   "execution_count": 61,
   "id": "e1a8c9c4",
   "metadata": {},
   "outputs": [
    {
     "data": {
      "text/html": [
       "<div>\n",
       "<style scoped>\n",
       "    .dataframe tbody tr th:only-of-type {\n",
       "        vertical-align: middle;\n",
       "    }\n",
       "\n",
       "    .dataframe tbody tr th {\n",
       "        vertical-align: top;\n",
       "    }\n",
       "\n",
       "    .dataframe thead th {\n",
       "        text-align: right;\n",
       "    }\n",
       "</style>\n",
       "<table border=\"1\" class=\"dataframe\">\n",
       "  <thead>\n",
       "    <tr style=\"text-align: right;\">\n",
       "      <th></th>\n",
       "      <th>결제일시</th>\n",
       "      <th>판매위치</th>\n",
       "      <th>상품명</th>\n",
       "      <th>결제방식</th>\n",
       "      <th>비고</th>\n",
       "      <th>판매수량</th>\n",
       "      <th>결제금액</th>\n",
       "      <th>고객</th>\n",
       "      <th>month</th>\n",
       "    </tr>\n",
       "  </thead>\n",
       "  <tbody>\n",
       "    <tr>\n",
       "      <th>0</th>\n",
       "      <td>2022-04-01 19:41</td>\n",
       "      <td>선불기1</td>\n",
       "      <td>치킨카라아케 6pc</td>\n",
       "      <td>신용카드</td>\n",
       "      <td>결제완료</td>\n",
       "      <td>1</td>\n",
       "      <td>4500</td>\n",
       "      <td>customer275507</td>\n",
       "      <td>4</td>\n",
       "    </tr>\n",
       "    <tr>\n",
       "      <th>1</th>\n",
       "      <td>2022-04-01 19:41</td>\n",
       "      <td>선불기1</td>\n",
       "      <td>짜장라면(계란추가)</td>\n",
       "      <td>신용카드</td>\n",
       "      <td>결제완료</td>\n",
       "      <td>1</td>\n",
       "      <td>5500</td>\n",
       "      <td>customer275507</td>\n",
       "      <td>4</td>\n",
       "    </tr>\n",
       "    <tr>\n",
       "      <th>2</th>\n",
       "      <td>2022-04-01 19:41</td>\n",
       "      <td>선불기1</td>\n",
       "      <td>라면</td>\n",
       "      <td>신용카드</td>\n",
       "      <td>결제완료</td>\n",
       "      <td>1</td>\n",
       "      <td>4000</td>\n",
       "      <td>customer275507</td>\n",
       "      <td>4</td>\n",
       "    </tr>\n",
       "    <tr>\n",
       "      <th>3</th>\n",
       "      <td>2022-04-01 19:41</td>\n",
       "      <td>선불기1</td>\n",
       "      <td>비엔나소세지(토핑)</td>\n",
       "      <td>신용카드</td>\n",
       "      <td>결제완료</td>\n",
       "      <td>1</td>\n",
       "      <td>1000</td>\n",
       "      <td>customer275507</td>\n",
       "      <td>4</td>\n",
       "    </tr>\n",
       "    <tr>\n",
       "      <th>4</th>\n",
       "      <td>2022-04-01 19:41</td>\n",
       "      <td>선불기1</td>\n",
       "      <td>라면(계란/치즈추가)</td>\n",
       "      <td>신용카드</td>\n",
       "      <td>결제완료</td>\n",
       "      <td>1</td>\n",
       "      <td>5000</td>\n",
       "      <td>customer275507</td>\n",
       "      <td>4</td>\n",
       "    </tr>\n",
       "  </tbody>\n",
       "</table>\n",
       "</div>"
      ],
      "text/plain": [
       "               결제일시  판매위치          상품명  결제방식    비고  판매수량  결제금액  \\\n",
       "0  2022-04-01 19:41  선불기1   치킨카라아케 6pc  신용카드  결제완료     1  4500   \n",
       "1  2022-04-01 19:41  선불기1   짜장라면(계란추가)  신용카드  결제완료     1  5500   \n",
       "2  2022-04-01 19:41  선불기1           라면  신용카드  결제완료     1  4000   \n",
       "3  2022-04-01 19:41  선불기1   비엔나소세지(토핑)  신용카드  결제완료     1  1000   \n",
       "4  2022-04-01 19:41  선불기1  라면(계란/치즈추가)  신용카드  결제완료     1  5000   \n",
       "\n",
       "               고객  month  \n",
       "0  customer275507      4  \n",
       "1  customer275507      4  \n",
       "2  customer275507      4  \n",
       "3  customer275507      4  \n",
       "4  customer275507      4  "
      ]
     },
     "execution_count": 61,
     "metadata": {},
     "output_type": "execute_result"
    }
   ],
   "source": [
    "temp_var = sales_data.copy()\n",
    "\n",
    "temp_var[\"month\"] = sales_data[\"결제일시\"].str[5:7]\n",
    "temp_var[\"month\"] = temp_var[\"month\"].astype(int)\n",
    "\n",
    "temp_var[\"결제금액\"] = temp_var[\"결제금액\"].str.replace(\",\", \"\")\n",
    "temp_var[\"결제금액\"] = temp_var[\"결제금액\"].astype(int)\n",
    "temp_var.head()"
   ]
  },
  {
   "cell_type": "code",
   "execution_count": 64,
   "id": "fc10da77",
   "metadata": {},
   "outputs": [
    {
     "name": "stderr",
     "output_type": "stream",
     "text": [
      "/tmp/ipykernel_31/866029968.py:2: SettingWithCopyWarning: \n",
      "A value is trying to be set on a copy of a slice from a DataFrame.\n",
      "Try using .loc[row_indexer,col_indexer] = value instead\n",
      "\n",
      "See the caveats in the documentation: https://pandas.pydata.org/pandas-docs/stable/user_guide/indexing.html#returning-a-view-versus-a-copy\n",
      "  vacation_sales[\"Vacation\"] = \"winter\"\n",
      "/opt/conda/lib/python3.9/site-packages/pandas/core/indexing.py:1817: SettingWithCopyWarning: \n",
      "A value is trying to be set on a copy of a slice from a DataFrame.\n",
      "Try using .loc[row_indexer,col_indexer] = value instead\n",
      "\n",
      "See the caveats in the documentation: https://pandas.pydata.org/pandas-docs/stable/user_guide/indexing.html#returning-a-view-versus-a-copy\n",
      "  self._setitem_single_column(loc, value, pi)\n"
     ]
    },
    {
     "data": {
      "text/html": [
       "<div>\n",
       "<style scoped>\n",
       "    .dataframe tbody tr th:only-of-type {\n",
       "        vertical-align: middle;\n",
       "    }\n",
       "\n",
       "    .dataframe tbody tr th {\n",
       "        vertical-align: top;\n",
       "    }\n",
       "\n",
       "    .dataframe thead th {\n",
       "        text-align: right;\n",
       "    }\n",
       "</style>\n",
       "<table border=\"1\" class=\"dataframe\">\n",
       "  <thead>\n",
       "    <tr style=\"text-align: right;\">\n",
       "      <th></th>\n",
       "      <th>결제일시</th>\n",
       "      <th>판매위치</th>\n",
       "      <th>상품명</th>\n",
       "      <th>결제방식</th>\n",
       "      <th>비고</th>\n",
       "      <th>판매수량</th>\n",
       "      <th>결제금액</th>\n",
       "      <th>고객</th>\n",
       "      <th>month</th>\n",
       "      <th>Vacation</th>\n",
       "    </tr>\n",
       "  </thead>\n",
       "  <tbody>\n",
       "    <tr>\n",
       "      <th>427</th>\n",
       "      <td>2022-02-28 20:05</td>\n",
       "      <td>선불기1</td>\n",
       "      <td>김치볶음밥</td>\n",
       "      <td>신용카드</td>\n",
       "      <td>결제완료</td>\n",
       "      <td>1</td>\n",
       "      <td>5000</td>\n",
       "      <td>customer394709</td>\n",
       "      <td>2</td>\n",
       "      <td>winter</td>\n",
       "    </tr>\n",
       "    <tr>\n",
       "      <th>428</th>\n",
       "      <td>2022-02-28 20:05</td>\n",
       "      <td>선불기1</td>\n",
       "      <td>낙지볶음밥</td>\n",
       "      <td>신용카드</td>\n",
       "      <td>결제완료</td>\n",
       "      <td>1</td>\n",
       "      <td>5500</td>\n",
       "      <td>customer394709</td>\n",
       "      <td>2</td>\n",
       "      <td>winter</td>\n",
       "    </tr>\n",
       "    <tr>\n",
       "      <th>429</th>\n",
       "      <td>2022-02-28 20:05</td>\n",
       "      <td>선불기1</td>\n",
       "      <td>감자튀김</td>\n",
       "      <td>신용카드</td>\n",
       "      <td>결제완료</td>\n",
       "      <td>1</td>\n",
       "      <td>4500</td>\n",
       "      <td>customer394709</td>\n",
       "      <td>2</td>\n",
       "      <td>winter</td>\n",
       "    </tr>\n",
       "    <tr>\n",
       "      <th>430</th>\n",
       "      <td>2022-02-28 13:35</td>\n",
       "      <td>선불기1</td>\n",
       "      <td>바닐라라떼(ICE)</td>\n",
       "      <td>신용카드</td>\n",
       "      <td>결제완료</td>\n",
       "      <td>1</td>\n",
       "      <td>5000</td>\n",
       "      <td>customer337003</td>\n",
       "      <td>2</td>\n",
       "      <td>winter</td>\n",
       "    </tr>\n",
       "    <tr>\n",
       "      <th>431</th>\n",
       "      <td>2022-02-28 13:35</td>\n",
       "      <td>선불기1</td>\n",
       "      <td>카페모카(HOT)</td>\n",
       "      <td>신용카드</td>\n",
       "      <td>결제완료</td>\n",
       "      <td>1</td>\n",
       "      <td>4500</td>\n",
       "      <td>customer337003</td>\n",
       "      <td>2</td>\n",
       "      <td>winter</td>\n",
       "    </tr>\n",
       "  </tbody>\n",
       "</table>\n",
       "</div>"
      ],
      "text/plain": [
       "                 결제일시  판매위치         상품명  결제방식    비고  판매수량  결제금액  \\\n",
       "427  2022-02-28 20:05  선불기1       김치볶음밥  신용카드  결제완료     1  5000   \n",
       "428  2022-02-28 20:05  선불기1       낙지볶음밥  신용카드  결제완료     1  5500   \n",
       "429  2022-02-28 20:05  선불기1        감자튀김  신용카드  결제완료     1  4500   \n",
       "430  2022-02-28 13:35  선불기1  바닐라라떼(ICE)  신용카드  결제완료     1  5000   \n",
       "431  2022-02-28 13:35  선불기1   카페모카(HOT)  신용카드  결제완료     1  4500   \n",
       "\n",
       "                 고객  month Vacation  \n",
       "427  customer394709      2   winter  \n",
       "428  customer394709      2   winter  \n",
       "429  customer394709      2   winter  \n",
       "430  customer337003      2   winter  \n",
       "431  customer337003      2   winter  "
      ]
     },
     "execution_count": 64,
     "metadata": {},
     "output_type": "execute_result"
    }
   ],
   "source": [
    "vacation_sales = temp_var.loc[temp_var[\"month\"].isin([1, 2, 7, 8])]\n",
    "vacation_sales[\"Vacation\"] = \"winter\"\n",
    "vacation_sales.loc[vacation_sales[\"month\"].isin([7, 8]), \"Vacation\"] = \"summer\"\n",
    "vacation_sales.head()"
   ]
  },
  {
   "cell_type": "code",
   "execution_count": 68,
   "id": "898c6b8c",
   "metadata": {},
   "outputs": [],
   "source": [
    "grouped_df = vacation_sales.groupby(\"Vacation\").sum()[\"결제금액\"]"
   ]
  },
  {
   "cell_type": "code",
   "execution_count": 71,
   "id": "e8dbf487",
   "metadata": {},
   "outputs": [
    {
     "data": {
      "image/png": "[encoded data removed]",
      "text/plain": [
       "<Figure size 640x480 with 1 Axes>"
      ]
     },
     "metadata": {},
     "output_type": "display_data"
    }
   ],
   "source": [
    "grouped_df.plot(kind=\"bar\")\n",
    "\n",
    "plt.xlabel(\"Vacation\")\n",
    "plt.ylabel(\"Sales\")\n",
    "plt.title(\"Sales by Vacation Type\")\n",
    "\n",
    "plt.show()"
   ]
  },
  {
   "cell_type": "markdown",
   "id": "2b109e9c",
   "metadata": {},
   "source": [
    "이용 고객 수는 여름에 더 많지만, 매출은 겨울에 더 많다. <br>\n",
    "방학의 이용 고객 수, 매출액이 학기중에 비해 적은 것은 사실이니, 이 기간의 매출을 조금이라도 올리기 위해 조치를 취해야 한다고 생각한다. <br>\n",
    "특히 여름의 이용 고객들이 더 많은 음식/음료를 구매하도록 유도하는 방안이 있으면 좋을 것 같다는 생각이 들었다. <br>\n",
    "또한 이용 고객 수 자체를 늘리는 방안을 모색해보는 것도 좋은 방안일 것 같다."
   ]
  }
 ],
 "metadata": {
  "kernelspec": {
   "display_name": "Python 3 (ipykernel)",
   "language": "python",
   "name": "python3"
  },
  "language_info": {
   "codemirror_mode": {
    "name": "ipython",
    "version": 3
   },
   "file_extension": ".py",
   "mimetype": "text/x-python",
   "name": "python",
   "nbconvert_exporter": "python",
   "pygments_lexer": "ipython3",
   "version": "3.9.7"
  }
 },
 "nbformat": 4,
 "nbformat_minor": 5
}
