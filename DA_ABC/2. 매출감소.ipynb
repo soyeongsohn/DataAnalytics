{
 "cells": [
  {
   "attachments": {},
   "cell_type": "markdown",
   "metadata": {},
   "source": [
    "# 우리 기업의 매출이 왜 감소할까?"
   ]
  },
  {
   "attachments": {},
   "cell_type": "markdown",
   "metadata": {},
   "source": [
    "## 상황 인식과 문제 정의"
   ]
  },
  {
   "attachments": {},
   "cell_type": "markdown",
   "metadata": {},
   "source": [
    "### 1) 상황 인식\n",
    "---\n",
    "판매 상태 분석에서 3월 매출이 2월에 비해 무려 21.3% 가량 감소한 것을 확인. 그럼에도 유의미한 원인을 도출할 수 없었다. <br>\n",
    "매출이 떨어지고 있는 원인을 분석하고 대응 전략을 수립해보도록 하자."
   ]
  },
  {
   "attachments": {},
   "cell_type": "markdown",
   "metadata": {},
   "source": [
    "### 2) 문제 정의\n",
    "---\n",
    "> 핵심 문제: 우리 기업의 매출은 왜 감소하고 있는가?\n",
    "\n",
    "게임 시장 환경이나 게임 상태를 고려할 때 아직 충분히 성장할 수 있음에도 매출이 감소했다는 것은 뭔가 이상하다. <br>\n",
    "이를 해결하기 위해 먼저 일반적으로 매출액이 감소하는 원인을 생각해보자. <br>\n",
    "매출액은 (판매하고 있는 제품/서비스의 가격) * (판매 수량)으로 정의된다. <br>\n",
    "<br>\n",
    "분석 목적을 다음과 같이 설정하도록 하자. <br>\n",
    "- 우리의 게임의 판매량은 구체적으로 어디에서 감소하고 있는가?\n",
    "- 그리고 이를 극복하기 위한 대응전략은 무엇인가?"
   ]
  },
  {
   "attachments": {},
   "cell_type": "markdown",
   "metadata": {},
   "source": [
    "## 데이터 분석"
   ]
  },
  {
   "cell_type": "code",
   "execution_count": 1,
   "metadata": {},
   "outputs": [],
   "source": [
    "import pandas as pd\n",
    "import numpy as np\n",
    "import matplotlib.pyplot as plt\n",
    "plt.style.use('default')\n",
    "import seaborn as sns"
   ]
  },
  {
   "cell_type": "code",
   "execution_count": 2,
   "metadata": {},
   "outputs": [
    {
     "data": {
      "text/html": [
       "<div>\n",
       "<style scoped>\n",
       "    .dataframe tbody tr th:only-of-type {\n",
       "        vertical-align: middle;\n",
       "    }\n",
       "\n",
       "    .dataframe tbody tr th {\n",
       "        vertical-align: top;\n",
       "    }\n",
       "\n",
       "    .dataframe thead th {\n",
       "        text-align: right;\n",
       "    }\n",
       "</style>\n",
       "<table border=\"1\" class=\"dataframe\">\n",
       "  <thead>\n",
       "    <tr style=\"text-align: right;\">\n",
       "      <th></th>\n",
       "      <th>install</th>\n",
       "      <th>Time_stamp</th>\n",
       "      <th>Game_Name</th>\n",
       "      <th>Status</th>\n",
       "      <th>Payment</th>\n",
       "      <th>Customer_ID</th>\n",
       "    </tr>\n",
       "  </thead>\n",
       "  <tbody>\n",
       "    <tr>\n",
       "      <th>0</th>\n",
       "      <td>2022-01-08</td>\n",
       "      <td>2022-02-05</td>\n",
       "      <td>MineGround</td>\n",
       "      <td>play</td>\n",
       "      <td>4900</td>\n",
       "      <td>facilis140</td>\n",
       "    </tr>\n",
       "    <tr>\n",
       "      <th>1</th>\n",
       "      <td>2022-01-05</td>\n",
       "      <td>2022-02-17</td>\n",
       "      <td>MineGround</td>\n",
       "      <td>play</td>\n",
       "      <td>29900</td>\n",
       "      <td>debitis994</td>\n",
       "    </tr>\n",
       "    <tr>\n",
       "      <th>2</th>\n",
       "      <td>2022-01-29</td>\n",
       "      <td>2022-02-06</td>\n",
       "      <td>MineGround</td>\n",
       "      <td>play</td>\n",
       "      <td>4900</td>\n",
       "      <td>possimus246</td>\n",
       "    </tr>\n",
       "    <tr>\n",
       "      <th>3</th>\n",
       "      <td>2022-01-09</td>\n",
       "      <td>2022-02-05</td>\n",
       "      <td>MineGround</td>\n",
       "      <td>play</td>\n",
       "      <td>900</td>\n",
       "      <td>occaecati138</td>\n",
       "    </tr>\n",
       "    <tr>\n",
       "      <th>4</th>\n",
       "      <td>2022-01-08</td>\n",
       "      <td>2022-02-01</td>\n",
       "      <td>MineGround</td>\n",
       "      <td>play</td>\n",
       "      <td>900</td>\n",
       "      <td>corrupti325</td>\n",
       "    </tr>\n",
       "  </tbody>\n",
       "</table>\n",
       "</div>"
      ],
      "text/plain": [
       "      install  Time_stamp   Game_Name Status  Payment   Customer_ID\n",
       "0  2022-01-08  2022-02-05  MineGround   play     4900    facilis140\n",
       "1  2022-01-05  2022-02-17  MineGround   play    29900    debitis994\n",
       "2  2022-01-29  2022-02-06  MineGround   play     4900   possimus246\n",
       "3  2022-01-09  2022-02-05  MineGround   play      900  occaecati138\n",
       "4  2022-01-08  2022-02-01  MineGround   play      900   corrupti325"
      ]
     },
     "execution_count": 2,
     "metadata": {},
     "output_type": "execute_result"
    }
   ],
   "source": [
    "# sales_data 변수를 만들고 각 데이터 값을 할당\n",
    "sales_data = pd.read_csv('./data/sales_6.csv')\n",
    "\n",
    "# 변수 sales_data의 head 값 확인하기\n",
    "sales_data.head()"
   ]
  },
  {
   "attachments": {},
   "cell_type": "markdown",
   "metadata": {},
   "source": [
    "총 6개의 columns: <br>\n",
    "- `install`: 고객들이 게임을 설치한 일자\n",
    "- `Time_stamp`: 최종 로그 기록\n",
    "- `Game_Name`: 게임명\n",
    "- `Status`: 상태\n",
    "- `Payment`: 결제금액\n",
    "- `Customer_ID`: 유저 아이디"
   ]
  },
  {
   "attachments": {},
   "cell_type": "markdown",
   "metadata": {},
   "source": [
    "우선 월별 게임 설치 / 플레이 횟수를 먼저 살펴보자"
   ]
  },
  {
   "cell_type": "code",
   "execution_count": 3,
   "metadata": {},
   "outputs": [
    {
     "data": {
      "text/html": [
       "<div>\n",
       "<style scoped>\n",
       "    .dataframe tbody tr th:only-of-type {\n",
       "        vertical-align: middle;\n",
       "    }\n",
       "\n",
       "    .dataframe tbody tr th {\n",
       "        vertical-align: top;\n",
       "    }\n",
       "\n",
       "    .dataframe thead th {\n",
       "        text-align: right;\n",
       "    }\n",
       "</style>\n",
       "<table border=\"1\" class=\"dataframe\">\n",
       "  <thead>\n",
       "    <tr style=\"text-align: right;\">\n",
       "      <th></th>\n",
       "      <th>install</th>\n",
       "      <th>Time_stamp</th>\n",
       "      <th>Game_Name</th>\n",
       "      <th>Status</th>\n",
       "      <th>Payment</th>\n",
       "      <th>Customer_ID</th>\n",
       "      <th>date</th>\n",
       "    </tr>\n",
       "  </thead>\n",
       "  <tbody>\n",
       "    <tr>\n",
       "      <th>0</th>\n",
       "      <td>2022-01-08</td>\n",
       "      <td>2022-02-05</td>\n",
       "      <td>MineGround</td>\n",
       "      <td>play</td>\n",
       "      <td>4900</td>\n",
       "      <td>facilis140</td>\n",
       "      <td>2022-02</td>\n",
       "    </tr>\n",
       "    <tr>\n",
       "      <th>1</th>\n",
       "      <td>2022-01-05</td>\n",
       "      <td>2022-02-17</td>\n",
       "      <td>MineGround</td>\n",
       "      <td>play</td>\n",
       "      <td>29900</td>\n",
       "      <td>debitis994</td>\n",
       "      <td>2022-02</td>\n",
       "    </tr>\n",
       "    <tr>\n",
       "      <th>2</th>\n",
       "      <td>2022-01-29</td>\n",
       "      <td>2022-02-06</td>\n",
       "      <td>MineGround</td>\n",
       "      <td>play</td>\n",
       "      <td>4900</td>\n",
       "      <td>possimus246</td>\n",
       "      <td>2022-02</td>\n",
       "    </tr>\n",
       "    <tr>\n",
       "      <th>3</th>\n",
       "      <td>2022-01-09</td>\n",
       "      <td>2022-02-05</td>\n",
       "      <td>MineGround</td>\n",
       "      <td>play</td>\n",
       "      <td>900</td>\n",
       "      <td>occaecati138</td>\n",
       "      <td>2022-02</td>\n",
       "    </tr>\n",
       "    <tr>\n",
       "      <th>4</th>\n",
       "      <td>2022-01-08</td>\n",
       "      <td>2022-02-01</td>\n",
       "      <td>MineGround</td>\n",
       "      <td>play</td>\n",
       "      <td>900</td>\n",
       "      <td>corrupti325</td>\n",
       "      <td>2022-02</td>\n",
       "    </tr>\n",
       "  </tbody>\n",
       "</table>\n",
       "</div>"
      ],
      "text/plain": [
       "      install  Time_stamp   Game_Name Status  Payment   Customer_ID     date\n",
       "0  2022-01-08  2022-02-05  MineGround   play     4900    facilis140  2022-02\n",
       "1  2022-01-05  2022-02-17  MineGround   play    29900    debitis994  2022-02\n",
       "2  2022-01-29  2022-02-06  MineGround   play     4900   possimus246  2022-02\n",
       "3  2022-01-09  2022-02-05  MineGround   play      900  occaecati138  2022-02\n",
       "4  2022-01-08  2022-02-01  MineGround   play      900   corrupti325  2022-02"
      ]
     },
     "execution_count": 3,
     "metadata": {},
     "output_type": "execute_result"
    }
   ],
   "source": [
    "sales_data['date'] = sales_data['Time_stamp'].str[:7]\n",
    "sales_data.head()"
   ]
  },
  {
   "attachments": {},
   "cell_type": "markdown",
   "metadata": {},
   "source": [
    "항목별 데이터가 얼마나 있는지 보여주는 countplot을 그려보자"
   ]
  },
  {
   "cell_type": "code",
   "execution_count": 4,
   "metadata": {},
   "outputs": [
    {
     "data": {
      "image/png": "[encoded data removed]",
      "text/plain": [
       "<Figure size 432x288 with 1 Axes>"
      ]
     },
     "metadata": {
      "needs_background": "light"
     },
     "output_type": "display_data"
    }
   ],
   "source": [
    "# 월별 고객 수 현황 시각화하기\n",
    "ax = sns.countplot(data=sales_data, x='date')\n",
    "\n",
    "containers = ax.containers[0]\n",
    "ax.bar_label(containers, labels=[f'{x:,.0f}' for x in containers.datavalues], label_type='center')\n",
    "containers0 = ax.containers[-1]\n",
    "ax.bar_label(containers0, labels=[f'{x:,.0f}' for x in containers0.datavalues], label_type='center')\n",
    "plt.title('Customer By Month')\n",
    "\n",
    "plt.show()"
   ]
  },
  {
   "attachments": {},
   "cell_type": "markdown",
   "metadata": {},
   "source": [
    "매출은 줄었는데 고객이 늘었다니 이상하다."
   ]
  },
  {
   "attachments": {},
   "cell_type": "markdown",
   "metadata": {},
   "source": [
    "### 각 게임별 고객 숫자를 한 번 살펴보자."
   ]
  },
  {
   "cell_type": "code",
   "execution_count": 5,
   "metadata": {},
   "outputs": [
    {
     "data": {
      "text/plain": [
       "date     Game_Name    \n",
       "2022-02  MineGround       27721\n",
       "         SoccerManager    21659\n",
       "2022-03  MineGround       32192\n",
       "         SoccerManager    18273\n",
       "Name: Status, dtype: int64"
      ]
     },
     "execution_count": 5,
     "metadata": {},
     "output_type": "execute_result"
    }
   ],
   "source": [
    "# 월별 각 게임 고객 수 분류하기\n",
    "grouped = sales_data['Status'].groupby([sales_data['date'], sales_data['Game_Name']]).count()\n",
    "grouped"
   ]
  },
  {
   "attachments": {},
   "cell_type": "markdown",
   "metadata": {},
   "source": [
    "막대그래프를 그려 월별 각 게임 고객의 수를 시각화해보자."
   ]
  },
  {
   "cell_type": "code",
   "execution_count": 6,
   "metadata": {},
   "outputs": [
    {
     "data": {
      "image/png": "[encoded data removed]",
      "text/plain": [
       "<Figure size 432x288 with 1 Axes>"
      ]
     },
     "metadata": {
      "needs_background": "light"
     },
     "output_type": "display_data"
    }
   ],
   "source": [
    "# 월별 각 게임 고객 수 시각화하기\n",
    "ax = sns.barplot(data=grouped.reset_index(), x='date', y='Status', hue='Game_Name')\n",
    "\n",
    "containers = ax.containers[-1]\n",
    "containers0 = ax.containers[0]\n",
    "ax.bar_label(containers, labels=[f'{x:,.0f}' for x in containers.datavalues], label_type='center')\n",
    "ax.bar_label(containers0, labels=[f'{x:,.0f}' for x in containers0.datavalues], label_type='center')\n",
    "plt.title('Customer Count by Game')\n",
    "plt.show()"
   ]
  },
  {
   "attachments": {},
   "cell_type": "markdown",
   "metadata": {},
   "source": [
    "Mine Ground 고객은 증가했고, Soccer Manager 고객은 감소했다. <br>\n",
    "Soccer Manager 고객 수만 감소한 원인이 있을까? <br>\n",
    "<br>\n",
    "우선은 전체 기업 입장의 분석에 집중해보자."
   ]
  },
  {
   "attachments": {},
   "cell_type": "markdown",
   "metadata": {},
   "source": [
    "이번에는 게임을 플레이한 고객과 인스톨한 고객으로 구분해보자."
   ]
  },
  {
   "cell_type": "code",
   "execution_count": 7,
   "metadata": {},
   "outputs": [
    {
     "data": {
      "text/plain": [
       "play       84821\n",
       "install    15024\n",
       "Name: Status, dtype: int64"
      ]
     },
     "execution_count": 7,
     "metadata": {},
     "output_type": "execute_result"
    }
   ],
   "source": [
    "# sales_data의 Status 열에 포함된 값들의 개수 세어보기\n",
    "sales_data['Status'].value_counts()"
   ]
  },
  {
   "attachments": {},
   "cell_type": "markdown",
   "metadata": {},
   "source": [
    "countplot으로 시각화해보자"
   ]
  },
  {
   "cell_type": "code",
   "execution_count": 8,
   "metadata": {},
   "outputs": [
    {
     "data": {
      "image/png": "[encoded data removed]",
      "text/plain": [
       "<Figure size 432x288 with 1 Axes>"
      ]
     },
     "metadata": {
      "needs_background": "light"
     },
     "output_type": "display_data"
    }
   ],
   "source": [
    "ax = sns.countplot(data=sales_data, x='date', hue='Status')\n",
    "\n",
    "containers = ax.containers[-1]\n",
    "containers0 = ax.containers[0]\n",
    "ax.bar_label(containers, labels=[f'{x:,.0f}' for x in containers.datavalues], label_type='center')\n",
    "ax.bar_label(containers0, labels=[f'{x:,.0f}' for x in containers0.datavalues], label_type='center')\n",
    "plt.title('Customer by Status')\n",
    "plt.show()"
   ]
  },
  {
   "attachments": {},
   "cell_type": "markdown",
   "metadata": {},
   "source": [
    "인스톨한 고객은 증가했지만, 플레이한 고객은 감소했다."
   ]
  },
  {
   "attachments": {},
   "cell_type": "markdown",
   "metadata": {},
   "source": [
    "### 이번에는 월별 결제 건수를 살펴보자"
   ]
  },
  {
   "cell_type": "code",
   "execution_count": 9,
   "metadata": {},
   "outputs": [
    {
     "data": {
      "text/plain": [
       "2022-02    8542\n",
       "2022-03    6898\n",
       "Name: date, dtype: int64"
      ]
     },
     "execution_count": 9,
     "metadata": {},
     "output_type": "execute_result"
    }
   ],
   "source": [
    "temp_data = sales_data[sales_data['Payment'] !=0]\n",
    "temp_data['date'].value_counts()"
   ]
  },
  {
   "cell_type": "code",
   "execution_count": 10,
   "metadata": {},
   "outputs": [
    {
     "data": {
      "image/png": "[encoded data removed]",
      "text/plain": [
       "<Figure size 432x288 with 1 Axes>"
      ]
     },
     "metadata": {
      "needs_background": "light"
     },
     "output_type": "display_data"
    }
   ],
   "source": [
    "# 월별 결제 횟수 시각화하기\n",
    "ax = sns.countplot(data=temp_data, x='date')\n",
    "containers = ax.containers[0]\n",
    "ax.bar_label(containers, labels=[f'{x:,.0f}' for x in containers.datavalues], label_type='center')\n",
    "plt.title('Payment Counts by Month')\n",
    "plt.show()"
   ]
  },
  {
   "attachments": {},
   "cell_type": "markdown",
   "metadata": {},
   "source": [
    "결제 건수가 많이 줄었다. <br>\n",
    "Soccer Manager 고객 수가 줄었던 것을 감안하면 Soccer Manager의 결제 건수만 줄었을 것이다."
   ]
  },
  {
   "attachments": {},
   "cell_type": "markdown",
   "metadata": {},
   "source": [
    "확인을 위해 우선 각 게임별 결제 건수를 확인하고 막대 그래프를 이용해 시각화해보자."
   ]
  },
  {
   "cell_type": "code",
   "execution_count": 11,
   "metadata": {},
   "outputs": [
    {
     "data": {
      "text/plain": [
       "date     Game_Name    \n",
       "2022-02  MineGround       4318\n",
       "         SoccerManager    4224\n",
       "2022-03  MineGround       3762\n",
       "         SoccerManager    3136\n",
       "Name: Payment, dtype: int64"
      ]
     },
     "execution_count": 11,
     "metadata": {},
     "output_type": "execute_result"
    }
   ],
   "source": [
    "# 각 게임별 결제 건수 확인하기\n",
    "grouped = temp_data['Payment'].groupby([temp_data['date'], temp_data['Game_Name']]).count()\n",
    "grouped"
   ]
  },
  {
   "cell_type": "code",
   "execution_count": 12,
   "metadata": {},
   "outputs": [
    {
     "data": {
      "image/png": "[encoded data removed]",
      "text/plain": [
       "<Figure size 432x288 with 1 Axes>"
      ]
     },
     "metadata": {
      "needs_background": "light"
     },
     "output_type": "display_data"
    }
   ],
   "source": [
    "# 각 게임별 결제 건수 시각화하기\n",
    "ax = sns.barplot(data=grouped.reset_index(), x='date', y='Payment', hue='Game_Name')\n",
    "\n",
    "containers = ax.containers[-1]\n",
    "containers0 = ax.containers[0]\n",
    "ax.bar_label(containers, labels=[f'{x:,.0f}' for x in containers.datavalues], label_type='center')\n",
    "ax.bar_label(containers0, labels=[f'{x:,.0f}' for x in containers0.datavalues], label_type='center')\n",
    "plt.title('Payment Count By Game')\n",
    "plt.show()"
   ]
  },
  {
   "cell_type": "code",
   "execution_count": 13,
   "metadata": {},
   "outputs": [
    {
     "data": {
      "text/plain": [
       "date     Game_Name    \n",
       "2022-02  MineGround       42114200\n",
       "         SoccerManager    38727600\n",
       "2022-03  MineGround       38722800\n",
       "         SoccerManager    29638400\n",
       "Name: Payment, dtype: int64"
      ]
     },
     "execution_count": 13,
     "metadata": {},
     "output_type": "execute_result"
    }
   ],
   "source": [
    "# 각 게임별 결제 금액 확인하기\n",
    "grouped = temp_data['Payment'].groupby([temp_data['date'], temp_data['Game_Name']]).sum()\n",
    "grouped"
   ]
  },
  {
   "cell_type": "code",
   "execution_count": 14,
   "metadata": {},
   "outputs": [
    {
     "data": {
      "image/png": "[encoded data removed]",
      "text/plain": [
       "<Figure size 432x288 with 1 Axes>"
      ]
     },
     "metadata": {
      "needs_background": "light"
     },
     "output_type": "display_data"
    }
   ],
   "source": [
    "# 각 게임별 결제 금액 시각화하기\n",
    "ax = sns.barplot(data=grouped.reset_index(), x='date', y='Payment', hue='Game_Name')\n",
    "\n",
    "containers = ax.containers[-1]\n",
    "containers0 = ax.containers[0]\n",
    "ax.bar_label(containers, labels=[f'{x:,.0f}' for x in containers.datavalues], label_type='center')\n",
    "ax.bar_label(containers0, labels=[f'{x:,.0f}' for x in containers0.datavalues], label_type='center')\n",
    "plt.title('Total Payment By Game')\n",
    "plt.show()"
   ]
  },
  {
   "attachments": {},
   "cell_type": "markdown",
   "metadata": {},
   "source": [
    "Mine Ground와 Soccer Manager 모두 결제 건수와 결제 금액이 줄었다. <br>\n",
    "즉, 매출액이 줄어든 것에 대한 원인은 Soccer Manager의 고객 숫자가 줄얻느 것보다 두 게임에서의 결제 인원이 줄어든 것이 더 큰 원인이라고 볼 수 있다."
   ]
  },
  {
   "attachments": {},
   "cell_type": "markdown",
   "metadata": {},
   "source": [
    "### 이제 본격적으로 매출액에 영향을 주는 고객들을 정의하고 살펴보자"
   ]
  },
  {
   "cell_type": "code",
   "execution_count": 15,
   "metadata": {},
   "outputs": [
    {
     "data": {
      "text/html": [
       "<div>\n",
       "<style scoped>\n",
       "    .dataframe tbody tr th:only-of-type {\n",
       "        vertical-align: middle;\n",
       "    }\n",
       "\n",
       "    .dataframe tbody tr th {\n",
       "        vertical-align: top;\n",
       "    }\n",
       "\n",
       "    .dataframe thead th {\n",
       "        text-align: right;\n",
       "    }\n",
       "</style>\n",
       "<table border=\"1\" class=\"dataframe\">\n",
       "  <thead>\n",
       "    <tr style=\"text-align: right;\">\n",
       "      <th></th>\n",
       "      <th>install</th>\n",
       "      <th>Time_stamp</th>\n",
       "      <th>Game_Name</th>\n",
       "      <th>Status</th>\n",
       "      <th>Payment</th>\n",
       "      <th>Customer_ID</th>\n",
       "      <th>date</th>\n",
       "    </tr>\n",
       "  </thead>\n",
       "  <tbody>\n",
       "    <tr>\n",
       "      <th>0</th>\n",
       "      <td>2022-01-08</td>\n",
       "      <td>2022-02-05</td>\n",
       "      <td>MineGround</td>\n",
       "      <td>play</td>\n",
       "      <td>4900</td>\n",
       "      <td>facilis140</td>\n",
       "      <td>2022-02</td>\n",
       "    </tr>\n",
       "    <tr>\n",
       "      <th>1</th>\n",
       "      <td>2022-01-05</td>\n",
       "      <td>2022-02-17</td>\n",
       "      <td>MineGround</td>\n",
       "      <td>play</td>\n",
       "      <td>29900</td>\n",
       "      <td>debitis994</td>\n",
       "      <td>2022-02</td>\n",
       "    </tr>\n",
       "    <tr>\n",
       "      <th>2</th>\n",
       "      <td>2022-01-29</td>\n",
       "      <td>2022-02-06</td>\n",
       "      <td>MineGround</td>\n",
       "      <td>play</td>\n",
       "      <td>4900</td>\n",
       "      <td>possimus246</td>\n",
       "      <td>2022-02</td>\n",
       "    </tr>\n",
       "    <tr>\n",
       "      <th>3</th>\n",
       "      <td>2022-01-09</td>\n",
       "      <td>2022-02-05</td>\n",
       "      <td>MineGround</td>\n",
       "      <td>play</td>\n",
       "      <td>900</td>\n",
       "      <td>occaecati138</td>\n",
       "      <td>2022-02</td>\n",
       "    </tr>\n",
       "    <tr>\n",
       "      <th>4</th>\n",
       "      <td>2022-01-08</td>\n",
       "      <td>2022-02-01</td>\n",
       "      <td>MineGround</td>\n",
       "      <td>play</td>\n",
       "      <td>900</td>\n",
       "      <td>corrupti325</td>\n",
       "      <td>2022-02</td>\n",
       "    </tr>\n",
       "    <tr>\n",
       "      <th>...</th>\n",
       "      <td>...</td>\n",
       "      <td>...</td>\n",
       "      <td>...</td>\n",
       "      <td>...</td>\n",
       "      <td>...</td>\n",
       "      <td>...</td>\n",
       "      <td>...</td>\n",
       "    </tr>\n",
       "    <tr>\n",
       "      <th>84816</th>\n",
       "      <td>2022-03-06</td>\n",
       "      <td>2022-03-11</td>\n",
       "      <td>SoccerManager</td>\n",
       "      <td>play</td>\n",
       "      <td>0</td>\n",
       "      <td>sed821</td>\n",
       "      <td>2022-03</td>\n",
       "    </tr>\n",
       "    <tr>\n",
       "      <th>84817</th>\n",
       "      <td>2022-03-20</td>\n",
       "      <td>2022-03-23</td>\n",
       "      <td>SoccerManager</td>\n",
       "      <td>play</td>\n",
       "      <td>0</td>\n",
       "      <td>minima581</td>\n",
       "      <td>2022-03</td>\n",
       "    </tr>\n",
       "    <tr>\n",
       "      <th>84818</th>\n",
       "      <td>2022-03-25</td>\n",
       "      <td>2022-03-27</td>\n",
       "      <td>SoccerManager</td>\n",
       "      <td>play</td>\n",
       "      <td>0</td>\n",
       "      <td>harum162</td>\n",
       "      <td>2022-03</td>\n",
       "    </tr>\n",
       "    <tr>\n",
       "      <th>84819</th>\n",
       "      <td>2022-03-15</td>\n",
       "      <td>2022-03-18</td>\n",
       "      <td>SoccerManager</td>\n",
       "      <td>play</td>\n",
       "      <td>0</td>\n",
       "      <td>eveniet498</td>\n",
       "      <td>2022-03</td>\n",
       "    </tr>\n",
       "    <tr>\n",
       "      <th>84820</th>\n",
       "      <td>2022-03-12</td>\n",
       "      <td>2022-03-17</td>\n",
       "      <td>SoccerManager</td>\n",
       "      <td>play</td>\n",
       "      <td>0</td>\n",
       "      <td>quis906</td>\n",
       "      <td>2022-03</td>\n",
       "    </tr>\n",
       "  </tbody>\n",
       "</table>\n",
       "<p>84821 rows × 7 columns</p>\n",
       "</div>"
      ],
      "text/plain": [
       "          install  Time_stamp      Game_Name Status  Payment   Customer_ID  \\\n",
       "0      2022-01-08  2022-02-05     MineGround   play     4900    facilis140   \n",
       "1      2022-01-05  2022-02-17     MineGround   play    29900    debitis994   \n",
       "2      2022-01-29  2022-02-06     MineGround   play     4900   possimus246   \n",
       "3      2022-01-09  2022-02-05     MineGround   play      900  occaecati138   \n",
       "4      2022-01-08  2022-02-01     MineGround   play      900   corrupti325   \n",
       "...           ...         ...            ...    ...      ...           ...   \n",
       "84816  2022-03-06  2022-03-11  SoccerManager   play        0        sed821   \n",
       "84817  2022-03-20  2022-03-23  SoccerManager   play        0     minima581   \n",
       "84818  2022-03-25  2022-03-27  SoccerManager   play        0      harum162   \n",
       "84819  2022-03-15  2022-03-18  SoccerManager   play        0    eveniet498   \n",
       "84820  2022-03-12  2022-03-17  SoccerManager   play        0       quis906   \n",
       "\n",
       "          date  \n",
       "0      2022-02  \n",
       "1      2022-02  \n",
       "2      2022-02  \n",
       "3      2022-02  \n",
       "4      2022-02  \n",
       "...        ...  \n",
       "84816  2022-03  \n",
       "84817  2022-03  \n",
       "84818  2022-03  \n",
       "84819  2022-03  \n",
       "84820  2022-03  \n",
       "\n",
       "[84821 rows x 7 columns]"
      ]
     },
     "execution_count": 15,
     "metadata": {},
     "output_type": "execute_result"
    }
   ],
   "source": [
    "# player_data변수를 만들고 sales_data에서 Status가 play인 고객들만 골라내 할당하기\n",
    "player_data = sales_data[sales_data['Status'] == 'play']\n",
    "player_data"
   ]
  },
  {
   "attachments": {},
   "cell_type": "markdown",
   "metadata": {},
   "source": [
    "게임을 설치하고 한 번이라도 플레이한 고객들은 총 84821명인 것을 알 수 있다. <br>\n",
    "전체 고객 숫자가 99845명이니까 플레이 비율은 약 84.9% 수준이다."
   ]
  },
  {
   "attachments": {},
   "cell_type": "markdown",
   "metadata": {},
   "source": [
    "### 이번에는 신규 고객과 기존 고객을 구분해보자"
   ]
  },
  {
   "cell_type": "code",
   "execution_count": 16,
   "metadata": {},
   "outputs": [
    {
     "name": "stderr",
     "output_type": "stream",
     "text": [
      "C:\\Users\\Soyeong\\AppData\\Local\\Temp\\ipykernel_3488\\4267768722.py:2: SettingWithCopyWarning: \n",
      "A value is trying to be set on a copy of a slice from a DataFrame.\n",
      "Try using .loc[row_indexer,col_indexer] = value instead\n",
      "\n",
      "See the caveats in the documentation: https://pandas.pydata.org/pandas-docs/stable/user_guide/indexing.html#returning-a-view-versus-a-copy\n",
      "  player_data['install_date'] = player_data['install'].copy().str[:7]\n",
      "C:\\Users\\Soyeong\\AppData\\Local\\Temp\\ipykernel_3488\\4267768722.py:3: SettingWithCopyWarning: \n",
      "A value is trying to be set on a copy of a slice from a DataFrame.\n",
      "Try using .loc[row_indexer,col_indexer] = value instead\n",
      "\n",
      "See the caveats in the documentation: https://pandas.pydata.org/pandas-docs/stable/user_guide/indexing.html#returning-a-view-versus-a-copy\n",
      "  player_data['play_date'] = player_data['Time_stamp'].copy().str[:7]\n"
     ]
    }
   ],
   "source": [
    "# plater_data에 install_date열을 만들고, install열 값의 7번째 값까지 입력\n",
    "player_data['install_date'] = player_data['install'].copy().str[:7]\n",
    "player_data['play_date'] = player_data['Time_stamp'].copy().str[:7]"
   ]
  },
  {
   "attachments": {},
   "cell_type": "markdown",
   "metadata": {},
   "source": [
    "플레이한 고객들이 인스톨한 날과 비교해서 <br>\n",
    "인스톨한 시기가 플레이한 시기가 같으면 신규 고객으로, 아니면 기존 고객으로 정의"
   ]
  },
  {
   "cell_type": "code",
   "execution_count": 17,
   "metadata": {},
   "outputs": [
    {
     "name": "stderr",
     "output_type": "stream",
     "text": [
      "C:\\Users\\Soyeong\\AppData\\Local\\Temp\\ipykernel_3488\\3421111074.py:2: SettingWithCopyWarning: \n",
      "A value is trying to be set on a copy of a slice from a DataFrame.\n",
      "Try using .loc[row_indexer,col_indexer] = value instead\n",
      "\n",
      "See the caveats in the documentation: https://pandas.pydata.org/pandas-docs/stable/user_guide/indexing.html#returning-a-view-versus-a-copy\n",
      "  player_data['type'] = np.where(player_data['install_date']==player_data['play_date'], 'New Player', 'Existing')\n"
     ]
    }
   ],
   "source": [
    "# plater_data에 type열을 만들고, install_date와 play_date열의 값이 같으면 New Player을 입력, 값이 다르면 Existing을 입력\n",
    "player_data['type'] = np.where(player_data['install_date']==player_data['play_date'], 'New Player', 'Existing')"
   ]
  },
  {
   "cell_type": "code",
   "execution_count": 18,
   "metadata": {},
   "outputs": [
    {
     "data": {
      "text/plain": [
       "play_date  type      \n",
       "2022-02    Existing      28668\n",
       "           New Player    15480\n",
       "2022-03    Existing      28207\n",
       "           New Player    12466\n",
       "Name: Status, dtype: int64"
      ]
     },
     "execution_count": 18,
     "metadata": {},
     "output_type": "execute_result"
    }
   ],
   "source": [
    "# 월별 신규 고객과 기존 고객 현황 세어보기\n",
    "grouped = player_data['Status'].groupby([player_data['play_date'], player_data['type']]).count()\n",
    "grouped"
   ]
  },
  {
   "cell_type": "code",
   "execution_count": 19,
   "metadata": {},
   "outputs": [
    {
     "data": {
      "image/png": "[encoded data removed]",
      "text/plain": [
       "<Figure size 432x288 with 1 Axes>"
      ]
     },
     "metadata": {
      "needs_background": "light"
     },
     "output_type": "display_data"
    }
   ],
   "source": [
    "# 월별 신규 고객과 기존 고객 현황 시각화하기\n",
    "ax = sns.countplot(data=player_data, x='play_date', hue=\"type\")\n",
    "\n",
    "containers = ax.containers[-1]\n",
    "containers0 = ax.containers[0]\n",
    "ax.bar_label(containers, labels=[f'{x:,.0f}' for x in containers.datavalues], label_type='center')\n",
    "ax.bar_label(containers0, labels=[f'{x:,.0f}' for x in containers0.datavalues], label_type='center')\n",
    "plt.title('Customer Type By Month')\n",
    "plt.show()"
   ]
  },
  {
   "attachments": {},
   "cell_type": "markdown",
   "metadata": {},
   "source": [
    "기존 플레이 고객은 461명, 신규 플레이 고객은 3014명이 감소했다. <br>\n",
    "플레이 인원이 줄고 있다는 것은 큰 문제이다...!"
   ]
  },
  {
   "attachments": {},
   "cell_type": "markdown",
   "metadata": {},
   "source": [
    "### 이번에는 주 관심사인 결제금액을 살펴보자"
   ]
  },
  {
   "cell_type": "code",
   "execution_count": 20,
   "metadata": {},
   "outputs": [
    {
     "data": {
      "text/plain": [
       "play_date  type      \n",
       "2022-02    Existing      50140500\n",
       "           New Player    30701300\n",
       "2022-03    Existing      50140500\n",
       "           New Player    18220700\n",
       "Name: Payment, dtype: int64"
      ]
     },
     "execution_count": 20,
     "metadata": {},
     "output_type": "execute_result"
    }
   ],
   "source": [
    "# 월별 신규 고객과 기존 고객의 결제 현황 살펴보기\n",
    "grouped = player_data[\"Payment\"].groupby([player_data[\"play_date\"], player_data[\"type\"]]).sum()\n",
    "grouped"
   ]
  },
  {
   "cell_type": "code",
   "execution_count": 21,
   "metadata": {},
   "outputs": [
    {
     "data": {
      "image/png": "[encoded data removed]",
      "text/plain": [
       "<Figure size 432x288 with 1 Axes>"
      ]
     },
     "metadata": {
      "needs_background": "light"
     },
     "output_type": "display_data"
    }
   ],
   "source": [
    "# 각 게임별 결제 금액 월별 시각화하기\n",
    "ax = sns.barplot(data=grouped.reset_index(), x='play_date', y='Payment', hue='type')\n",
    "\n",
    "containers = ax.containers[-1]\n",
    "containers0 = ax.containers[0]\n",
    "ax.bar_label(containers, labels=[f'{x:,.0f}' for x in containers.datavalues], label_type='center')\n",
    "ax.bar_label(containers0, labels=[f'{x:,.0f}' for x in containers0.datavalues], label_type='center')\n",
    "plt.title('Customer Type By Month')\n",
    "plt.show()"
   ]
  },
  {
   "attachments": {},
   "cell_type": "markdown",
   "metadata": {},
   "source": [
    "이번에는 누적막대그래프를 사용해서 월별 신규 고객과 기존 고객의 결제 현황을 시각화해보자"
   ]
  },
  {
   "cell_type": "code",
   "execution_count": 22,
   "metadata": {},
   "outputs": [
    {
     "data": {
      "image/png": "[encoded data removed]",
      "text/plain": [
       "<Figure size 432x432 with 1 Axes>"
      ]
     },
     "metadata": {
      "needs_background": "light"
     },
     "output_type": "display_data"
    }
   ],
   "source": [
    "#월별 신규 고객과 기존 고객의 결제 현황 시각화하기(누적막대 보기)\n",
    "ax = grouped.unstack().plot(kind='bar', stacked=True, grid=False, figsize=[6,6])\n",
    "\n",
    "containers = ax.containers[-1]\n",
    "ax.bar_label(containers, labels=[f'{x:,.0f}' for x in containers.datavalues], label_type='center')\n",
    "containers0 = ax.containers[-2]\n",
    "ax.bar_label(containers0, labels=[f'{x:,.0f}' for x in containers0.datavalues], label_type='center')\n",
    "\n",
    "plt.title('Payment by Type')\n",
    "plt.show()"
   ]
  },
  {
   "attachments": {},
   "cell_type": "markdown",
   "metadata": {},
   "source": [
    "기존 고객이 결제한 금액은 동일한데 신규 고객이 결제한 금액은 40% 정도 감소했다. <br>\n",
    "같은 기간에 신규 고객이 19% 가량 줄어든 것을 감안해도 결제 금액이 많이 줄었다. <br>\n",
    "대책 마련이 시급하다."
   ]
  },
  {
   "attachments": {},
   "cell_type": "markdown",
   "metadata": {},
   "source": [
    "### 신규 고객들이 결제한 금액을 보고 대응 전략을 마련해보도록 하자"
   ]
  },
  {
   "cell_type": "code",
   "execution_count": 23,
   "metadata": {},
   "outputs": [
    {
     "data": {
      "text/html": [
       "<div>\n",
       "<style scoped>\n",
       "    .dataframe tbody tr th:only-of-type {\n",
       "        vertical-align: middle;\n",
       "    }\n",
       "\n",
       "    .dataframe tbody tr th {\n",
       "        vertical-align: top;\n",
       "    }\n",
       "\n",
       "    .dataframe thead th {\n",
       "        text-align: right;\n",
       "    }\n",
       "</style>\n",
       "<table border=\"1\" class=\"dataframe\">\n",
       "  <thead>\n",
       "    <tr style=\"text-align: right;\">\n",
       "      <th></th>\n",
       "      <th>install</th>\n",
       "      <th>Time_stamp</th>\n",
       "      <th>Game_Name</th>\n",
       "      <th>Status</th>\n",
       "      <th>Payment</th>\n",
       "      <th>Customer_ID</th>\n",
       "      <th>date</th>\n",
       "      <th>install_date</th>\n",
       "      <th>play_date</th>\n",
       "    </tr>\n",
       "    <tr>\n",
       "      <th>type</th>\n",
       "      <th></th>\n",
       "      <th></th>\n",
       "      <th></th>\n",
       "      <th></th>\n",
       "      <th></th>\n",
       "      <th></th>\n",
       "      <th></th>\n",
       "      <th></th>\n",
       "      <th></th>\n",
       "    </tr>\n",
       "  </thead>\n",
       "  <tbody>\n",
       "    <tr>\n",
       "      <th>Existing</th>\n",
       "      <td>2022-01-08</td>\n",
       "      <td>2022-02-05</td>\n",
       "      <td>MineGround</td>\n",
       "      <td>play</td>\n",
       "      <td>4900</td>\n",
       "      <td>facilis140</td>\n",
       "      <td>2022-02</td>\n",
       "      <td>2022-01</td>\n",
       "      <td>2022-02</td>\n",
       "    </tr>\n",
       "    <tr>\n",
       "      <th>Existing</th>\n",
       "      <td>2022-01-05</td>\n",
       "      <td>2022-02-17</td>\n",
       "      <td>MineGround</td>\n",
       "      <td>play</td>\n",
       "      <td>29900</td>\n",
       "      <td>debitis994</td>\n",
       "      <td>2022-02</td>\n",
       "      <td>2022-01</td>\n",
       "      <td>2022-02</td>\n",
       "    </tr>\n",
       "    <tr>\n",
       "      <th>Existing</th>\n",
       "      <td>2022-01-29</td>\n",
       "      <td>2022-02-06</td>\n",
       "      <td>MineGround</td>\n",
       "      <td>play</td>\n",
       "      <td>4900</td>\n",
       "      <td>possimus246</td>\n",
       "      <td>2022-02</td>\n",
       "      <td>2022-01</td>\n",
       "      <td>2022-02</td>\n",
       "    </tr>\n",
       "    <tr>\n",
       "      <th>Existing</th>\n",
       "      <td>2022-01-09</td>\n",
       "      <td>2022-02-05</td>\n",
       "      <td>MineGround</td>\n",
       "      <td>play</td>\n",
       "      <td>900</td>\n",
       "      <td>occaecati138</td>\n",
       "      <td>2022-02</td>\n",
       "      <td>2022-01</td>\n",
       "      <td>2022-02</td>\n",
       "    </tr>\n",
       "    <tr>\n",
       "      <th>Existing</th>\n",
       "      <td>2022-01-08</td>\n",
       "      <td>2022-02-01</td>\n",
       "      <td>MineGround</td>\n",
       "      <td>play</td>\n",
       "      <td>900</td>\n",
       "      <td>corrupti325</td>\n",
       "      <td>2022-02</td>\n",
       "      <td>2022-01</td>\n",
       "      <td>2022-02</td>\n",
       "    </tr>\n",
       "    <tr>\n",
       "      <th>...</th>\n",
       "      <td>...</td>\n",
       "      <td>...</td>\n",
       "      <td>...</td>\n",
       "      <td>...</td>\n",
       "      <td>...</td>\n",
       "      <td>...</td>\n",
       "      <td>...</td>\n",
       "      <td>...</td>\n",
       "      <td>...</td>\n",
       "    </tr>\n",
       "    <tr>\n",
       "      <th>New Player</th>\n",
       "      <td>2022-03-06</td>\n",
       "      <td>2022-03-11</td>\n",
       "      <td>SoccerManager</td>\n",
       "      <td>play</td>\n",
       "      <td>0</td>\n",
       "      <td>sed821</td>\n",
       "      <td>2022-03</td>\n",
       "      <td>2022-03</td>\n",
       "      <td>2022-03</td>\n",
       "    </tr>\n",
       "    <tr>\n",
       "      <th>New Player</th>\n",
       "      <td>2022-03-20</td>\n",
       "      <td>2022-03-23</td>\n",
       "      <td>SoccerManager</td>\n",
       "      <td>play</td>\n",
       "      <td>0</td>\n",
       "      <td>minima581</td>\n",
       "      <td>2022-03</td>\n",
       "      <td>2022-03</td>\n",
       "      <td>2022-03</td>\n",
       "    </tr>\n",
       "    <tr>\n",
       "      <th>New Player</th>\n",
       "      <td>2022-03-25</td>\n",
       "      <td>2022-03-27</td>\n",
       "      <td>SoccerManager</td>\n",
       "      <td>play</td>\n",
       "      <td>0</td>\n",
       "      <td>harum162</td>\n",
       "      <td>2022-03</td>\n",
       "      <td>2022-03</td>\n",
       "      <td>2022-03</td>\n",
       "    </tr>\n",
       "    <tr>\n",
       "      <th>New Player</th>\n",
       "      <td>2022-03-15</td>\n",
       "      <td>2022-03-18</td>\n",
       "      <td>SoccerManager</td>\n",
       "      <td>play</td>\n",
       "      <td>0</td>\n",
       "      <td>eveniet498</td>\n",
       "      <td>2022-03</td>\n",
       "      <td>2022-03</td>\n",
       "      <td>2022-03</td>\n",
       "    </tr>\n",
       "    <tr>\n",
       "      <th>New Player</th>\n",
       "      <td>2022-03-12</td>\n",
       "      <td>2022-03-17</td>\n",
       "      <td>SoccerManager</td>\n",
       "      <td>play</td>\n",
       "      <td>0</td>\n",
       "      <td>quis906</td>\n",
       "      <td>2022-03</td>\n",
       "      <td>2022-03</td>\n",
       "      <td>2022-03</td>\n",
       "    </tr>\n",
       "  </tbody>\n",
       "</table>\n",
       "<p>84821 rows × 9 columns</p>\n",
       "</div>"
      ],
      "text/plain": [
       "               install  Time_stamp      Game_Name Status  Payment  \\\n",
       "type                                                                \n",
       "Existing    2022-01-08  2022-02-05     MineGround   play     4900   \n",
       "Existing    2022-01-05  2022-02-17     MineGround   play    29900   \n",
       "Existing    2022-01-29  2022-02-06     MineGround   play     4900   \n",
       "Existing    2022-01-09  2022-02-05     MineGround   play      900   \n",
       "Existing    2022-01-08  2022-02-01     MineGround   play      900   \n",
       "...                ...         ...            ...    ...      ...   \n",
       "New Player  2022-03-06  2022-03-11  SoccerManager   play        0   \n",
       "New Player  2022-03-20  2022-03-23  SoccerManager   play        0   \n",
       "New Player  2022-03-25  2022-03-27  SoccerManager   play        0   \n",
       "New Player  2022-03-15  2022-03-18  SoccerManager   play        0   \n",
       "New Player  2022-03-12  2022-03-17  SoccerManager   play        0   \n",
       "\n",
       "             Customer_ID     date install_date play_date  \n",
       "type                                                      \n",
       "Existing      facilis140  2022-02      2022-01   2022-02  \n",
       "Existing      debitis994  2022-02      2022-01   2022-02  \n",
       "Existing     possimus246  2022-02      2022-01   2022-02  \n",
       "Existing    occaecati138  2022-02      2022-01   2022-02  \n",
       "Existing     corrupti325  2022-02      2022-01   2022-02  \n",
       "...                  ...      ...          ...       ...  \n",
       "New Player        sed821  2022-03      2022-03   2022-03  \n",
       "New Player     minima581  2022-03      2022-03   2022-03  \n",
       "New Player      harum162  2022-03      2022-03   2022-03  \n",
       "New Player    eveniet498  2022-03      2022-03   2022-03  \n",
       "New Player       quis906  2022-03      2022-03   2022-03  \n",
       "\n",
       "[84821 rows x 9 columns]"
      ]
     },
     "execution_count": 23,
     "metadata": {},
     "output_type": "execute_result"
    }
   ],
   "source": [
    "# play_date의 인덱스를 type으로 지정하기\n",
    "payment_data = player_data.set_index('type', drop=True)\n",
    "payment_data"
   ]
  },
  {
   "cell_type": "code",
   "execution_count": 24,
   "metadata": {},
   "outputs": [],
   "source": [
    "# 인덱스에서 Existing을 삭제하고 신규 고객들만 남기기\n",
    "payment_data.drop('Existing', inplace=True)"
   ]
  },
  {
   "cell_type": "code",
   "execution_count": 25,
   "metadata": {},
   "outputs": [],
   "source": [
    "# payment_data의 인덱스를 Payment로 지정하기\n",
    "payment_data = payment_data.set_index('Payment')\n",
    "\n",
    "# Payment_data의 인덱스에서 0을 삭제하고 결제 이력이 있는 고객만 남기기\n",
    "payment_data.drop(0, inplace=True)\n",
    "payment_data = payment_data.reset_index()"
   ]
  },
  {
   "cell_type": "code",
   "execution_count": 26,
   "metadata": {},
   "outputs": [],
   "source": [
    "# 고객의 결제이력을 월별로 구분하기\n",
    "payment_data_02 = payment_data.set_index('play_date').loc['2022-02'].Payment.values\n",
    "payment_data_03 = payment_data.set_index('play_date').loc['2022-03'].Payment.values\n",
    "\n",
    "# 월별 데이터를 하나로 합치기\n",
    "total_payment = np.array([payment_data_02, payment_data_03],dtype=object,)"
   ]
  },
  {
   "cell_type": "code",
   "execution_count": 27,
   "metadata": {},
   "outputs": [
    {
     "data": {
      "image/png": "[encoded data removed]",
      "text/plain": [
       "<Figure size 432x288 with 1 Axes>"
      ]
     },
     "metadata": {
      "needs_background": "light"
     },
     "output_type": "display_data"
    }
   ],
   "source": [
    "# 신규 고객들의 결제이력을 히스토그램으로 그리기\n",
    "bins = np.linspace(0, 50000, 10) # 0에서 시작해서 50,000까지 10의 간격으로 x축을 설정합니다.\n",
    "plt.xlabel(\"Payments\")\n",
    "plt.ylabel(\"Count\")\n",
    "plt.hist(total_payment, bins, label=['2022-02', '2022-03'])\n",
    "plt.title(\"New Player Payment Histogram\", fontsize=15)\n",
    "plt.show()"
   ]
  },
  {
   "attachments": {},
   "cell_type": "markdown",
   "metadata": {},
   "source": [
    "신규 고객들의 경우 모든 금액대에서 결제건수가 줄었다."
   ]
  },
  {
   "attachments": {},
   "cell_type": "markdown",
   "metadata": {},
   "source": [
    "### 기존 고객들의 결제 건수를 확인해보자"
   ]
  },
  {
   "cell_type": "code",
   "execution_count": 28,
   "metadata": {},
   "outputs": [
    {
     "data": {
      "image/png": "[encoded data removed]",
      "text/plain": [
       "<Figure size 432x288 with 1 Axes>"
      ]
     },
     "metadata": {
      "needs_background": "light"
     },
     "output_type": "display_data"
    }
   ],
   "source": [
    "# play_date의 인덱스를 type으로 지정하기\n",
    "payment_data = player_data.set_index('type', drop=True)\n",
    "\n",
    "# 인덱스에서 New_player을 삭제하고 기존 고객들만 남기기\n",
    "payment_data = payment_data.drop('New Player')\n",
    "\n",
    "# payment_data의 인덱스를 Payment로 지정하기\n",
    "payment_data = payment_data.set_index(\"Payment\")\n",
    "\n",
    "# Payment_data의 인덱스에서 0을 삭제하고 결제 이력이 있는 고객만 남기기\n",
    "payment_data = payment_data.drop(0)\n",
    "payment_data = payment_data.reset_index()\n",
    "\n",
    "# 고객의 결제이력을 월별로 구분하기\n",
    "payment_data_02 = payment_data.set_index('play_date').loc['2022-02'].Payment.values\n",
    "payment_data_03 = payment_data.set_index('play_date').loc['2022-03'].Payment.values\n",
    "\n",
    "# 월별 데이터를 하나로 합치기\n",
    "total_payment = np.array([payment_data_02, payment_data_03],dtype=object,)\n",
    "\n",
    "# 기존 고객들의 결제이력을 히스토그램으로 그리기\n",
    "bins = np.linspace(0, 50000, 10)\n",
    "plt.xlabel(\"Payments\")\n",
    "plt.ylabel(\"Count\")\n",
    "plt.hist(total_payment, bins, label=['2022-02', '2022-03'])\n",
    "plt.title(\"Player Payment Histogram\", fontsize=15)\n",
    "plt.show()"
   ]
  },
  {
   "attachments": {},
   "cell_type": "markdown",
   "metadata": {},
   "source": [
    "기존 고객의 경우 소액결제금액은 줄었지만 30000원 이상 구간부터는 오히려 결제건수가 늘었다. <br>\n",
    "각 고객들별로 다른 대응 전략이 필요할 것 같다."
   ]
  },
  {
   "attachments": {},
   "cell_type": "markdown",
   "metadata": {},
   "source": [
    "### 전략 수립 및 실행\n",
    "지금까지 분석 결과를 통해 다음과 같은 사실을 확인할 수 있었다.\n",
    "\n",
    "- 고객수는 증가했지만 총 매출액은 감소하고 있다.\n",
    "- 그러나 게임을 새로 인스톨한 고객이 증가했을 뿐, 매출에 도움이 되는 플레이 고객은 줄어들었다.\n",
    "- 특히 각 게임 모두 결제 건수와 결제 금액이 줄어들었다.\n",
    "- 반면 기존 고객들의 결제 현황은 변화가 없었으나, 신규 고객들의 결제 금액은 현저히 줄어들었다.\n",
    "\n",
    "이상의 사실을 근거로 판단해볼 때, 신규 고객의 결제가 줄어 우리 기업의 매출액이 줄어들었다는 것을 확인할 수 있다. <br>\n",
    "이제 이 결과를 바탕으로 매출액을 다시 끌어올리기 위한 전략을 수립해보자. <br>\n",
    "<br>\n",
    "\n",
    "우선 타겟은 신규 고객과 기존 고객으로 나누어진다. <br>\n",
    "<br>\n",
    "신규 고객의 경우 줄어들고 있는 플레이 고객의 수를 확보하는 것이 중요하다.<br>\n",
    "또 월별 소액결제 차이가 상대적으로 심하게 발생하고 있다.<br>\n",
    "따라서 소액결제를 통해 얻을 수 있는 혜택을 늘리는 한편, 신규 고객을 끌어모으기 위한 컨셉의 광고를 수행할 필요가 있을 것 같다.<br>\n",
    "유명 연예인이 등장하는 광고 전략이 좋을 것 같다.<br>\n",
    "<br>\n",
    "반면 기존 고객의 경우 소액결제가 줄어든 측면도 있지만 고액 결제 부분이 더 눈에 띈다. 오히려 증가했기 때문이다. <br>\n",
    "기존 고객들에게는 게임에 대한 관심을 환기하고 과금 규모를 조금 더 늘릴 수 있는 게임 내 이벤트를 수행하는게 좋을 것 같다."
   ]
  }
 ],
 "metadata": {
  "kernelspec": {
   "display_name": "Python 3",
   "language": "python",
   "name": "python3"
  },
  "language_info": {
   "codemirror_mode": {
    "name": "ipython",
    "version": 3
   },
   "file_extension": ".py",
   "mimetype": "text/x-python",
   "name": "python",
   "nbconvert_exporter": "python",
   "pygments_lexer": "ipython3",
   "version": "3.10.2"
  },
  "orig_nbformat": 4
 },
 "nbformat": 4,
 "nbformat_minor": 2
}
