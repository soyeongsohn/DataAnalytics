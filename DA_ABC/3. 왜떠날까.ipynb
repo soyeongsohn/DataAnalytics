{
 "cells": [
  {
   "attachments": {},
   "cell_type": "markdown",
   "metadata": {},
   "source": [
    "# 우리 기업의 고객은 왜 떠나갈까?"
   ]
  },
  {
   "attachments": {},
   "cell_type": "markdown",
   "metadata": {},
   "source": [
    "## 상황 인식과 문제 정의"
   ]
  },
  {
   "attachments": {},
   "cell_type": "markdown",
   "metadata": {},
   "source": [
    "### 1) 상황 인식\n",
    "데이터에 또 다른 문제가 있는지 살펴보자"
   ]
  },
  {
   "attachments": {
    "image.png": {
     "image/png": "[encoded data removed]"
    }
   },
   "cell_type": "markdown",
   "metadata": {},
   "source": [
    "### 2) 문제 정의\n",
    "> 핵심 문제: 우리 기업의 고객은 왜 떠나가고 있는가?\n",
    "\n",
    "2, 3월에 이어 4월도 고객이 또 줄었다. <br>\n",
    "분명 무슨 문제가 있는게 분명하다. <br>\n",
    "일반적으로 이런 경우 시장을 지배할만한 강력한 경쟁 게임이 등장했을 가능성이 높은데 그것도 아니다. <br>\n",
    "![image.png](attachment:image.png) <br>\n",
    "고객이 왜 떠나는지 알아보자"
   ]
  },
  {
   "attachments": {},
   "cell_type": "markdown",
   "metadata": {},
   "source": [
    "## 데이터 분석"
   ]
  },
  {
   "cell_type": "code",
   "execution_count": 1,
   "metadata": {},
   "outputs": [],
   "source": [
    "import pandas as pd\n",
    "import numpy as np\n",
    "import matplotlib.pyplot as plt\n",
    "plt.style.use('default')\n",
    "import seaborn as sns"
   ]
  },
  {
   "cell_type": "code",
   "execution_count": 3,
   "metadata": {},
   "outputs": [],
   "source": [
    "sales_data = pd.read_csv('./data/sales_7.csv')\n",
    "customer_data = pd.read_csv('./data/customer_7.csv')"
   ]
  },
  {
   "cell_type": "code",
   "execution_count": 4,
   "metadata": {},
   "outputs": [
    {
     "data": {
      "text/html": [
       "<div>\n",
       "<style scoped>\n",
       "    .dataframe tbody tr th:only-of-type {\n",
       "        vertical-align: middle;\n",
       "    }\n",
       "\n",
       "    .dataframe tbody tr th {\n",
       "        vertical-align: top;\n",
       "    }\n",
       "\n",
       "    .dataframe thead th {\n",
       "        text-align: right;\n",
       "    }\n",
       "</style>\n",
       "<table border=\"1\" class=\"dataframe\">\n",
       "  <thead>\n",
       "    <tr style=\"text-align: right;\">\n",
       "      <th></th>\n",
       "      <th>Customer_ID</th>\n",
       "      <th>Name</th>\n",
       "      <th>Nickname</th>\n",
       "      <th>Password</th>\n",
       "      <th>Email</th>\n",
       "      <th>Birth</th>\n",
       "      <th>Gender</th>\n",
       "      <th>C.P.</th>\n",
       "      <th>MobileCompany</th>\n",
       "      <th>OS</th>\n",
       "    </tr>\n",
       "  </thead>\n",
       "  <tbody>\n",
       "    <tr>\n",
       "      <th>0</th>\n",
       "      <td>facilis140</td>\n",
       "      <td>이영순</td>\n",
       "      <td>quos</td>\n",
       "      <td>********</td>\n",
       "      <td>coejongsu@yu.kr</td>\n",
       "      <td>1989-03-11</td>\n",
       "      <td>female</td>\n",
       "      <td>01x9-4x625-x5x3x</td>\n",
       "      <td>LGU</td>\n",
       "      <td>iOS</td>\n",
       "    </tr>\n",
       "    <tr>\n",
       "      <th>1</th>\n",
       "      <td>debitis994</td>\n",
       "      <td>김중수</td>\n",
       "      <td>molestiae</td>\n",
       "      <td>********</td>\n",
       "      <td>jiweon02@ju.org</td>\n",
       "      <td>1995-11-19</td>\n",
       "      <td>male</td>\n",
       "      <td>01x9-3x228-x3x9x</td>\n",
       "      <td>KT</td>\n",
       "      <td>iOS</td>\n",
       "    </tr>\n",
       "    <tr>\n",
       "      <th>2</th>\n",
       "      <td>possimus246</td>\n",
       "      <td>양은경</td>\n",
       "      <td>rem</td>\n",
       "      <td>********</td>\n",
       "      <td>coesubin@jusighoesa.com</td>\n",
       "      <td>2005-12-24</td>\n",
       "      <td>female</td>\n",
       "      <td>01x9-7x873-x2x2x</td>\n",
       "      <td>LGU</td>\n",
       "      <td>Android</td>\n",
       "    </tr>\n",
       "    <tr>\n",
       "      <th>3</th>\n",
       "      <td>occaecati138</td>\n",
       "      <td>백도윤</td>\n",
       "      <td>libero</td>\n",
       "      <td>********</td>\n",
       "      <td>yeongceol80@gangryu.kr</td>\n",
       "      <td>2003-02-09</td>\n",
       "      <td>female</td>\n",
       "      <td>01x9-3x519-x7x1x</td>\n",
       "      <td>SKT</td>\n",
       "      <td>iOS</td>\n",
       "    </tr>\n",
       "    <tr>\n",
       "      <th>4</th>\n",
       "      <td>corrupti325</td>\n",
       "      <td>김영수</td>\n",
       "      <td>temporibus</td>\n",
       "      <td>********</td>\n",
       "      <td>jiweon96@yu.net</td>\n",
       "      <td>2004-05-04</td>\n",
       "      <td>male</td>\n",
       "      <td>01x9-0x079-x9x2x</td>\n",
       "      <td>LGU</td>\n",
       "      <td>Android</td>\n",
       "    </tr>\n",
       "  </tbody>\n",
       "</table>\n",
       "</div>"
      ],
      "text/plain": [
       "    Customer_ID Name    Nickname  Password                    Email  \\\n",
       "0    facilis140  이영순        quos  ********          coejongsu@yu.kr   \n",
       "1    debitis994  김중수   molestiae  ********          jiweon02@ju.org   \n",
       "2   possimus246  양은경         rem  ********  coesubin@jusighoesa.com   \n",
       "3  occaecati138  백도윤      libero  ********   yeongceol80@gangryu.kr   \n",
       "4   corrupti325  김영수  temporibus  ********          jiweon96@yu.net   \n",
       "\n",
       "        Birth  Gender              C.P. MobileCompany       OS  \n",
       "0  1989-03-11  female  01x9-4x625-x5x3x           LGU      iOS  \n",
       "1  1995-11-19    male  01x9-3x228-x3x9x            KT      iOS  \n",
       "2  2005-12-24  female  01x9-7x873-x2x2x           LGU  Android  \n",
       "3  2003-02-09  female  01x9-3x519-x7x1x           SKT      iOS  \n",
       "4  2004-05-04    male  01x9-0x079-x9x2x           LGU  Android  "
      ]
     },
     "execution_count": 4,
     "metadata": {},
     "output_type": "execute_result"
    }
   ],
   "source": [
    "customer_data.head()"
   ]
  },
  {
   "cell_type": "code",
   "execution_count": 5,
   "metadata": {},
   "outputs": [
    {
     "name": "stdout",
     "output_type": "stream",
     "text": [
      "<class 'pandas.core.frame.DataFrame'>\n",
      "RangeIndex: 99845 entries, 0 to 99844\n",
      "Data columns (total 10 columns):\n",
      " #   Column         Non-Null Count  Dtype \n",
      "---  ------         --------------  ----- \n",
      " 0   Customer_ID    99845 non-null  object\n",
      " 1   Name           99845 non-null  object\n",
      " 2   Nickname       99845 non-null  object\n",
      " 3   Password       99845 non-null  object\n",
      " 4   Email          99845 non-null  object\n",
      " 5   Birth          99845 non-null  object\n",
      " 6   Gender         99845 non-null  object\n",
      " 7   C.P.           99845 non-null  object\n",
      " 8   MobileCompany  99845 non-null  object\n",
      " 9   OS             99845 non-null  object\n",
      "dtypes: object(10)\n",
      "memory usage: 7.6+ MB\n"
     ]
    }
   ],
   "source": [
    "customer_data.info()"
   ]
  },
  {
   "attachments": {},
   "cell_type": "markdown",
   "metadata": {},
   "source": [
    "총 10개의 열, 99485개의 행이 있다. Null값도 없다!"
   ]
  },
  {
   "attachments": {},
   "cell_type": "markdown",
   "metadata": {},
   "source": [
    "### 지금까지의 데이터는 3월까지의 데이터이므로 별도로 관리한다."
   ]
  },
  {
   "cell_type": "code",
   "execution_count": 6,
   "metadata": {},
   "outputs": [
    {
     "data": {
      "text/html": [
       "<div>\n",
       "<style scoped>\n",
       "    .dataframe tbody tr th:only-of-type {\n",
       "        vertical-align: middle;\n",
       "    }\n",
       "\n",
       "    .dataframe tbody tr th {\n",
       "        vertical-align: top;\n",
       "    }\n",
       "\n",
       "    .dataframe thead th {\n",
       "        text-align: right;\n",
       "    }\n",
       "</style>\n",
       "<table border=\"1\" class=\"dataframe\">\n",
       "  <thead>\n",
       "    <tr style=\"text-align: right;\">\n",
       "      <th></th>\n",
       "      <th>install</th>\n",
       "      <th>Time_stamp</th>\n",
       "      <th>Game_Name</th>\n",
       "      <th>Status</th>\n",
       "      <th>Payment</th>\n",
       "      <th>Customer_ID</th>\n",
       "      <th>Name</th>\n",
       "      <th>Nickname</th>\n",
       "      <th>Password</th>\n",
       "      <th>Email</th>\n",
       "      <th>Birth</th>\n",
       "      <th>Gender</th>\n",
       "      <th>C.P.</th>\n",
       "      <th>MobileCompany</th>\n",
       "      <th>OS</th>\n",
       "    </tr>\n",
       "  </thead>\n",
       "  <tbody>\n",
       "    <tr>\n",
       "      <th>0</th>\n",
       "      <td>2022-01-08</td>\n",
       "      <td>2022-02-05</td>\n",
       "      <td>MineGround</td>\n",
       "      <td>play</td>\n",
       "      <td>4900</td>\n",
       "      <td>facilis140</td>\n",
       "      <td>이영순</td>\n",
       "      <td>quos</td>\n",
       "      <td>********</td>\n",
       "      <td>coejongsu@yu.kr</td>\n",
       "      <td>1989-03-11</td>\n",
       "      <td>female</td>\n",
       "      <td>01x9-4x625-x5x3x</td>\n",
       "      <td>LGU</td>\n",
       "      <td>iOS</td>\n",
       "    </tr>\n",
       "    <tr>\n",
       "      <th>1</th>\n",
       "      <td>2022-01-05</td>\n",
       "      <td>2022-02-17</td>\n",
       "      <td>MineGround</td>\n",
       "      <td>play</td>\n",
       "      <td>29900</td>\n",
       "      <td>debitis994</td>\n",
       "      <td>김중수</td>\n",
       "      <td>molestiae</td>\n",
       "      <td>********</td>\n",
       "      <td>jiweon02@ju.org</td>\n",
       "      <td>1995-11-19</td>\n",
       "      <td>male</td>\n",
       "      <td>01x9-3x228-x3x9x</td>\n",
       "      <td>KT</td>\n",
       "      <td>iOS</td>\n",
       "    </tr>\n",
       "    <tr>\n",
       "      <th>2</th>\n",
       "      <td>2022-01-29</td>\n",
       "      <td>2022-02-06</td>\n",
       "      <td>MineGround</td>\n",
       "      <td>play</td>\n",
       "      <td>4900</td>\n",
       "      <td>possimus246</td>\n",
       "      <td>양은경</td>\n",
       "      <td>rem</td>\n",
       "      <td>********</td>\n",
       "      <td>coesubin@jusighoesa.com</td>\n",
       "      <td>2005-12-24</td>\n",
       "      <td>female</td>\n",
       "      <td>01x9-7x873-x2x2x</td>\n",
       "      <td>LGU</td>\n",
       "      <td>Android</td>\n",
       "    </tr>\n",
       "    <tr>\n",
       "      <th>3</th>\n",
       "      <td>2022-01-09</td>\n",
       "      <td>2022-02-05</td>\n",
       "      <td>MineGround</td>\n",
       "      <td>play</td>\n",
       "      <td>900</td>\n",
       "      <td>occaecati138</td>\n",
       "      <td>백도윤</td>\n",
       "      <td>libero</td>\n",
       "      <td>********</td>\n",
       "      <td>yeongceol80@gangryu.kr</td>\n",
       "      <td>2003-02-09</td>\n",
       "      <td>female</td>\n",
       "      <td>01x9-3x519-x7x1x</td>\n",
       "      <td>SKT</td>\n",
       "      <td>iOS</td>\n",
       "    </tr>\n",
       "    <tr>\n",
       "      <th>4</th>\n",
       "      <td>2022-01-08</td>\n",
       "      <td>2022-02-01</td>\n",
       "      <td>MineGround</td>\n",
       "      <td>play</td>\n",
       "      <td>900</td>\n",
       "      <td>corrupti325</td>\n",
       "      <td>김영수</td>\n",
       "      <td>temporibus</td>\n",
       "      <td>********</td>\n",
       "      <td>jiweon96@yu.net</td>\n",
       "      <td>2004-05-04</td>\n",
       "      <td>male</td>\n",
       "      <td>01x9-0x079-x9x2x</td>\n",
       "      <td>LGU</td>\n",
       "      <td>Android</td>\n",
       "    </tr>\n",
       "  </tbody>\n",
       "</table>\n",
       "</div>"
      ],
      "text/plain": [
       "      install  Time_stamp   Game_Name Status  Payment   Customer_ID Name  \\\n",
       "0  2022-01-08  2022-02-05  MineGround   play     4900    facilis140  이영순   \n",
       "1  2022-01-05  2022-02-17  MineGround   play    29900    debitis994  김중수   \n",
       "2  2022-01-29  2022-02-06  MineGround   play     4900   possimus246  양은경   \n",
       "3  2022-01-09  2022-02-05  MineGround   play      900  occaecati138  백도윤   \n",
       "4  2022-01-08  2022-02-01  MineGround   play      900   corrupti325  김영수   \n",
       "\n",
       "     Nickname  Password                    Email       Birth  Gender  \\\n",
       "0        quos  ********          coejongsu@yu.kr  1989-03-11  female   \n",
       "1   molestiae  ********          jiweon02@ju.org  1995-11-19    male   \n",
       "2         rem  ********  coesubin@jusighoesa.com  2005-12-24  female   \n",
       "3      libero  ********   yeongceol80@gangryu.kr  2003-02-09  female   \n",
       "4  temporibus  ********          jiweon96@yu.net  2004-05-04    male   \n",
       "\n",
       "               C.P. MobileCompany       OS  \n",
       "0  01x9-4x625-x5x3x           LGU      iOS  \n",
       "1  01x9-3x228-x3x9x            KT      iOS  \n",
       "2  01x9-7x873-x2x2x           LGU  Android  \n",
       "3  01x9-3x519-x7x1x           SKT      iOS  \n",
       "4  01x9-0x079-x9x2x           LGU  Android  "
      ]
     },
     "execution_count": 6,
     "metadata": {},
     "output_type": "execute_result"
    }
   ],
   "source": [
    "# sales_data와 customer_data를 Customer_ID열을 기준으로 합치고 customer_03 변수에 할당\n",
    "customer_03 = pd.merge(sales_data, customer_data, on=\"Customer_ID\")\n",
    "customer_03.head()"
   ]
  },
  {
   "attachments": {},
   "cell_type": "markdown",
   "metadata": {},
   "source": [
    "### 4월분 customer data를 한 번 살펴보자"
   ]
  },
  {
   "cell_type": "code",
   "execution_count": 7,
   "metadata": {},
   "outputs": [
    {
     "data": {
      "text/html": [
       "<div>\n",
       "<style scoped>\n",
       "    .dataframe tbody tr th:only-of-type {\n",
       "        vertical-align: middle;\n",
       "    }\n",
       "\n",
       "    .dataframe tbody tr th {\n",
       "        vertical-align: top;\n",
       "    }\n",
       "\n",
       "    .dataframe thead th {\n",
       "        text-align: right;\n",
       "    }\n",
       "</style>\n",
       "<table border=\"1\" class=\"dataframe\">\n",
       "  <thead>\n",
       "    <tr style=\"text-align: right;\">\n",
       "      <th></th>\n",
       "      <th>install</th>\n",
       "      <th>Time_stamp</th>\n",
       "      <th>Game_Name</th>\n",
       "      <th>Status</th>\n",
       "      <th>Payment</th>\n",
       "      <th>Customer_ID</th>\n",
       "      <th>Name</th>\n",
       "      <th>Nickname</th>\n",
       "      <th>Password</th>\n",
       "      <th>Email</th>\n",
       "      <th>Birth</th>\n",
       "      <th>Gender</th>\n",
       "      <th>C.P.</th>\n",
       "      <th>MobileCompany</th>\n",
       "      <th>OS</th>\n",
       "    </tr>\n",
       "  </thead>\n",
       "  <tbody>\n",
       "    <tr>\n",
       "      <th>0</th>\n",
       "      <td>2022-03-12</td>\n",
       "      <td>2022-04-03</td>\n",
       "      <td>MineGround</td>\n",
       "      <td>play</td>\n",
       "      <td>19900.0</td>\n",
       "      <td>cupiditate206</td>\n",
       "      <td>우은정</td>\n",
       "      <td>tempora</td>\n",
       "      <td>********</td>\n",
       "      <td>jangsugja@ijijang.com</td>\n",
       "      <td>1987-05-31</td>\n",
       "      <td>female</td>\n",
       "      <td>01x9-2x483-x1x2x</td>\n",
       "      <td>SKT</td>\n",
       "      <td>Android</td>\n",
       "    </tr>\n",
       "    <tr>\n",
       "      <th>1</th>\n",
       "      <td>2022-01-25</td>\n",
       "      <td>2022-04-03</td>\n",
       "      <td>MineGround</td>\n",
       "      <td>play</td>\n",
       "      <td>0.0</td>\n",
       "      <td>quis973</td>\n",
       "      <td>박지아</td>\n",
       "      <td>unde</td>\n",
       "      <td>********</td>\n",
       "      <td>gimjieun@yuhanhoesa.com</td>\n",
       "      <td>2000-01-24</td>\n",
       "      <td>male</td>\n",
       "      <td>01x9-4x193-x4x2x</td>\n",
       "      <td>KT</td>\n",
       "      <td>Android</td>\n",
       "    </tr>\n",
       "    <tr>\n",
       "      <th>2</th>\n",
       "      <td>2022-01-20</td>\n",
       "      <td>2022-04-02</td>\n",
       "      <td>SoccerManager</td>\n",
       "      <td>play</td>\n",
       "      <td>49900.0</td>\n",
       "      <td>ex368</td>\n",
       "      <td>김하윤</td>\n",
       "      <td>animi</td>\n",
       "      <td>********</td>\n",
       "      <td>jangyeongil@gimcoe.org</td>\n",
       "      <td>1984-05-16</td>\n",
       "      <td>male</td>\n",
       "      <td>01x9-1x376-x1x2x</td>\n",
       "      <td>MVNO</td>\n",
       "      <td>Android</td>\n",
       "    </tr>\n",
       "    <tr>\n",
       "      <th>3</th>\n",
       "      <td>2022-01-18</td>\n",
       "      <td>2022-04-04</td>\n",
       "      <td>SoccerManager</td>\n",
       "      <td>play</td>\n",
       "      <td>0.0</td>\n",
       "      <td>labore792</td>\n",
       "      <td>최경자</td>\n",
       "      <td>asperiores</td>\n",
       "      <td>********</td>\n",
       "      <td>jangjeongsig@ju.com</td>\n",
       "      <td>1984-02-21</td>\n",
       "      <td>female</td>\n",
       "      <td>01x9-6x056-x4x5x</td>\n",
       "      <td>SKT</td>\n",
       "      <td>iOS</td>\n",
       "    </tr>\n",
       "    <tr>\n",
       "      <th>4</th>\n",
       "      <td>2022-02-11</td>\n",
       "      <td>2022-04-26</td>\n",
       "      <td>SoccerManager</td>\n",
       "      <td>play</td>\n",
       "      <td>900.0</td>\n",
       "      <td>quibusdam041</td>\n",
       "      <td>류민재</td>\n",
       "      <td>fugit</td>\n",
       "      <td>********</td>\n",
       "      <td>cgang@jusighoesa.com</td>\n",
       "      <td>2004-11-06</td>\n",
       "      <td>female</td>\n",
       "      <td>01x9-6x314-x5x1x</td>\n",
       "      <td>MVNO</td>\n",
       "      <td>iOS</td>\n",
       "    </tr>\n",
       "  </tbody>\n",
       "</table>\n",
       "</div>"
      ],
      "text/plain": [
       "      install  Time_stamp      Game_Name Status  Payment    Customer_ID Name  \\\n",
       "0  2022-03-12  2022-04-03     MineGround   play  19900.0  cupiditate206  우은정   \n",
       "1  2022-01-25  2022-04-03     MineGround   play      0.0        quis973  박지아   \n",
       "2  2022-01-20  2022-04-02  SoccerManager   play  49900.0          ex368  김하윤   \n",
       "3  2022-01-18  2022-04-04  SoccerManager   play      0.0      labore792  최경자   \n",
       "4  2022-02-11  2022-04-26  SoccerManager   play    900.0   quibusdam041  류민재   \n",
       "\n",
       "     Nickname  Password                    Email       Birth  Gender  \\\n",
       "0     tempora  ********    jangsugja@ijijang.com  1987-05-31  female   \n",
       "1        unde  ********  gimjieun@yuhanhoesa.com  2000-01-24    male   \n",
       "2       animi  ********   jangyeongil@gimcoe.org  1984-05-16    male   \n",
       "3  asperiores  ********      jangjeongsig@ju.com  1984-02-21  female   \n",
       "4       fugit  ********     cgang@jusighoesa.com  2004-11-06  female   \n",
       "\n",
       "               C.P. MobileCompany       OS  \n",
       "0  01x9-2x483-x1x2x           SKT  Android  \n",
       "1  01x9-4x193-x4x2x            KT  Android  \n",
       "2  01x9-1x376-x1x2x          MVNO  Android  \n",
       "3  01x9-6x056-x4x5x           SKT      iOS  \n",
       "4  01x9-6x314-x5x1x          MVNO      iOS  "
      ]
     },
     "execution_count": 7,
     "metadata": {},
     "output_type": "execute_result"
    }
   ],
   "source": [
    "customer_04 = pd.read_csv(\"./data/customer_04_7.csv\")\n",
    "customer_04.head()"
   ]
  },
  {
   "cell_type": "code",
   "execution_count": 8,
   "metadata": {},
   "outputs": [
    {
     "name": "stdout",
     "output_type": "stream",
     "text": [
      "<class 'pandas.core.frame.DataFrame'>\n",
      "RangeIndex: 35123 entries, 0 to 35122\n",
      "Data columns (total 15 columns):\n",
      " #   Column         Non-Null Count  Dtype  \n",
      "---  ------         --------------  -----  \n",
      " 0   install        35123 non-null  object \n",
      " 1   Time_stamp     35123 non-null  object \n",
      " 2   Game_Name      35123 non-null  object \n",
      " 3   Status         35123 non-null  object \n",
      " 4   Payment        35123 non-null  float64\n",
      " 5   Customer_ID    35123 non-null  object \n",
      " 6   Name           35123 non-null  object \n",
      " 7   Nickname       35123 non-null  object \n",
      " 8   Password       35123 non-null  object \n",
      " 9   Email          35123 non-null  object \n",
      " 10  Birth          35123 non-null  object \n",
      " 11  Gender         35123 non-null  object \n",
      " 12  C.P.           35123 non-null  object \n",
      " 13  MobileCompany  35123 non-null  object \n",
      " 14  OS             35123 non-null  object \n",
      "dtypes: float64(1), object(14)\n",
      "memory usage: 4.0+ MB\n"
     ]
    }
   ],
   "source": [
    "customer_04.info()"
   ]
  },
  {
   "attachments": {},
   "cell_type": "markdown",
   "metadata": {},
   "source": [
    "4월 고객 데이터는 sales data도 합쳐져 있다. 전체 행은 총 35123개이다."
   ]
  },
  {
   "attachments": {},
   "cell_type": "markdown",
   "metadata": {},
   "source": [
    "### 3월 데이터와 4월 데이터를 합치고 월별로 어떤 변화가 있었는지 살펴보자"
   ]
  },
  {
   "cell_type": "code",
   "execution_count": 9,
   "metadata": {},
   "outputs": [
    {
     "data": {
      "text/html": [
       "<div>\n",
       "<style scoped>\n",
       "    .dataframe tbody tr th:only-of-type {\n",
       "        vertical-align: middle;\n",
       "    }\n",
       "\n",
       "    .dataframe tbody tr th {\n",
       "        vertical-align: top;\n",
       "    }\n",
       "\n",
       "    .dataframe thead th {\n",
       "        text-align: right;\n",
       "    }\n",
       "</style>\n",
       "<table border=\"1\" class=\"dataframe\">\n",
       "  <thead>\n",
       "    <tr style=\"text-align: right;\">\n",
       "      <th></th>\n",
       "      <th>install</th>\n",
       "      <th>Time_stamp</th>\n",
       "      <th>Game_Name</th>\n",
       "      <th>Status</th>\n",
       "      <th>Payment</th>\n",
       "      <th>Customer_ID</th>\n",
       "      <th>Name</th>\n",
       "      <th>Nickname</th>\n",
       "      <th>Password</th>\n",
       "      <th>Email</th>\n",
       "      <th>Birth</th>\n",
       "      <th>Gender</th>\n",
       "      <th>C.P.</th>\n",
       "      <th>MobileCompany</th>\n",
       "      <th>OS</th>\n",
       "    </tr>\n",
       "  </thead>\n",
       "  <tbody>\n",
       "    <tr>\n",
       "      <th>0</th>\n",
       "      <td>2022-01-08</td>\n",
       "      <td>2022-02-05</td>\n",
       "      <td>MineGround</td>\n",
       "      <td>play</td>\n",
       "      <td>4900.0</td>\n",
       "      <td>facilis140</td>\n",
       "      <td>이영순</td>\n",
       "      <td>quos</td>\n",
       "      <td>********</td>\n",
       "      <td>coejongsu@yu.kr</td>\n",
       "      <td>1989-03-11</td>\n",
       "      <td>female</td>\n",
       "      <td>01x9-4x625-x5x3x</td>\n",
       "      <td>LGU</td>\n",
       "      <td>iOS</td>\n",
       "    </tr>\n",
       "    <tr>\n",
       "      <th>1</th>\n",
       "      <td>2022-01-05</td>\n",
       "      <td>2022-02-17</td>\n",
       "      <td>MineGround</td>\n",
       "      <td>play</td>\n",
       "      <td>29900.0</td>\n",
       "      <td>debitis994</td>\n",
       "      <td>김중수</td>\n",
       "      <td>molestiae</td>\n",
       "      <td>********</td>\n",
       "      <td>jiweon02@ju.org</td>\n",
       "      <td>1995-11-19</td>\n",
       "      <td>male</td>\n",
       "      <td>01x9-3x228-x3x9x</td>\n",
       "      <td>KT</td>\n",
       "      <td>iOS</td>\n",
       "    </tr>\n",
       "    <tr>\n",
       "      <th>2</th>\n",
       "      <td>2022-01-29</td>\n",
       "      <td>2022-02-06</td>\n",
       "      <td>MineGround</td>\n",
       "      <td>play</td>\n",
       "      <td>4900.0</td>\n",
       "      <td>possimus246</td>\n",
       "      <td>양은경</td>\n",
       "      <td>rem</td>\n",
       "      <td>********</td>\n",
       "      <td>coesubin@jusighoesa.com</td>\n",
       "      <td>2005-12-24</td>\n",
       "      <td>female</td>\n",
       "      <td>01x9-7x873-x2x2x</td>\n",
       "      <td>LGU</td>\n",
       "      <td>Android</td>\n",
       "    </tr>\n",
       "    <tr>\n",
       "      <th>3</th>\n",
       "      <td>2022-01-09</td>\n",
       "      <td>2022-02-05</td>\n",
       "      <td>MineGround</td>\n",
       "      <td>play</td>\n",
       "      <td>900.0</td>\n",
       "      <td>occaecati138</td>\n",
       "      <td>백도윤</td>\n",
       "      <td>libero</td>\n",
       "      <td>********</td>\n",
       "      <td>yeongceol80@gangryu.kr</td>\n",
       "      <td>2003-02-09</td>\n",
       "      <td>female</td>\n",
       "      <td>01x9-3x519-x7x1x</td>\n",
       "      <td>SKT</td>\n",
       "      <td>iOS</td>\n",
       "    </tr>\n",
       "    <tr>\n",
       "      <th>4</th>\n",
       "      <td>2022-01-08</td>\n",
       "      <td>2022-02-01</td>\n",
       "      <td>MineGround</td>\n",
       "      <td>play</td>\n",
       "      <td>900.0</td>\n",
       "      <td>corrupti325</td>\n",
       "      <td>김영수</td>\n",
       "      <td>temporibus</td>\n",
       "      <td>********</td>\n",
       "      <td>jiweon96@yu.net</td>\n",
       "      <td>2004-05-04</td>\n",
       "      <td>male</td>\n",
       "      <td>01x9-0x079-x9x2x</td>\n",
       "      <td>LGU</td>\n",
       "      <td>Android</td>\n",
       "    </tr>\n",
       "    <tr>\n",
       "      <th>...</th>\n",
       "      <td>...</td>\n",
       "      <td>...</td>\n",
       "      <td>...</td>\n",
       "      <td>...</td>\n",
       "      <td>...</td>\n",
       "      <td>...</td>\n",
       "      <td>...</td>\n",
       "      <td>...</td>\n",
       "      <td>...</td>\n",
       "      <td>...</td>\n",
       "      <td>...</td>\n",
       "      <td>...</td>\n",
       "      <td>...</td>\n",
       "      <td>...</td>\n",
       "      <td>...</td>\n",
       "    </tr>\n",
       "    <tr>\n",
       "      <th>35118</th>\n",
       "      <td>2022-01-31</td>\n",
       "      <td>2022-04-29</td>\n",
       "      <td>MineGround</td>\n",
       "      <td>play</td>\n",
       "      <td>0.0</td>\n",
       "      <td>recusandae058</td>\n",
       "      <td>김지민</td>\n",
       "      <td>alias</td>\n",
       "      <td>********</td>\n",
       "      <td>sujingim@ibag.net</td>\n",
       "      <td>1984-08-03</td>\n",
       "      <td>female</td>\n",
       "      <td>01x9-0x111-x9x3x</td>\n",
       "      <td>SKT</td>\n",
       "      <td>iOS</td>\n",
       "    </tr>\n",
       "    <tr>\n",
       "      <th>35119</th>\n",
       "      <td>2022-03-23</td>\n",
       "      <td>2022-04-27</td>\n",
       "      <td>MineGround</td>\n",
       "      <td>play</td>\n",
       "      <td>0.0</td>\n",
       "      <td>ullam594</td>\n",
       "      <td>권도현</td>\n",
       "      <td>ullam</td>\n",
       "      <td>********</td>\n",
       "      <td>isangho@yuhanhoesa.kr</td>\n",
       "      <td>1991-01-07</td>\n",
       "      <td>male</td>\n",
       "      <td>01x9-3x090-x2x2x</td>\n",
       "      <td>LGU</td>\n",
       "      <td>iOS</td>\n",
       "    </tr>\n",
       "    <tr>\n",
       "      <th>35120</th>\n",
       "      <td>2022-01-27</td>\n",
       "      <td>2022-04-21</td>\n",
       "      <td>MineGround</td>\n",
       "      <td>play</td>\n",
       "      <td>0.0</td>\n",
       "      <td>occaecati392</td>\n",
       "      <td>박건우</td>\n",
       "      <td>rem</td>\n",
       "      <td>********</td>\n",
       "      <td>gojunhyeog@heogangi.com</td>\n",
       "      <td>1987-08-22</td>\n",
       "      <td>male</td>\n",
       "      <td>01x9-7x249-x8x2x</td>\n",
       "      <td>SKT</td>\n",
       "      <td>iOS</td>\n",
       "    </tr>\n",
       "    <tr>\n",
       "      <th>35121</th>\n",
       "      <td>2022-01-17</td>\n",
       "      <td>2022-04-26</td>\n",
       "      <td>MineGround</td>\n",
       "      <td>play</td>\n",
       "      <td>0.0</td>\n",
       "      <td>iste926</td>\n",
       "      <td>장민재</td>\n",
       "      <td>earum</td>\n",
       "      <td>********</td>\n",
       "      <td>gimhyeonjun@ju.org</td>\n",
       "      <td>2005-10-14</td>\n",
       "      <td>male</td>\n",
       "      <td>01x9-0x450-x8x0x</td>\n",
       "      <td>KT</td>\n",
       "      <td>iOS</td>\n",
       "    </tr>\n",
       "    <tr>\n",
       "      <th>35122</th>\n",
       "      <td>2022-02-22</td>\n",
       "      <td>2022-04-22</td>\n",
       "      <td>MineGround</td>\n",
       "      <td>play</td>\n",
       "      <td>0.0</td>\n",
       "      <td>natus288</td>\n",
       "      <td>이서윤</td>\n",
       "      <td>vero</td>\n",
       "      <td>********</td>\n",
       "      <td>eunseo80@songan.kr</td>\n",
       "      <td>1987-08-25</td>\n",
       "      <td>male</td>\n",
       "      <td>01x9-4x628-x8x3x</td>\n",
       "      <td>SKT</td>\n",
       "      <td>iOS</td>\n",
       "    </tr>\n",
       "  </tbody>\n",
       "</table>\n",
       "<p>134968 rows × 15 columns</p>\n",
       "</div>"
      ],
      "text/plain": [
       "          install  Time_stamp   Game_Name Status  Payment    Customer_ID Name  \\\n",
       "0      2022-01-08  2022-02-05  MineGround   play   4900.0     facilis140  이영순   \n",
       "1      2022-01-05  2022-02-17  MineGround   play  29900.0     debitis994  김중수   \n",
       "2      2022-01-29  2022-02-06  MineGround   play   4900.0    possimus246  양은경   \n",
       "3      2022-01-09  2022-02-05  MineGround   play    900.0   occaecati138  백도윤   \n",
       "4      2022-01-08  2022-02-01  MineGround   play    900.0    corrupti325  김영수   \n",
       "...           ...         ...         ...    ...      ...            ...  ...   \n",
       "35118  2022-01-31  2022-04-29  MineGround   play      0.0  recusandae058  김지민   \n",
       "35119  2022-03-23  2022-04-27  MineGround   play      0.0       ullam594  권도현   \n",
       "35120  2022-01-27  2022-04-21  MineGround   play      0.0   occaecati392  박건우   \n",
       "35121  2022-01-17  2022-04-26  MineGround   play      0.0        iste926  장민재   \n",
       "35122  2022-02-22  2022-04-22  MineGround   play      0.0       natus288  이서윤   \n",
       "\n",
       "         Nickname  Password                    Email       Birth  Gender  \\\n",
       "0            quos  ********          coejongsu@yu.kr  1989-03-11  female   \n",
       "1       molestiae  ********          jiweon02@ju.org  1995-11-19    male   \n",
       "2             rem  ********  coesubin@jusighoesa.com  2005-12-24  female   \n",
       "3          libero  ********   yeongceol80@gangryu.kr  2003-02-09  female   \n",
       "4      temporibus  ********          jiweon96@yu.net  2004-05-04    male   \n",
       "...           ...       ...                      ...         ...     ...   \n",
       "35118       alias  ********        sujingim@ibag.net  1984-08-03  female   \n",
       "35119       ullam  ********    isangho@yuhanhoesa.kr  1991-01-07    male   \n",
       "35120         rem  ********  gojunhyeog@heogangi.com  1987-08-22    male   \n",
       "35121       earum  ********       gimhyeonjun@ju.org  2005-10-14    male   \n",
       "35122        vero  ********       eunseo80@songan.kr  1987-08-25    male   \n",
       "\n",
       "                   C.P. MobileCompany       OS  \n",
       "0      01x9-4x625-x5x3x           LGU      iOS  \n",
       "1      01x9-3x228-x3x9x            KT      iOS  \n",
       "2      01x9-7x873-x2x2x           LGU  Android  \n",
       "3      01x9-3x519-x7x1x           SKT      iOS  \n",
       "4      01x9-0x079-x9x2x           LGU  Android  \n",
       "...                 ...           ...      ...  \n",
       "35118  01x9-0x111-x9x3x           SKT      iOS  \n",
       "35119  01x9-3x090-x2x2x           LGU      iOS  \n",
       "35120  01x9-7x249-x8x2x           SKT      iOS  \n",
       "35121  01x9-0x450-x8x0x            KT      iOS  \n",
       "35122  01x9-4x628-x8x3x           SKT      iOS  \n",
       "\n",
       "[134968 rows x 15 columns]"
      ]
     },
     "execution_count": 9,
     "metadata": {},
     "output_type": "execute_result"
    }
   ],
   "source": [
    "# total_sales_data를 만들고 3월과 4월 데이터를 합치기\n",
    "total_sales_data = pd.concat([customer_03, customer_04])\n",
    "\n",
    "# total_sales_data 확인하기\n",
    "total_sales_data"
   ]
  },
  {
   "cell_type": "code",
   "execution_count": 10,
   "metadata": {},
   "outputs": [
    {
     "name": "stdout",
     "output_type": "stream",
     "text": [
      "<class 'pandas.core.frame.DataFrame'>\n",
      "Int64Index: 134968 entries, 0 to 35122\n",
      "Data columns (total 15 columns):\n",
      " #   Column         Non-Null Count   Dtype  \n",
      "---  ------         --------------   -----  \n",
      " 0   install        134968 non-null  object \n",
      " 1   Time_stamp     134968 non-null  object \n",
      " 2   Game_Name      134968 non-null  object \n",
      " 3   Status         134968 non-null  object \n",
      " 4   Payment        134968 non-null  float64\n",
      " 5   Customer_ID    134968 non-null  object \n",
      " 6   Name           134968 non-null  object \n",
      " 7   Nickname       134968 non-null  object \n",
      " 8   Password       134968 non-null  object \n",
      " 9   Email          134968 non-null  object \n",
      " 10  Birth          134968 non-null  object \n",
      " 11  Gender         134968 non-null  object \n",
      " 12  C.P.           134968 non-null  object \n",
      " 13  MobileCompany  134968 non-null  object \n",
      " 14  OS             134968 non-null  object \n",
      "dtypes: float64(1), object(14)\n",
      "memory usage: 16.5+ MB\n"
     ]
    }
   ],
   "source": [
    "# total_sales_data 정보 확인하기\n",
    "total_sales_data.info()"
   ]
  },
  {
   "attachments": {},
   "cell_type": "markdown",
   "metadata": {},
   "source": [
    "지금까지 수집된 데이터는 총 134968건이다."
   ]
  },
  {
   "attachments": {},
   "cell_type": "markdown",
   "metadata": {},
   "source": [
    "### 실제 플레이를 하고 있는 고객들을 정의하고 분석을 진행하자"
   ]
  },
  {
   "cell_type": "code",
   "execution_count": 11,
   "metadata": {},
   "outputs": [
    {
     "name": "stderr",
     "output_type": "stream",
     "text": [
      "C:\\Users\\Soyeong\\AppData\\Local\\Temp\\ipykernel_15108\\2959676488.py:5: SettingWithCopyWarning: \n",
      "A value is trying to be set on a copy of a slice from a DataFrame.\n",
      "Try using .loc[row_indexer,col_indexer] = value instead\n",
      "\n",
      "See the caveats in the documentation: https://pandas.pydata.org/pandas-docs/stable/user_guide/indexing.html#returning-a-view-versus-a-copy\n",
      "  player_data.loc[:, \"date\"] = player_data[\"Time_stamp\"].apply(lambda x: x[:7])\n"
     ]
    },
    {
     "data": {
      "text/html": [
       "<div>\n",
       "<style scoped>\n",
       "    .dataframe tbody tr th:only-of-type {\n",
       "        vertical-align: middle;\n",
       "    }\n",
       "\n",
       "    .dataframe tbody tr th {\n",
       "        vertical-align: top;\n",
       "    }\n",
       "\n",
       "    .dataframe thead th {\n",
       "        text-align: right;\n",
       "    }\n",
       "</style>\n",
       "<table border=\"1\" class=\"dataframe\">\n",
       "  <thead>\n",
       "    <tr style=\"text-align: right;\">\n",
       "      <th></th>\n",
       "      <th>install</th>\n",
       "      <th>Time_stamp</th>\n",
       "      <th>Game_Name</th>\n",
       "      <th>Status</th>\n",
       "      <th>Payment</th>\n",
       "      <th>Customer_ID</th>\n",
       "      <th>Name</th>\n",
       "      <th>Nickname</th>\n",
       "      <th>Password</th>\n",
       "      <th>Email</th>\n",
       "      <th>Birth</th>\n",
       "      <th>Gender</th>\n",
       "      <th>C.P.</th>\n",
       "      <th>MobileCompany</th>\n",
       "      <th>OS</th>\n",
       "      <th>date</th>\n",
       "    </tr>\n",
       "  </thead>\n",
       "  <tbody>\n",
       "    <tr>\n",
       "      <th>0</th>\n",
       "      <td>2022-01-08</td>\n",
       "      <td>2022-02-05</td>\n",
       "      <td>MineGround</td>\n",
       "      <td>play</td>\n",
       "      <td>4900.0</td>\n",
       "      <td>facilis140</td>\n",
       "      <td>이영순</td>\n",
       "      <td>quos</td>\n",
       "      <td>********</td>\n",
       "      <td>coejongsu@yu.kr</td>\n",
       "      <td>1989-03-11</td>\n",
       "      <td>female</td>\n",
       "      <td>01x9-4x625-x5x3x</td>\n",
       "      <td>LGU</td>\n",
       "      <td>iOS</td>\n",
       "      <td>2022-02</td>\n",
       "    </tr>\n",
       "    <tr>\n",
       "      <th>1</th>\n",
       "      <td>2022-01-05</td>\n",
       "      <td>2022-02-17</td>\n",
       "      <td>MineGround</td>\n",
       "      <td>play</td>\n",
       "      <td>29900.0</td>\n",
       "      <td>debitis994</td>\n",
       "      <td>김중수</td>\n",
       "      <td>molestiae</td>\n",
       "      <td>********</td>\n",
       "      <td>jiweon02@ju.org</td>\n",
       "      <td>1995-11-19</td>\n",
       "      <td>male</td>\n",
       "      <td>01x9-3x228-x3x9x</td>\n",
       "      <td>KT</td>\n",
       "      <td>iOS</td>\n",
       "      <td>2022-02</td>\n",
       "    </tr>\n",
       "    <tr>\n",
       "      <th>2</th>\n",
       "      <td>2022-01-29</td>\n",
       "      <td>2022-02-06</td>\n",
       "      <td>MineGround</td>\n",
       "      <td>play</td>\n",
       "      <td>4900.0</td>\n",
       "      <td>possimus246</td>\n",
       "      <td>양은경</td>\n",
       "      <td>rem</td>\n",
       "      <td>********</td>\n",
       "      <td>coesubin@jusighoesa.com</td>\n",
       "      <td>2005-12-24</td>\n",
       "      <td>female</td>\n",
       "      <td>01x9-7x873-x2x2x</td>\n",
       "      <td>LGU</td>\n",
       "      <td>Android</td>\n",
       "      <td>2022-02</td>\n",
       "    </tr>\n",
       "    <tr>\n",
       "      <th>3</th>\n",
       "      <td>2022-01-09</td>\n",
       "      <td>2022-02-05</td>\n",
       "      <td>MineGround</td>\n",
       "      <td>play</td>\n",
       "      <td>900.0</td>\n",
       "      <td>occaecati138</td>\n",
       "      <td>백도윤</td>\n",
       "      <td>libero</td>\n",
       "      <td>********</td>\n",
       "      <td>yeongceol80@gangryu.kr</td>\n",
       "      <td>2003-02-09</td>\n",
       "      <td>female</td>\n",
       "      <td>01x9-3x519-x7x1x</td>\n",
       "      <td>SKT</td>\n",
       "      <td>iOS</td>\n",
       "      <td>2022-02</td>\n",
       "    </tr>\n",
       "    <tr>\n",
       "      <th>4</th>\n",
       "      <td>2022-01-08</td>\n",
       "      <td>2022-02-01</td>\n",
       "      <td>MineGround</td>\n",
       "      <td>play</td>\n",
       "      <td>900.0</td>\n",
       "      <td>corrupti325</td>\n",
       "      <td>김영수</td>\n",
       "      <td>temporibus</td>\n",
       "      <td>********</td>\n",
       "      <td>jiweon96@yu.net</td>\n",
       "      <td>2004-05-04</td>\n",
       "      <td>male</td>\n",
       "      <td>01x9-0x079-x9x2x</td>\n",
       "      <td>LGU</td>\n",
       "      <td>Android</td>\n",
       "      <td>2022-02</td>\n",
       "    </tr>\n",
       "  </tbody>\n",
       "</table>\n",
       "</div>"
      ],
      "text/plain": [
       "      install  Time_stamp   Game_Name Status  Payment   Customer_ID Name  \\\n",
       "0  2022-01-08  2022-02-05  MineGround   play   4900.0    facilis140  이영순   \n",
       "1  2022-01-05  2022-02-17  MineGround   play  29900.0    debitis994  김중수   \n",
       "2  2022-01-29  2022-02-06  MineGround   play   4900.0   possimus246  양은경   \n",
       "3  2022-01-09  2022-02-05  MineGround   play    900.0  occaecati138  백도윤   \n",
       "4  2022-01-08  2022-02-01  MineGround   play    900.0   corrupti325  김영수   \n",
       "\n",
       "     Nickname  Password                    Email       Birth  Gender  \\\n",
       "0        quos  ********          coejongsu@yu.kr  1989-03-11  female   \n",
       "1   molestiae  ********          jiweon02@ju.org  1995-11-19    male   \n",
       "2         rem  ********  coesubin@jusighoesa.com  2005-12-24  female   \n",
       "3      libero  ********   yeongceol80@gangryu.kr  2003-02-09  female   \n",
       "4  temporibus  ********          jiweon96@yu.net  2004-05-04    male   \n",
       "\n",
       "               C.P. MobileCompany       OS     date  \n",
       "0  01x9-4x625-x5x3x           LGU      iOS  2022-02  \n",
       "1  01x9-3x228-x3x9x            KT      iOS  2022-02  \n",
       "2  01x9-7x873-x2x2x           LGU  Android  2022-02  \n",
       "3  01x9-3x519-x7x1x           SKT      iOS  2022-02  \n",
       "4  01x9-0x079-x9x2x           LGU  Android  2022-02  "
      ]
     },
     "execution_count": 11,
     "metadata": {},
     "output_type": "execute_result"
    }
   ],
   "source": [
    "# total_sales_data의 Status 열 값이 play인 행들만 골라 player_data 변수로 정의\n",
    "player_data = total_sales_data.loc[total_sales_data[\"Status\"] == \"play\"]\n",
    "\n",
    "# player_data의 date열을 만들고, player_data의 Time_stamp 값 중 앞에서 7번째 값까지 입력\n",
    "player_data.loc[:, \"date\"] = player_data[\"Time_stamp\"].apply(lambda x: x[:7])\n",
    "# player_data[\"date\"] = player_data[\"Time_stamp\"].str[:7]\n",
    "\n",
    "# player_data의 head 값 확인\n",
    "player_data.head()"
   ]
  },
  {
   "cell_type": "code",
   "execution_count": 12,
   "metadata": {},
   "outputs": [
    {
     "data": {
      "image/png": "[encoded data removed]",
      "text/plain": [
       "<Figure size 432x288 with 1 Axes>"
      ]
     },
     "metadata": {
      "needs_background": "light"
     },
     "output_type": "display_data"
    }
   ],
   "source": [
    "# 월별 Player수 변화 시각화\n",
    "ax = sns.countplot(data=player_data, x='date')\n",
    "\n",
    "containers = ax.containers[0]\n",
    "ax.bar_label(containers, labels=[f'{x:,.0f}' for x in containers.datavalues], label_type='center')\n",
    "plt.title('Player Count By Month')\n",
    "plt.show()"
   ]
  },
  {
   "attachments": {},
   "cell_type": "markdown",
   "metadata": {},
   "source": [
    "4월에도 역시 고객이 줄어드는 추세를 보인다. 저번 분석에서 신규 고객의 수가 줄어든 것이 원인이었고, 이에 대한 대응 전략으로 광고를 수행했다. 광고가 효과가 없었던걸까?"
   ]
  },
  {
   "attachments": {},
   "cell_type": "markdown",
   "metadata": {},
   "source": [
    "### 이번에는 플레이어들이 지불한 금액을 살펴보자"
   ]
  },
  {
   "cell_type": "code",
   "execution_count": 13,
   "metadata": {},
   "outputs": [
    {
     "data": {
      "text/plain": [
       "date\n",
       "2022-02    80841800.0\n",
       "2022-03    68361200.0\n",
       "2022-04    43007400.0\n",
       "Name: Payment, dtype: float64"
      ]
     },
     "execution_count": 13,
     "metadata": {},
     "output_type": "execute_result"
    }
   ],
   "source": [
    "# player_data의 Payment열의 각 개별값을 date열을 기준으로 집계\n",
    "grouped = player_data['Payment'].groupby(player_data['date']).sum()\n",
    "grouped"
   ]
  },
  {
   "cell_type": "code",
   "execution_count": 14,
   "metadata": {},
   "outputs": [
    {
     "data": {
      "image/png": "[encoded data removed]",
      "text/plain": [
       "<Figure size 432x288 with 1 Axes>"
      ]
     },
     "metadata": {
      "needs_background": "light"
     },
     "output_type": "display_data"
    }
   ],
   "source": [
    "# 집계된 Payment의 값을 시각화\n",
    "ax = sns.barplot(data=grouped.reset_index(), x='date', y='Payment')\n",
    "containers = ax.containers[0]\n",
    "ax.bar_label(containers, labels=[f'{x:,.0f}' for x in containers.datavalues], label_type='center')\n",
    "plt.title('Payment Count By Month')\n",
    "plt.show()"
   ]
  },
  {
   "attachments": {},
   "cell_type": "markdown",
   "metadata": {},
   "source": [
    "4월 매출액은 2월 대비 약 46%p 감소했다."
   ]
  },
  {
   "attachments": {},
   "cell_type": "markdown",
   "metadata": {},
   "source": [
    "### 원인을 빨리 찾아야 한다.\n",
    "먼저 4월 매출액을 게임별로 구분해보자."
   ]
  },
  {
   "cell_type": "code",
   "execution_count": 15,
   "metadata": {},
   "outputs": [
    {
     "data": {
      "text/plain": [
       "Game_Name\n",
       "MineGround       21809900.0\n",
       "SoccerManager    21197500.0\n",
       "Name: Payment, dtype: float64"
      ]
     },
     "execution_count": 15,
     "metadata": {},
     "output_type": "execute_result"
    }
   ],
   "source": [
    "# player_data에서 date가 2022-04인 행만 골라서 변수 player_data_04로 할당\n",
    "player_data_04 = player_data[player_data['date'] == '2022-04']\n",
    "\n",
    "# 4월의 Payment값을 Game_Name을 기준으로 집계\n",
    "grouped = player_data_04['Payment'].groupby(player_data_04['Game_Name']).sum()\n",
    "grouped"
   ]
  },
  {
   "cell_type": "code",
   "execution_count": 16,
   "metadata": {},
   "outputs": [
    {
     "data": {
      "image/png": "[encoded data removed]",
      "text/plain": [
       "<Figure size 432x288 with 1 Axes>"
      ]
     },
     "metadata": {
      "needs_background": "light"
     },
     "output_type": "display_data"
    }
   ],
   "source": [
    "# 집계된 Payment를 시각화\n",
    "ax = sns.barplot(data=grouped.reset_index(), x='Game_Name', y='Payment')\n",
    "containers = ax.containers[0]\n",
    "ax.bar_label(containers, labels=[f'{x:,.0f}' for x in containers.datavalues], label_type='center')\n",
    "plt.title('Payment Count By Game')\n",
    "plt.show()"
   ]
  },
  {
   "attachments": {},
   "cell_type": "markdown",
   "metadata": {},
   "source": [
    "큰 차이가 없어보인다."
   ]
  },
  {
   "attachments": {},
   "cell_type": "markdown",
   "metadata": {},
   "source": [
    "### 이번에는 일자별로 구분해보자"
   ]
  },
  {
   "cell_type": "code",
   "execution_count": 17,
   "metadata": {},
   "outputs": [
    {
     "data": {
      "text/plain": [
       "Time_stamp  Game_Name    \n",
       "2022-04-01  MineGround       2052600.0\n",
       "            SoccerManager     899700.0\n",
       "2022-04-02  MineGround       1574200.0\n",
       "            SoccerManager     618200.0\n",
       "2022-04-03  MineGround       1603900.0\n",
       "Name: Payment, dtype: float64"
      ]
     },
     "execution_count": 17,
     "metadata": {},
     "output_type": "execute_result"
    }
   ],
   "source": [
    "# 4월의 Payment값을 Game_Name, 일자별로 집계\n",
    "grouped = player_data_04['Payment'].groupby([player_data_04['Time_stamp'], player_data_04['Game_Name']]).sum()\n",
    "grouped.head()"
   ]
  },
  {
   "cell_type": "code",
   "execution_count": 18,
   "metadata": {},
   "outputs": [
    {
     "data": {
      "image/png": "[encoded data removed]",
      "text/plain": [
       "<Figure size 432x288 with 1 Axes>"
      ]
     },
     "metadata": {
      "needs_background": "light"
     },
     "output_type": "display_data"
    }
   ],
   "source": [
    "# 집계된 결과를 시각화\n",
    "ax = sns.lineplot(data=grouped.unstack())\n",
    "plt.xticks([0,10,20, 28])\n",
    "plt.title('Payment By Game')\n",
    "plt.show()"
   ]
  },
  {
   "attachments": {},
   "cell_type": "markdown",
   "metadata": {},
   "source": [
    "Soccer Manager는 근소하게 매출이 증가하는 반면 Mine Ground는 4월 11일부터 심각한 수준의 매출급락이 보인다. <br>\n",
    "무슨 문제가 있었던걸까?"
   ]
  },
  {
   "attachments": {},
   "cell_type": "markdown",
   "metadata": {},
   "source": [
    "### 우선 게임별 사용자 수를 확인해보자"
   ]
  },
  {
   "cell_type": "code",
   "execution_count": 19,
   "metadata": {},
   "outputs": [
    {
     "data": {
      "text/html": [
       "<div>\n",
       "<style scoped>\n",
       "    .dataframe tbody tr th:only-of-type {\n",
       "        vertical-align: middle;\n",
       "    }\n",
       "\n",
       "    .dataframe tbody tr th {\n",
       "        vertical-align: top;\n",
       "    }\n",
       "\n",
       "    .dataframe thead th {\n",
       "        text-align: right;\n",
       "    }\n",
       "</style>\n",
       "<table border=\"1\" class=\"dataframe\">\n",
       "  <thead>\n",
       "    <tr style=\"text-align: right;\">\n",
       "      <th>Game_Name</th>\n",
       "      <th>MineGround</th>\n",
       "      <th>SoccerManager</th>\n",
       "    </tr>\n",
       "    <tr>\n",
       "      <th>Time_stamp</th>\n",
       "      <th></th>\n",
       "      <th></th>\n",
       "    </tr>\n",
       "  </thead>\n",
       "  <tbody>\n",
       "    <tr>\n",
       "      <th>2022-04-01</th>\n",
       "      <td>1256</td>\n",
       "      <td>504</td>\n",
       "    </tr>\n",
       "    <tr>\n",
       "      <th>2022-04-02</th>\n",
       "      <td>1209</td>\n",
       "      <td>520</td>\n",
       "    </tr>\n",
       "    <tr>\n",
       "      <th>2022-04-03</th>\n",
       "      <td>1230</td>\n",
       "      <td>482</td>\n",
       "    </tr>\n",
       "    <tr>\n",
       "      <th>2022-04-04</th>\n",
       "      <td>1215</td>\n",
       "      <td>518</td>\n",
       "    </tr>\n",
       "    <tr>\n",
       "      <th>2022-04-05</th>\n",
       "      <td>1221</td>\n",
       "      <td>501</td>\n",
       "    </tr>\n",
       "  </tbody>\n",
       "</table>\n",
       "</div>"
      ],
      "text/plain": [
       "Game_Name   MineGround  SoccerManager\n",
       "Time_stamp                           \n",
       "2022-04-01        1256            504\n",
       "2022-04-02        1209            520\n",
       "2022-04-03        1230            482\n",
       "2022-04-04        1215            518\n",
       "2022-04-05        1221            501"
      ]
     },
     "execution_count": 19,
     "metadata": {},
     "output_type": "execute_result"
    }
   ],
   "source": [
    "# 4월 일자별 사용자 숫자를 Game_Name을 기준으로 집계\n",
    "temp_var = pd.crosstab(player_data_04['Time_stamp'], player_data_04['Game_Name'])\n",
    "temp_var.head()"
   ]
  },
  {
   "attachments": {},
   "cell_type": "markdown",
   "metadata": {},
   "source": [
    "`crosstab()`은 항상 결과를 데이터프레임으로 반환하기 때문에 `groupby()`보다 더 쉽게 사용할 수 있다."
   ]
  },
  {
   "cell_type": "code",
   "execution_count": 20,
   "metadata": {},
   "outputs": [
    {
     "data": {
      "image/png": "[encoded data removed]",
      "text/plain": [
       "<Figure size 432x288 with 1 Axes>"
      ]
     },
     "metadata": {
      "needs_background": "light"
     },
     "output_type": "display_data"
    }
   ],
   "source": [
    "# 집계된 결과를 시각화\n",
    "temp_var.plot()\n",
    "plt.title('Customer Count By Game')\n",
    "plt.show()"
   ]
  },
  {
   "attachments": {},
   "cell_type": "markdown",
   "metadata": {},
   "source": [
    "Soccer Manager는 패턴을 유지하고 있는데 Mine Ground는 고객 수가 갑자기 큰 폭으로 줄었다. <br>\n",
    "무슨 문제가 있는지 고객 정보를 기반으로 분석해보자"
   ]
  },
  {
   "attachments": {},
   "cell_type": "markdown",
   "metadata": {},
   "source": [
    "### Mine Ground의 고객들을 성별, 연령, 통신사, OS 등 다양한 측면에서 확인해보자"
   ]
  },
  {
   "cell_type": "code",
   "execution_count": 21,
   "metadata": {},
   "outputs": [
    {
     "data": {
      "text/html": [
       "<div>\n",
       "<style scoped>\n",
       "    .dataframe tbody tr th:only-of-type {\n",
       "        vertical-align: middle;\n",
       "    }\n",
       "\n",
       "    .dataframe tbody tr th {\n",
       "        vertical-align: top;\n",
       "    }\n",
       "\n",
       "    .dataframe thead th {\n",
       "        text-align: right;\n",
       "    }\n",
       "</style>\n",
       "<table border=\"1\" class=\"dataframe\">\n",
       "  <thead>\n",
       "    <tr style=\"text-align: right;\">\n",
       "      <th>Gender</th>\n",
       "      <th>female</th>\n",
       "      <th>male</th>\n",
       "    </tr>\n",
       "    <tr>\n",
       "      <th>Time_stamp</th>\n",
       "      <th></th>\n",
       "      <th></th>\n",
       "    </tr>\n",
       "  </thead>\n",
       "  <tbody>\n",
       "    <tr>\n",
       "      <th>2022-04-01</th>\n",
       "      <td>506</td>\n",
       "      <td>750</td>\n",
       "    </tr>\n",
       "    <tr>\n",
       "      <th>2022-04-02</th>\n",
       "      <td>485</td>\n",
       "      <td>724</td>\n",
       "    </tr>\n",
       "    <tr>\n",
       "      <th>2022-04-03</th>\n",
       "      <td>485</td>\n",
       "      <td>745</td>\n",
       "    </tr>\n",
       "    <tr>\n",
       "      <th>2022-04-04</th>\n",
       "      <td>457</td>\n",
       "      <td>758</td>\n",
       "    </tr>\n",
       "    <tr>\n",
       "      <th>2022-04-05</th>\n",
       "      <td>468</td>\n",
       "      <td>753</td>\n",
       "    </tr>\n",
       "  </tbody>\n",
       "</table>\n",
       "</div>"
      ],
      "text/plain": [
       "Gender      female  male\n",
       "Time_stamp              \n",
       "2022-04-01     506   750\n",
       "2022-04-02     485   724\n",
       "2022-04-03     485   745\n",
       "2022-04-04     457   758\n",
       "2022-04-05     468   753"
      ]
     },
     "execution_count": 21,
     "metadata": {},
     "output_type": "execute_result"
    }
   ],
   "source": [
    "# Mine Ground 고객들만 골라내서 player_data_04변수에 할당하기\n",
    "player_data_04 = player_data_04[player_data_04['Game_Name'] == 'MineGround']\n",
    "\n",
    "# 성별에 따른 일자 고객 숫자 집계하기\n",
    "temp_var = pd.crosstab(player_data_04['Time_stamp'], player_data_04['Gender'])\n",
    "temp_var.head()"
   ]
  },
  {
   "cell_type": "code",
   "execution_count": 22,
   "metadata": {},
   "outputs": [
    {
     "data": {
      "image/png": "[encoded data removed]",
      "text/plain": [
       "<Figure size 432x288 with 1 Axes>"
      ]
     },
     "metadata": {
      "needs_background": "light"
     },
     "output_type": "display_data"
    }
   ],
   "source": [
    "# 집계 결과 시각화하기 \n",
    "temp_var.plot()\n",
    "plt.title('Customer Count By Gender')\n",
    "plt.show()"
   ]
  },
  {
   "attachments": {},
   "cell_type": "markdown",
   "metadata": {},
   "source": [
    "문제가 되는 4월 11일에 남녀 모두 숫자가 감소했다. <br>\n",
    "성별에 따른 이용자수는 문제가 없어보인다."
   ]
  },
  {
   "cell_type": "code",
   "execution_count": 23,
   "metadata": {},
   "outputs": [
    {
     "data": {
      "text/html": [
       "<div>\n",
       "<style scoped>\n",
       "    .dataframe tbody tr th:only-of-type {\n",
       "        vertical-align: middle;\n",
       "    }\n",
       "\n",
       "    .dataframe tbody tr th {\n",
       "        vertical-align: top;\n",
       "    }\n",
       "\n",
       "    .dataframe thead th {\n",
       "        text-align: right;\n",
       "    }\n",
       "</style>\n",
       "<table border=\"1\" class=\"dataframe\">\n",
       "  <thead>\n",
       "    <tr style=\"text-align: right;\">\n",
       "      <th>age</th>\n",
       "      <th>16</th>\n",
       "      <th>17</th>\n",
       "      <th>18</th>\n",
       "      <th>19</th>\n",
       "      <th>20</th>\n",
       "      <th>21</th>\n",
       "      <th>22</th>\n",
       "      <th>23</th>\n",
       "      <th>24</th>\n",
       "      <th>25</th>\n",
       "      <th>...</th>\n",
       "      <th>32</th>\n",
       "      <th>33</th>\n",
       "      <th>34</th>\n",
       "      <th>35</th>\n",
       "      <th>36</th>\n",
       "      <th>37</th>\n",
       "      <th>38</th>\n",
       "      <th>39</th>\n",
       "      <th>40</th>\n",
       "      <th>41</th>\n",
       "    </tr>\n",
       "    <tr>\n",
       "      <th>Time_stamp</th>\n",
       "      <th></th>\n",
       "      <th></th>\n",
       "      <th></th>\n",
       "      <th></th>\n",
       "      <th></th>\n",
       "      <th></th>\n",
       "      <th></th>\n",
       "      <th></th>\n",
       "      <th></th>\n",
       "      <th></th>\n",
       "      <th></th>\n",
       "      <th></th>\n",
       "      <th></th>\n",
       "      <th></th>\n",
       "      <th></th>\n",
       "      <th></th>\n",
       "      <th></th>\n",
       "      <th></th>\n",
       "      <th></th>\n",
       "      <th></th>\n",
       "      <th></th>\n",
       "    </tr>\n",
       "  </thead>\n",
       "  <tbody>\n",
       "    <tr>\n",
       "      <th>2022-04-01</th>\n",
       "      <td>15</td>\n",
       "      <td>52</td>\n",
       "      <td>61</td>\n",
       "      <td>37</td>\n",
       "      <td>45</td>\n",
       "      <td>38</td>\n",
       "      <td>38</td>\n",
       "      <td>49</td>\n",
       "      <td>63</td>\n",
       "      <td>53</td>\n",
       "      <td>...</td>\n",
       "      <td>44</td>\n",
       "      <td>61</td>\n",
       "      <td>43</td>\n",
       "      <td>59</td>\n",
       "      <td>55</td>\n",
       "      <td>53</td>\n",
       "      <td>55</td>\n",
       "      <td>46</td>\n",
       "      <td>52</td>\n",
       "      <td>42</td>\n",
       "    </tr>\n",
       "    <tr>\n",
       "      <th>2022-04-02</th>\n",
       "      <td>20</td>\n",
       "      <td>40</td>\n",
       "      <td>52</td>\n",
       "      <td>47</td>\n",
       "      <td>52</td>\n",
       "      <td>44</td>\n",
       "      <td>36</td>\n",
       "      <td>61</td>\n",
       "      <td>52</td>\n",
       "      <td>50</td>\n",
       "      <td>...</td>\n",
       "      <td>47</td>\n",
       "      <td>49</td>\n",
       "      <td>43</td>\n",
       "      <td>41</td>\n",
       "      <td>43</td>\n",
       "      <td>46</td>\n",
       "      <td>44</td>\n",
       "      <td>53</td>\n",
       "      <td>48</td>\n",
       "      <td>38</td>\n",
       "    </tr>\n",
       "    <tr>\n",
       "      <th>2022-04-03</th>\n",
       "      <td>11</td>\n",
       "      <td>55</td>\n",
       "      <td>48</td>\n",
       "      <td>43</td>\n",
       "      <td>54</td>\n",
       "      <td>51</td>\n",
       "      <td>41</td>\n",
       "      <td>46</td>\n",
       "      <td>46</td>\n",
       "      <td>47</td>\n",
       "      <td>...</td>\n",
       "      <td>59</td>\n",
       "      <td>26</td>\n",
       "      <td>50</td>\n",
       "      <td>50</td>\n",
       "      <td>47</td>\n",
       "      <td>64</td>\n",
       "      <td>40</td>\n",
       "      <td>52</td>\n",
       "      <td>39</td>\n",
       "      <td>43</td>\n",
       "    </tr>\n",
       "    <tr>\n",
       "      <th>2022-04-04</th>\n",
       "      <td>10</td>\n",
       "      <td>45</td>\n",
       "      <td>42</td>\n",
       "      <td>48</td>\n",
       "      <td>42</td>\n",
       "      <td>60</td>\n",
       "      <td>38</td>\n",
       "      <td>51</td>\n",
       "      <td>52</td>\n",
       "      <td>48</td>\n",
       "      <td>...</td>\n",
       "      <td>50</td>\n",
       "      <td>51</td>\n",
       "      <td>51</td>\n",
       "      <td>49</td>\n",
       "      <td>55</td>\n",
       "      <td>56</td>\n",
       "      <td>50</td>\n",
       "      <td>53</td>\n",
       "      <td>49</td>\n",
       "      <td>35</td>\n",
       "    </tr>\n",
       "    <tr>\n",
       "      <th>2022-04-05</th>\n",
       "      <td>14</td>\n",
       "      <td>49</td>\n",
       "      <td>49</td>\n",
       "      <td>42</td>\n",
       "      <td>51</td>\n",
       "      <td>42</td>\n",
       "      <td>42</td>\n",
       "      <td>43</td>\n",
       "      <td>38</td>\n",
       "      <td>50</td>\n",
       "      <td>...</td>\n",
       "      <td>60</td>\n",
       "      <td>49</td>\n",
       "      <td>53</td>\n",
       "      <td>48</td>\n",
       "      <td>56</td>\n",
       "      <td>52</td>\n",
       "      <td>49</td>\n",
       "      <td>43</td>\n",
       "      <td>48</td>\n",
       "      <td>47</td>\n",
       "    </tr>\n",
       "  </tbody>\n",
       "</table>\n",
       "<p>5 rows × 26 columns</p>\n",
       "</div>"
      ],
      "text/plain": [
       "age         16  17  18  19  20  21  22  23  24  25  ...  32  33  34  35  36  \\\n",
       "Time_stamp                                          ...                       \n",
       "2022-04-01  15  52  61  37  45  38  38  49  63  53  ...  44  61  43  59  55   \n",
       "2022-04-02  20  40  52  47  52  44  36  61  52  50  ...  47  49  43  41  43   \n",
       "2022-04-03  11  55  48  43  54  51  41  46  46  47  ...  59  26  50  50  47   \n",
       "2022-04-04  10  45  42  48  42  60  38  51  52  48  ...  50  51  51  49  55   \n",
       "2022-04-05  14  49  49  42  51  42  42  43  38  50  ...  60  49  53  48  56   \n",
       "\n",
       "age         37  38  39  40  41  \n",
       "Time_stamp                      \n",
       "2022-04-01  53  55  46  52  42  \n",
       "2022-04-02  46  44  53  48  38  \n",
       "2022-04-03  64  40  52  39  43  \n",
       "2022-04-04  56  50  53  49  35  \n",
       "2022-04-05  52  49  43  48  47  \n",
       "\n",
       "[5 rows x 26 columns]"
      ]
     },
     "execution_count": 23,
     "metadata": {},
     "output_type": "execute_result"
    }
   ],
   "source": [
    "# 연령별 집계를 위해 age열을 만들고 2022년 기준 날짜 계산해서 할당하기\n",
    "player_data_04['age'] = 2022 - pd.to_numeric(player_data_04['Birth'].str[:4])\n",
    "\n",
    "# 연령에 따른 일자 고객 숫자 집계하기\n",
    "temp_var = pd.crosstab(player_data_04['Time_stamp'], player_data_04['age'])\n",
    "temp_var.head()"
   ]
  },
  {
   "attachments": {},
   "cell_type": "markdown",
   "metadata": {},
   "source": [
    "### 연령을 기준으로 10대, 20대, 30대, 40대로 나누어보자"
   ]
  },
  {
   "cell_type": "code",
   "execution_count": 24,
   "metadata": {},
   "outputs": [
    {
     "data": {
      "text/plain": [
       "count    20113.000000\n",
       "mean        28.851787\n",
       "std          7.238312\n",
       "min         16.000000\n",
       "25%         23.000000\n",
       "50%         29.000000\n",
       "75%         35.000000\n",
       "max         41.000000\n",
       "Name: age, dtype: float64"
      ]
     },
     "execution_count": 24,
     "metadata": {},
     "output_type": "execute_result"
    }
   ],
   "source": [
    "# 연령의 기술통계량 확인하기 \n",
    "player_data_04['age'].describe()"
   ]
  },
  {
   "attachments": {},
   "cell_type": "markdown",
   "metadata": {},
   "source": [
    "최대 40대이니 40대까지만 하면 되겠다"
   ]
  },
  {
   "attachments": {},
   "cell_type": "markdown",
   "metadata": {},
   "source": [
    "`pd.cut()`을 이용해 구간을 나눈다."
   ]
  },
  {
   "cell_type": "code",
   "execution_count": 25,
   "metadata": {},
   "outputs": [
    {
     "data": {
      "text/html": [
       "<div>\n",
       "<style scoped>\n",
       "    .dataframe tbody tr th:only-of-type {\n",
       "        vertical-align: middle;\n",
       "    }\n",
       "\n",
       "    .dataframe tbody tr th {\n",
       "        vertical-align: top;\n",
       "    }\n",
       "\n",
       "    .dataframe thead th {\n",
       "        text-align: right;\n",
       "    }\n",
       "</style>\n",
       "<table border=\"1\" class=\"dataframe\">\n",
       "  <thead>\n",
       "    <tr style=\"text-align: right;\">\n",
       "      <th>Generation</th>\n",
       "      <th>10</th>\n",
       "      <th>20</th>\n",
       "      <th>30</th>\n",
       "      <th>40</th>\n",
       "    </tr>\n",
       "    <tr>\n",
       "      <th>Time_stamp</th>\n",
       "      <th></th>\n",
       "      <th></th>\n",
       "      <th></th>\n",
       "      <th></th>\n",
       "    </tr>\n",
       "  </thead>\n",
       "  <tbody>\n",
       "    <tr>\n",
       "      <th>2022-04-01</th>\n",
       "      <td>165</td>\n",
       "      <td>476</td>\n",
       "      <td>521</td>\n",
       "      <td>94</td>\n",
       "    </tr>\n",
       "    <tr>\n",
       "      <th>2022-04-02</th>\n",
       "      <td>159</td>\n",
       "      <td>500</td>\n",
       "      <td>464</td>\n",
       "      <td>86</td>\n",
       "    </tr>\n",
       "    <tr>\n",
       "      <th>2022-04-03</th>\n",
       "      <td>157</td>\n",
       "      <td>499</td>\n",
       "      <td>492</td>\n",
       "      <td>82</td>\n",
       "    </tr>\n",
       "    <tr>\n",
       "      <th>2022-04-04</th>\n",
       "      <td>145</td>\n",
       "      <td>486</td>\n",
       "      <td>500</td>\n",
       "      <td>84</td>\n",
       "    </tr>\n",
       "    <tr>\n",
       "      <th>2022-04-05</th>\n",
       "      <td>154</td>\n",
       "      <td>467</td>\n",
       "      <td>505</td>\n",
       "      <td>95</td>\n",
       "    </tr>\n",
       "  </tbody>\n",
       "</table>\n",
       "</div>"
      ],
      "text/plain": [
       "Generation   10   20   30  40\n",
       "Time_stamp                   \n",
       "2022-04-01  165  476  521  94\n",
       "2022-04-02  159  500  464  86\n",
       "2022-04-03  157  499  492  82\n",
       "2022-04-04  145  486  500  84\n",
       "2022-04-05  154  467  505  95"
      ]
     },
     "execution_count": 25,
     "metadata": {},
     "output_type": "execute_result"
    }
   ],
   "source": [
    "# 세대 구간을 위한 초기값 입력\n",
    "\n",
    "# 16세이상~20세 미만, 20세 이상~30세 미만 등으로 구분합니다. \n",
    "bins = [16, 20, 30, 40, 50] \n",
    "\n",
    "# 각 구간의 이름을 정의합니다. \n",
    "bins_label = ['10', '20', '30', '40']\n",
    "\n",
    "# player_data_04에 Generation열을 입력하고, 각 구간별 나이에 맞는 집계 결과를 반영합니다. \n",
    "player_data_04['Generation'] = pd.cut(player_data_04['age'], bins,right=False, labels=bins_label)\n",
    "\n",
    "# 세대에 따른 일자 고객 숫자 집계하기\n",
    "temp_var = pd.crosstab(player_data_04['Time_stamp'], player_data_04['Generation'])\n",
    "temp_var.head()"
   ]
  },
  {
   "cell_type": "code",
   "execution_count": 26,
   "metadata": {},
   "outputs": [
    {
     "data": {
      "image/png": "[encoded data removed]",
      "text/plain": [
       "<Figure size 432x288 with 1 Axes>"
      ]
     },
     "metadata": {
      "needs_background": "light"
     },
     "output_type": "display_data"
    }
   ],
   "source": [
    "# 집계 결과 시각화하기\n",
    "temp_var.plot()\n",
    "plt.title('Customer count By age')\n",
    "plt.show()"
   ]
  },
  {
   "attachments": {},
   "cell_type": "markdown",
   "metadata": {},
   "source": [
    "연령에 따른 구분 역시 4월 11일자를 기준으로 공통적으로 감소한다. 연령에 따른 이용자 수도 문제가 없다."
   ]
  },
  {
   "cell_type": "code",
   "execution_count": 27,
   "metadata": {},
   "outputs": [
    {
     "data": {
      "text/html": [
       "<div>\n",
       "<style scoped>\n",
       "    .dataframe tbody tr th:only-of-type {\n",
       "        vertical-align: middle;\n",
       "    }\n",
       "\n",
       "    .dataframe tbody tr th {\n",
       "        vertical-align: top;\n",
       "    }\n",
       "\n",
       "    .dataframe thead th {\n",
       "        text-align: right;\n",
       "    }\n",
       "</style>\n",
       "<table border=\"1\" class=\"dataframe\">\n",
       "  <thead>\n",
       "    <tr style=\"text-align: right;\">\n",
       "      <th>MobileCompany</th>\n",
       "      <th>KT</th>\n",
       "      <th>LGU</th>\n",
       "      <th>MVNO</th>\n",
       "      <th>SKT</th>\n",
       "    </tr>\n",
       "    <tr>\n",
       "      <th>Time_stamp</th>\n",
       "      <th></th>\n",
       "      <th></th>\n",
       "      <th></th>\n",
       "      <th></th>\n",
       "    </tr>\n",
       "  </thead>\n",
       "  <tbody>\n",
       "    <tr>\n",
       "      <th>2022-04-01</th>\n",
       "      <td>329</td>\n",
       "      <td>252</td>\n",
       "      <td>140</td>\n",
       "      <td>535</td>\n",
       "    </tr>\n",
       "    <tr>\n",
       "      <th>2022-04-02</th>\n",
       "      <td>308</td>\n",
       "      <td>217</td>\n",
       "      <td>108</td>\n",
       "      <td>576</td>\n",
       "    </tr>\n",
       "    <tr>\n",
       "      <th>2022-04-03</th>\n",
       "      <td>306</td>\n",
       "      <td>207</td>\n",
       "      <td>124</td>\n",
       "      <td>593</td>\n",
       "    </tr>\n",
       "    <tr>\n",
       "      <th>2022-04-04</th>\n",
       "      <td>312</td>\n",
       "      <td>242</td>\n",
       "      <td>101</td>\n",
       "      <td>560</td>\n",
       "    </tr>\n",
       "    <tr>\n",
       "      <th>2022-04-05</th>\n",
       "      <td>325</td>\n",
       "      <td>224</td>\n",
       "      <td>130</td>\n",
       "      <td>542</td>\n",
       "    </tr>\n",
       "  </tbody>\n",
       "</table>\n",
       "</div>"
      ],
      "text/plain": [
       "MobileCompany   KT  LGU  MVNO  SKT\n",
       "Time_stamp                        \n",
       "2022-04-01     329  252   140  535\n",
       "2022-04-02     308  217   108  576\n",
       "2022-04-03     306  207   124  593\n",
       "2022-04-04     312  242   101  560\n",
       "2022-04-05     325  224   130  542"
      ]
     },
     "execution_count": 27,
     "metadata": {},
     "output_type": "execute_result"
    }
   ],
   "source": [
    "# 통신사를 기준으로 일자별 고객 숫자 집계하기\n",
    "temp_var = pd.crosstab(player_data_04['Time_stamp'], player_data_04['MobileCompany'])\n",
    "temp_var.head()"
   ]
  },
  {
   "cell_type": "code",
   "execution_count": 28,
   "metadata": {},
   "outputs": [
    {
     "data": {
      "image/png": "[encoded data removed]",
      "text/plain": [
       "<Figure size 432x288 with 1 Axes>"
      ]
     },
     "metadata": {
      "needs_background": "light"
     },
     "output_type": "display_data"
    }
   ],
   "source": [
    "# 집계 결과 시각화하기\n",
    "temp_var.plot()\n",
    "plt.title('Customer count By Mobile')\n",
    "plt.show()"
   ]
  },
  {
   "attachments": {},
   "cell_type": "markdown",
   "metadata": {},
   "source": [
    "통신사 역시 문제가 없어보인다."
   ]
  },
  {
   "cell_type": "code",
   "execution_count": 29,
   "metadata": {},
   "outputs": [
    {
     "data": {
      "text/html": [
       "<div>\n",
       "<style scoped>\n",
       "    .dataframe tbody tr th:only-of-type {\n",
       "        vertical-align: middle;\n",
       "    }\n",
       "\n",
       "    .dataframe tbody tr th {\n",
       "        vertical-align: top;\n",
       "    }\n",
       "\n",
       "    .dataframe thead th {\n",
       "        text-align: right;\n",
       "    }\n",
       "</style>\n",
       "<table border=\"1\" class=\"dataframe\">\n",
       "  <thead>\n",
       "    <tr style=\"text-align: right;\">\n",
       "      <th>OS</th>\n",
       "      <th>Android</th>\n",
       "      <th>iOS</th>\n",
       "    </tr>\n",
       "    <tr>\n",
       "      <th>Time_stamp</th>\n",
       "      <th></th>\n",
       "      <th></th>\n",
       "    </tr>\n",
       "  </thead>\n",
       "  <tbody>\n",
       "    <tr>\n",
       "      <th>2022-04-01</th>\n",
       "      <td>744</td>\n",
       "      <td>512</td>\n",
       "    </tr>\n",
       "    <tr>\n",
       "      <th>2022-04-02</th>\n",
       "      <td>736</td>\n",
       "      <td>473</td>\n",
       "    </tr>\n",
       "    <tr>\n",
       "      <th>2022-04-03</th>\n",
       "      <td>741</td>\n",
       "      <td>489</td>\n",
       "    </tr>\n",
       "    <tr>\n",
       "      <th>2022-04-04</th>\n",
       "      <td>745</td>\n",
       "      <td>470</td>\n",
       "    </tr>\n",
       "    <tr>\n",
       "      <th>2022-04-05</th>\n",
       "      <td>729</td>\n",
       "      <td>492</td>\n",
       "    </tr>\n",
       "  </tbody>\n",
       "</table>\n",
       "</div>"
      ],
      "text/plain": [
       "OS          Android  iOS\n",
       "Time_stamp              \n",
       "2022-04-01      744  512\n",
       "2022-04-02      736  473\n",
       "2022-04-03      741  489\n",
       "2022-04-04      745  470\n",
       "2022-04-05      729  492"
      ]
     },
     "execution_count": 29,
     "metadata": {},
     "output_type": "execute_result"
    }
   ],
   "source": [
    "# OS에 따른 일자별 고객 숫자 집계하기\n",
    "temp_var = pd.crosstab(player_data_04['Time_stamp'], player_data_04['OS'])\n",
    "temp_var.head()"
   ]
  },
  {
   "cell_type": "code",
   "execution_count": 30,
   "metadata": {},
   "outputs": [
    {
     "data": {
      "image/png": "[encoded data removed]",
      "text/plain": [
       "<Figure size 432x288 with 1 Axes>"
      ]
     },
     "metadata": {
      "needs_background": "light"
     },
     "output_type": "display_data"
    }
   ],
   "source": [
    "# 집계 결과 확인하기 \n",
    "temp_var.plot()\n",
    "plt.title('Customer count By OS')\n",
    "plt.show()"
   ]
  },
  {
   "attachments": {},
   "cell_type": "markdown",
   "metadata": {},
   "source": [
    "드디어 원인을 찾았다! 4월 11일을 기준으로 iOS를 사용하는 고객 수는 일정하게 유지되고 있는 반면 Android를 사용하는 고객 수는 0이다. 이는 특별한 기술적 문제가 있는 것이 아니라면 현실적으로 불가능하다."
   ]
  },
  {
   "attachments": {},
   "cell_type": "markdown",
   "metadata": {},
   "source": [
    "### 전략 수립 및 실행"
   ]
  },
  {
   "attachments": {},
   "cell_type": "markdown",
   "metadata": {},
   "source": [
    "지금까지 분석 결과를 통해 다음과 같은 사실을 확인할 수 있었다.\n",
    "<br>\n",
    "- 지난 광고전략에도 불구하고 4월의 고객 수는 줄어들었다.\n",
    "- 특히 Mine Ground의 고객 숫자만 줄어들었다.\n",
    "- 4월 11일을 기점으로 Android 고객이 '0'이 되었다.\n",
    "\n",
    "4월 11일에 Android 고객들에게는 무슨일이 있었을까? <br>\n",
    "현재 우리가 갖고 있는 데이터로는 그 원인을 찾아낼 수 없다. <br>\n",
    "아마도 Android가 업데이트되면서 우리 게임과의 호환성에 문제가 발생했던것 같다. <br>\n",
    "<br>\n",
    "기술적인 문제는 Engineer가 해결할 수 있을것이고, 우리들은 접속하지 못한 고객들을 대상으로 보상전략을 수립하는게 더 중요하다.<br>\n",
    "적절한 보상전략을 한번 생각해보자. <br>\n",
    "\n"
   ]
  }
 ],
 "metadata": {
  "kernelspec": {
   "display_name": "Python 3",
   "language": "python",
   "name": "python3"
  },
  "language_info": {
   "codemirror_mode": {
    "name": "ipython",
    "version": 3
   },
   "file_extension": ".py",
   "mimetype": "text/x-python",
   "name": "python",
   "nbconvert_exporter": "python",
   "pygments_lexer": "ipython3",
   "version": "3.10.2"
  },
  "orig_nbformat": 4
 },
 "nbformat": 4,
 "nbformat_minor": 2
}
