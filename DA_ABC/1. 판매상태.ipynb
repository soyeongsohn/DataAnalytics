{
 "cells": [
  {
   "attachments": {},
   "cell_type": "markdown",
   "metadata": {},
   "source": [
    "# 우리 기업의 판매 상태는 어떨까?"
   ]
  },
  {
   "attachments": {},
   "cell_type": "markdown",
   "metadata": {},
   "source": [
    "## 상황 인식과 문제 정의"
   ]
  },
  {
   "attachments": {},
   "cell_type": "markdown",
   "metadata": {},
   "source": [
    "### 1) 상황 인식\n",
    "---\n",
    "우리들은 \"모두게임\"이라는 게임회사에 근무하고 있는 데이터분석가이다. <br>\n",
    "모두게임은 모바일 게임을 개발하고 운영하고 있으며 시장에서의 반응이 나쁘지 않다. <br>\n",
    "이번에 새로 런칭한 게임은 Mine Ground와 Soccer Manager라는 두 개 게임이다. <br>\n",
    "각 게임은 인앱 결제를 통해 게임 내 아이템을 판매하고 있다. <br>\n",
    "이제부터 우리를 \"모두게임\"의 수익 극대화를 위해 게임에서 측정되는 각종 데이터를 수집하고 모니터링 해야 한다."
   ]
  },
  {
   "attachments": {},
   "cell_type": "markdown",
   "metadata": {},
   "source": [
    "### 2) 문제 정의\n",
    "---\n",
    "> 핵심 문제: 우리 기업의 판매 상태는 어떤가? 그리고 이 문제를 해결하기 위해 무엇을 해야 하는가? <br>\n",
    "\n",
    "회사에서 수집되는 데이터는 크게 두 종류이다.\n",
    "1. 게임 상 수집되는 Sales Data\n",
    "2. 런처에서 수집되는 Customer Data\n",
    "\n",
    "각 데이터들은 일간 단위로 수집되고 있다. <br>\n",
    "이 데이터들을 통해 데이터들을 이리저리 살펴보고 우리 회사의 판매 상태에 대해 객관적으로 알아보자."
   ]
  },
  {
   "attachments": {},
   "cell_type": "markdown",
   "metadata": {},
   "source": [
    "## 데이터 분석\n",
    "\n",
    "### 1) 데이터 분석\n",
    "---"
   ]
  },
  {
   "cell_type": "code",
   "execution_count": 1,
   "metadata": {},
   "outputs": [
    {
     "data": {
      "text/html": [
       "<div>\n",
       "<style scoped>\n",
       "    .dataframe tbody tr th:only-of-type {\n",
       "        vertical-align: middle;\n",
       "    }\n",
       "\n",
       "    .dataframe tbody tr th {\n",
       "        vertical-align: top;\n",
       "    }\n",
       "\n",
       "    .dataframe thead th {\n",
       "        text-align: right;\n",
       "    }\n",
       "</style>\n",
       "<table border=\"1\" class=\"dataframe\">\n",
       "  <thead>\n",
       "    <tr style=\"text-align: right;\">\n",
       "      <th></th>\n",
       "      <th>install</th>\n",
       "      <th>Time_stamp</th>\n",
       "      <th>Game_Name</th>\n",
       "      <th>Status</th>\n",
       "      <th>Payment</th>\n",
       "      <th>Customer_ID</th>\n",
       "    </tr>\n",
       "  </thead>\n",
       "  <tbody>\n",
       "    <tr>\n",
       "      <th>0</th>\n",
       "      <td>2022-01-08</td>\n",
       "      <td>2022-02-05</td>\n",
       "      <td>MineGround</td>\n",
       "      <td>play</td>\n",
       "      <td>4900</td>\n",
       "      <td>facilis140</td>\n",
       "    </tr>\n",
       "    <tr>\n",
       "      <th>1</th>\n",
       "      <td>2022-01-05</td>\n",
       "      <td>2022-02-17</td>\n",
       "      <td>MineGround</td>\n",
       "      <td>play</td>\n",
       "      <td>29900</td>\n",
       "      <td>debitis994</td>\n",
       "    </tr>\n",
       "    <tr>\n",
       "      <th>2</th>\n",
       "      <td>2022-01-29</td>\n",
       "      <td>2022-02-06</td>\n",
       "      <td>MineGround</td>\n",
       "      <td>play</td>\n",
       "      <td>4900</td>\n",
       "      <td>possimus246</td>\n",
       "    </tr>\n",
       "    <tr>\n",
       "      <th>3</th>\n",
       "      <td>2022-01-09</td>\n",
       "      <td>2022-02-05</td>\n",
       "      <td>MineGround</td>\n",
       "      <td>play</td>\n",
       "      <td>900</td>\n",
       "      <td>occaecati138</td>\n",
       "    </tr>\n",
       "    <tr>\n",
       "      <th>4</th>\n",
       "      <td>2022-01-08</td>\n",
       "      <td>2022-02-01</td>\n",
       "      <td>MineGround</td>\n",
       "      <td>play</td>\n",
       "      <td>900</td>\n",
       "      <td>corrupti325</td>\n",
       "    </tr>\n",
       "  </tbody>\n",
       "</table>\n",
       "</div>"
      ],
      "text/plain": [
       "      install  Time_stamp   Game_Name Status  Payment   Customer_ID\n",
       "0  2022-01-08  2022-02-05  MineGround   play     4900    facilis140\n",
       "1  2022-01-05  2022-02-17  MineGround   play    29900    debitis994\n",
       "2  2022-01-29  2022-02-06  MineGround   play     4900   possimus246\n",
       "3  2022-01-09  2022-02-05  MineGround   play      900  occaecati138\n",
       "4  2022-01-08  2022-02-01  MineGround   play      900   corrupti325"
      ]
     },
     "execution_count": 1,
     "metadata": {},
     "output_type": "execute_result"
    }
   ],
   "source": [
    "# Pandas와 Matplotlib를 호출\n",
    "import pandas as pd\n",
    "import matplotlib.pyplot as plt\n",
    "\n",
    "# Sales Data를 변수명 SalesLog에 할당\n",
    "SalesLog = pd.read_csv('./data/Sales.csv')\n",
    "SalesLog.head()"
   ]
  },
  {
   "cell_type": "code",
   "execution_count": 2,
   "metadata": {},
   "outputs": [
    {
     "name": "stdout",
     "output_type": "stream",
     "text": [
      "<class 'pandas.core.frame.DataFrame'>\n",
      "RangeIndex: 99845 entries, 0 to 99844\n",
      "Data columns (total 6 columns):\n",
      " #   Column       Non-Null Count  Dtype \n",
      "---  ------       --------------  ----- \n",
      " 0   install      99845 non-null  object\n",
      " 1   Time_stamp   99845 non-null  object\n",
      " 2   Game_Name    99845 non-null  object\n",
      " 3   Status       99845 non-null  object\n",
      " 4   Payment      99845 non-null  int64 \n",
      " 5   Customer_ID  99845 non-null  object\n",
      "dtypes: int64(1), object(5)\n",
      "memory usage: 4.6+ MB\n"
     ]
    }
   ],
   "source": [
    "# SalesLog 정보 확인\n",
    "SalesLog.info()"
   ]
  },
  {
   "attachments": {},
   "cell_type": "markdown",
   "metadata": {},
   "source": [
    "Sales 데이터를 살펴보니 총 여섯 개 컬럼이 발견되었다. <br>\n",
    "<br>\n",
    "고객들이 게임을 설치한 일자(install) <br>\n",
    "최종 로그기록(Time_stamp) <br>\n",
    "게임명(Game_Name) <br>\n",
    "상태(Status) <br>\n",
    "결제금액(Payment) <br>\n",
    "유저 아이디(Customer_ID) <br>\n",
    "이 중에서 가장 관심이 가는 건 아무래도 결제금액이다"
   ]
  },
  {
   "cell_type": "code",
   "execution_count": 3,
   "metadata": {},
   "outputs": [
    {
     "data": {
      "text/plain": [
       "144443100"
      ]
     },
     "execution_count": 3,
     "metadata": {},
     "output_type": "execute_result"
    }
   ],
   "source": [
    "# 결제된 금액 총액 계산하기\n",
    "SalesLog['Payment'].sum()"
   ]
  },
  {
   "attachments": {},
   "cell_type": "markdown",
   "metadata": {},
   "source": [
    "2022년 1월부터 3월까지 144,443,100원을 벌었다.<br> \n",
    "새로 런칭한 게임이니만큼 앞으로가 기대된다."
   ]
  },
  {
   "attachments": {},
   "cell_type": "markdown",
   "metadata": {},
   "source": [
    "#### 결제 금액을 조금 더 살펴보도록 하자.\n",
    "각 데이터들은 적절히 전처리 되고 시각화할 수 있다. <br>\n",
    "시각화를 통해 어떤 정보를 얻을 수 있을까?"
   ]
  },
  {
   "cell_type": "code",
   "execution_count": 4,
   "metadata": {},
   "outputs": [
    {
     "data": {
      "image/png": "[encoded data removed]",
      "text/plain": [
       "<Figure size 432x288 with 1 Axes>"
      ]
     },
     "metadata": {
      "needs_background": "light"
     },
     "output_type": "display_data"
    }
   ],
   "source": [
    "# 결제 금액을 히스토그램으로 그리기\n",
    "plt.hist(SalesLog['Payment'])\n",
    "plt.title('Sales Status')\n",
    "plt.show()"
   ]
  },
  {
   "attachments": {},
   "cell_type": "markdown",
   "metadata": {},
   "source": [
    "결제금액을 히스토그램으로 그려보니 대부분이 10,000원 이하로 결제를 하고 있는 것을 알 수 있다.<br>\n",
    "아마도 고객들이 결제할 때 소액을 결제하는 경우가 많은 것 같다."
   ]
  },
  {
   "attachments": {},
   "cell_type": "markdown",
   "metadata": {},
   "source": [
    "#### 무과금을 빼고 다시 한번 히스토그램을 그려보자.\n",
    "먼저 결제금액이 0원이 아닌 경우만 골라서 변수 Sales에 할당한 후 히스토그램을 그려보자."
   ]
  },
  {
   "cell_type": "code",
   "execution_count": 5,
   "metadata": {},
   "outputs": [
    {
     "data": {
      "image/png": "[encoded data removed]",
      "text/plain": [
       "<Figure size 432x288 with 1 Axes>"
      ]
     },
     "metadata": {
      "needs_background": "light"
     },
     "output_type": "display_data"
    }
   ],
   "source": [
    "# 결제금액이 0원이 아닌 경우만 골라내서 Sales 변수에 할당\n",
    "Sales = SalesLog[SalesLog['Payment']!=0]\n",
    "\n",
    "# 결제 금액을 히스토그램으로 그리기\n",
    "plt.hist(Sales['Payment'])\n",
    "plt.title('Sales Status only Payment')\n",
    "plt.show()"
   ]
  },
  {
   "attachments": {},
   "cell_type": "markdown",
   "metadata": {},
   "source": [
    "무과금을 빼고 히스토그램을 그려봐도 결제 패턴은 크게 달라지지 않았다. <br>\n",
    "아무래도 대다수 고객들은 10,000원 이하 금액으로 많이 결제하고 있는것 같다."
   ]
  },
  {
   "attachments": {},
   "cell_type": "markdown",
   "metadata": {},
   "source": [
    "#### 이번에는 boxplot을 통해 결제 금액의 사분위수를 확인해보자\n",
    "`describe()` 함수를 사용하면 데이터의 기술 통계량을 쉽게 확인할 수 있다."
   ]
  },
  {
   "cell_type": "code",
   "execution_count": 6,
   "metadata": {},
   "outputs": [
    {
     "data": {
      "text/plain": [
       "count    15309.000000\n",
       "mean      9435.175387\n",
       "std      11897.228643\n",
       "min        900.000000\n",
       "25%        900.000000\n",
       "50%       4900.000000\n",
       "75%       9900.000000\n",
       "max      49900.000000\n",
       "Name: Payment, dtype: float64"
      ]
     },
     "execution_count": 6,
     "metadata": {},
     "output_type": "execute_result"
    }
   ],
   "source": [
    "# 결제금액의 기술통계량 확인하기\n",
    "Sales['Payment'].describe()"
   ]
  },
  {
   "cell_type": "code",
   "execution_count": 7,
   "metadata": {},
   "outputs": [
    {
     "data": {
      "image/png": "[encoded data removed]",
      "text/plain": [
       "<Figure size 432x288 with 1 Axes>"
      ]
     },
     "metadata": {
      "needs_background": "light"
     },
     "output_type": "display_data"
    }
   ],
   "source": [
    "plt.boxplot(Sales['Payment'])\n",
    "plt.title('Payment Box Plot')\n",
    "plt.show()"
   ]
  },
  {
   "attachments": {},
   "cell_type": "markdown",
   "metadata": {},
   "source": [
    "결제금액의 최솟값은 900원, IQ1(25%)값도 900원, IQ2(중위 값)값은 4,900원이다. <br>\n",
    "평균 결제금액은 9,435원으로 분석되었다. (위의 기술통계량 결과를 통해 구체적인 값을 확인할 수 있다.)"
   ]
  },
  {
   "attachments": {},
   "cell_type": "markdown",
   "metadata": {},
   "source": [
    "#### 최솟값과 최대값이 각각 900원과 49,990원인것을 고려하면 상대적으로 적은 금액을 결제하는 고객이 정말 많은 것 같다."
   ]
  },
  {
   "cell_type": "code",
   "execution_count": 8,
   "metadata": {},
   "outputs": [
    {
     "data": {
      "text/plain": [
       "900      0.350709\n",
       "4900     0.248677\n",
       "9900     0.201581\n",
       "19900    0.100856\n",
       "29900    0.050036\n",
       "49900    0.048142\n",
       "Name: Payment, dtype: float64"
      ]
     },
     "execution_count": 8,
     "metadata": {},
     "output_type": "execute_result"
    }
   ],
   "source": [
    "Sales['Payment'].value_counts()/len(Sales['Payment'])"
   ]
  },
  {
   "attachments": {},
   "cell_type": "markdown",
   "metadata": {},
   "source": [
    "실제로 900원 결제 건수는 전체의 약 35%, <br>\n",
    "4,900원 결제 건수는 전체의 약 24%로 <br>\n",
    "두 금액 결제 건수의 합이 전체의 약 70% 수준이나 된다."
   ]
  },
  {
   "attachments": {},
   "cell_type": "markdown",
   "metadata": {},
   "source": [
    "이번에는 월별 결제금액을 한번 확인해보자."
   ]
  },
  {
   "attachments": {},
   "cell_type": "markdown",
   "metadata": {},
   "source": [
    "#### 1월에 처음 런칭했으니 3월까지 쭉 상승했으면 좋겠다.\n",
    "> 여기서 잠깐🤚 <br>\n",
    "> 월별로 결제금액을 집계하기 위해서는 `groupby()`라는 함수가 사용된다. `groupby()`는 pandas의 데이터프레임 중 특정 열을 기준으로 집계할 수 있다. 아래 코드는 순서대로 한번 읽어보면 다음과 같다. 'SalesLog의 Payment의 값을 SalesLog의 Month를 기준으로 집계한 값을 보여줘' 라는 의미이다."
   ]
  },
  {
   "cell_type": "code",
   "execution_count": 9,
   "metadata": {},
   "outputs": [
    {
     "data": {
      "text/plain": [
       "Month\n",
       "2022-02    80841800\n",
       "2022-03    63601300\n",
       "Name: Payment, dtype: int64"
      ]
     },
     "execution_count": 9,
     "metadata": {},
     "output_type": "execute_result"
    }
   ],
   "source": [
    "# SalesLog에 Month열을 만들고, 월별 날짜값을 입력\n",
    "SalesLog['Month'] = SalesLog['Time_stamp'].str[:7]\n",
    "\n",
    "# 월별 결제금액 확인하기\n",
    "SalesLog['Payment'].groupby(SalesLog['Month']).sum()"
   ]
  },
  {
   "attachments": {},
   "cell_type": "markdown",
   "metadata": {},
   "source": [
    "월별로 결제금액을 나눠보니 뭔가 이상하다. <br>\n",
    "1월에는 결제금액이 아예 없고, 2월에 비해 3월 결제금액이 줄었다."
   ]
  },
  {
   "attachments": {},
   "cell_type": "markdown",
   "metadata": {},
   "source": [
    "#### 2월과 3월 결제금액을 구체적으로 살펴보겠습니다\n",
    "막대 그래프를 통해 시각적으로 확인해보자"
   ]
  },
  {
   "cell_type": "code",
   "execution_count": 10,
   "metadata": {},
   "outputs": [
    {
     "data": {
      "image/png": "[encoded data removed]",
      "text/plain": [
       "<Figure size 432x288 with 1 Axes>"
      ]
     },
     "metadata": {
      "needs_background": "light"
     },
     "output_type": "display_data"
    }
   ],
   "source": [
    "temp_data = SalesLog['Payment'].groupby(SalesLog['Month']).sum()\n",
    "ax = plt.bar(temp_data.index, temp_data)\n",
    "plt.bar_label(ax, labels=[f'{x:,.0f}' for x in ax.datavalues], label_type='center')\n",
    "plt.title('Payments by Month')\n",
    "plt.show()"
   ]
  },
  {
   "attachments": {},
   "cell_type": "markdown",
   "metadata": {},
   "source": [
    "Sales02변수를 만들고, 2월에 결제한 데이터 할당해보자. 무과금은 제외한다는 것을 잊지 말자!"
   ]
  },
  {
   "cell_type": "code",
   "execution_count": 11,
   "metadata": {},
   "outputs": [],
   "source": [
    "# Sales02변수를 만들고, 2월에 결제한 데이터 할당하기\n",
    "Sales02 = SalesLog[(SalesLog['Month'] == '2022-02')& (SalesLog['Payment'] != 0)]"
   ]
  },
  {
   "attachments": {},
   "cell_type": "markdown",
   "metadata": {},
   "source": [
    "시각화를 하기 위해 인덱스를 정렬해보자"
   ]
  },
  {
   "cell_type": "code",
   "execution_count": 12,
   "metadata": {},
   "outputs": [
    {
     "data": {
      "text/html": [
       "<div>\n",
       "<style scoped>\n",
       "    .dataframe tbody tr th:only-of-type {\n",
       "        vertical-align: middle;\n",
       "    }\n",
       "\n",
       "    .dataframe tbody tr th {\n",
       "        vertical-align: top;\n",
       "    }\n",
       "\n",
       "    .dataframe thead th {\n",
       "        text-align: right;\n",
       "    }\n",
       "</style>\n",
       "<table border=\"1\" class=\"dataframe\">\n",
       "  <thead>\n",
       "    <tr style=\"text-align: right;\">\n",
       "      <th></th>\n",
       "      <th>install</th>\n",
       "      <th>Time_stamp</th>\n",
       "      <th>Game_Name</th>\n",
       "      <th>Status</th>\n",
       "      <th>Payment</th>\n",
       "      <th>Customer_ID</th>\n",
       "      <th>Month</th>\n",
       "    </tr>\n",
       "  </thead>\n",
       "  <tbody>\n",
       "    <tr>\n",
       "      <th>0</th>\n",
       "      <td>2022-01-08</td>\n",
       "      <td>2022-02-05</td>\n",
       "      <td>MineGround</td>\n",
       "      <td>play</td>\n",
       "      <td>4900</td>\n",
       "      <td>facilis140</td>\n",
       "      <td>2022-02</td>\n",
       "    </tr>\n",
       "    <tr>\n",
       "      <th>1</th>\n",
       "      <td>2022-01-05</td>\n",
       "      <td>2022-02-17</td>\n",
       "      <td>MineGround</td>\n",
       "      <td>play</td>\n",
       "      <td>29900</td>\n",
       "      <td>debitis994</td>\n",
       "      <td>2022-02</td>\n",
       "    </tr>\n",
       "    <tr>\n",
       "      <th>2</th>\n",
       "      <td>2022-01-29</td>\n",
       "      <td>2022-02-06</td>\n",
       "      <td>MineGround</td>\n",
       "      <td>play</td>\n",
       "      <td>4900</td>\n",
       "      <td>possimus246</td>\n",
       "      <td>2022-02</td>\n",
       "    </tr>\n",
       "    <tr>\n",
       "      <th>3</th>\n",
       "      <td>2022-01-09</td>\n",
       "      <td>2022-02-05</td>\n",
       "      <td>MineGround</td>\n",
       "      <td>play</td>\n",
       "      <td>900</td>\n",
       "      <td>occaecati138</td>\n",
       "      <td>2022-02</td>\n",
       "    </tr>\n",
       "    <tr>\n",
       "      <th>4</th>\n",
       "      <td>2022-01-08</td>\n",
       "      <td>2022-02-01</td>\n",
       "      <td>MineGround</td>\n",
       "      <td>play</td>\n",
       "      <td>900</td>\n",
       "      <td>corrupti325</td>\n",
       "      <td>2022-02</td>\n",
       "    </tr>\n",
       "    <tr>\n",
       "      <th>...</th>\n",
       "      <td>...</td>\n",
       "      <td>...</td>\n",
       "      <td>...</td>\n",
       "      <td>...</td>\n",
       "      <td>...</td>\n",
       "      <td>...</td>\n",
       "      <td>...</td>\n",
       "    </tr>\n",
       "    <tr>\n",
       "      <th>8537</th>\n",
       "      <td>2022-02-12</td>\n",
       "      <td>2022-02-14</td>\n",
       "      <td>SoccerManager</td>\n",
       "      <td>play</td>\n",
       "      <td>4900</td>\n",
       "      <td>quam946</td>\n",
       "      <td>2022-02</td>\n",
       "    </tr>\n",
       "    <tr>\n",
       "      <th>8538</th>\n",
       "      <td>2022-02-10</td>\n",
       "      <td>2022-02-14</td>\n",
       "      <td>SoccerManager</td>\n",
       "      <td>play</td>\n",
       "      <td>4900</td>\n",
       "      <td>commodi507</td>\n",
       "      <td>2022-02</td>\n",
       "    </tr>\n",
       "    <tr>\n",
       "      <th>8539</th>\n",
       "      <td>2022-02-16</td>\n",
       "      <td>2022-02-21</td>\n",
       "      <td>SoccerManager</td>\n",
       "      <td>play</td>\n",
       "      <td>900</td>\n",
       "      <td>rerum275</td>\n",
       "      <td>2022-02</td>\n",
       "    </tr>\n",
       "    <tr>\n",
       "      <th>8540</th>\n",
       "      <td>2022-02-16</td>\n",
       "      <td>2022-02-20</td>\n",
       "      <td>SoccerManager</td>\n",
       "      <td>play</td>\n",
       "      <td>9900</td>\n",
       "      <td>quo151</td>\n",
       "      <td>2022-02</td>\n",
       "    </tr>\n",
       "    <tr>\n",
       "      <th>8541</th>\n",
       "      <td>2022-02-07</td>\n",
       "      <td>2022-02-12</td>\n",
       "      <td>SoccerManager</td>\n",
       "      <td>play</td>\n",
       "      <td>4900</td>\n",
       "      <td>aspernatur159</td>\n",
       "      <td>2022-02</td>\n",
       "    </tr>\n",
       "  </tbody>\n",
       "</table>\n",
       "<p>8542 rows × 7 columns</p>\n",
       "</div>"
      ],
      "text/plain": [
       "         install  Time_stamp      Game_Name Status  Payment    Customer_ID  \\\n",
       "0     2022-01-08  2022-02-05     MineGround   play     4900     facilis140   \n",
       "1     2022-01-05  2022-02-17     MineGround   play    29900     debitis994   \n",
       "2     2022-01-29  2022-02-06     MineGround   play     4900    possimus246   \n",
       "3     2022-01-09  2022-02-05     MineGround   play      900   occaecati138   \n",
       "4     2022-01-08  2022-02-01     MineGround   play      900    corrupti325   \n",
       "...          ...         ...            ...    ...      ...            ...   \n",
       "8537  2022-02-12  2022-02-14  SoccerManager   play     4900        quam946   \n",
       "8538  2022-02-10  2022-02-14  SoccerManager   play     4900     commodi507   \n",
       "8539  2022-02-16  2022-02-21  SoccerManager   play      900       rerum275   \n",
       "8540  2022-02-16  2022-02-20  SoccerManager   play     9900         quo151   \n",
       "8541  2022-02-07  2022-02-12  SoccerManager   play     4900  aspernatur159   \n",
       "\n",
       "        Month  \n",
       "0     2022-02  \n",
       "1     2022-02  \n",
       "2     2022-02  \n",
       "3     2022-02  \n",
       "4     2022-02  \n",
       "...       ...  \n",
       "8537  2022-02  \n",
       "8538  2022-02  \n",
       "8539  2022-02  \n",
       "8540  2022-02  \n",
       "8541  2022-02  \n",
       "\n",
       "[8542 rows x 7 columns]"
      ]
     },
     "execution_count": 12,
     "metadata": {},
     "output_type": "execute_result"
    }
   ],
   "source": [
    "# 시각화를 위한 인덱스 정렬하기\n",
    "Sales02.reset_index(drop=True)"
   ]
  },
  {
   "attachments": {},
   "cell_type": "markdown",
   "metadata": {},
   "source": [
    "2월에 결제한 데이터를 날짜 순으로 정렬 후, 막대 그래프를 그려보자"
   ]
  },
  {
   "cell_type": "code",
   "execution_count": 13,
   "metadata": {},
   "outputs": [
    {
     "data": {
      "image/png": "[encoded data removed]",
      "text/plain": [
       "<Figure size 2160x360 with 1 Axes>"
      ]
     },
     "metadata": {
      "needs_background": "light"
     },
     "output_type": "display_data"
    }
   ],
   "source": [
    "# 2월에 결제한 데이터 시각화하기\n",
    "temp_data = Sales02['Payment'].groupby(Sales02['Time_stamp']).sum()\n",
    "plt.figure(figsize=(30,5))\n",
    "plt.bar(temp_data.index, temp_data)\n",
    "plt.title('Feb-Payments')\n",
    "plt.xticks(rotation=45)\n",
    "plt.show()"
   ]
  },
  {
   "attachments": {},
   "cell_type": "markdown",
   "metadata": {},
   "source": [
    "이번에는 3월에 결제한 데이터를 시각화해보자"
   ]
  },
  {
   "cell_type": "code",
   "execution_count": 14,
   "metadata": {},
   "outputs": [
    {
     "data": {
      "image/png": "[encoded data removed]",
      "text/plain": [
       "<Figure size 2160x360 with 1 Axes>"
      ]
     },
     "metadata": {
      "needs_background": "light"
     },
     "output_type": "display_data"
    }
   ],
   "source": [
    "Sales03 = SalesLog[(SalesLog['Month'] == '2022-03')& (SalesLog['Payment'] != 0)]\n",
    "Sales03.reset_index(drop=True)\n",
    "temp_data = Sales03['Payment'].groupby(Sales03['Time_stamp']).sum()\n",
    "plt.figure(figsize=(30,5))\n",
    "plt.bar(temp_data.index, temp_data)\n",
    "plt.title('Mar-Payments')\n",
    "plt.xticks(rotation=45)\n",
    "plt.show()"
   ]
  },
  {
   "attachments": {},
   "cell_type": "markdown",
   "metadata": {},
   "source": [
    "2월과 3월에 결제한 금액을 일자별로 시각화해봤지만 뚜렷하게 이상한 점은 없다. <br>\n",
    "아쉽지만 아무래도 원인을 밝히는 것은 다음 분석으로 넘겨야할 것 같다."
   ]
  },
  {
   "attachments": {},
   "cell_type": "markdown",
   "metadata": {},
   "source": [
    "#### 지금까지는 Sales 데이터를 살펴봤으니 Customer 데이터를 살펴보자\n",
    "우선 customer 데이터를 불러와 정보를 확인해보자"
   ]
  },
  {
   "cell_type": "code",
   "execution_count": 15,
   "metadata": {},
   "outputs": [
    {
     "name": "stdout",
     "output_type": "stream",
     "text": [
      "          Customer_ID Name     Nickname  Password  \\\n",
      "0          facilis140  이영순         quos  ********   \n",
      "1          debitis994  김중수    molestiae  ********   \n",
      "2         possimus246  양은경          rem  ********   \n",
      "3        occaecati138  백도윤       libero  ********   \n",
      "4         corrupti325  김영수   temporibus  ********   \n",
      "...               ...  ...          ...       ...   \n",
      "99840        dicta630  김예지          sit  ********   \n",
      "99841      tempora976  문은경         modi  ********   \n",
      "99842        iusto840  강중수        iusto  ********   \n",
      "99843         nemo273  황정남     deleniti  ********   \n",
      "99844  consequatur371  이영식  accusantium  ********   \n",
      "\n",
      "                              Email       Birth  Gender              C.P.  \\\n",
      "0                   coejongsu@yu.kr  1989-03-11  female  01x9-4x625-x5x3x   \n",
      "1                   jiweon02@ju.org  1995-11-19    male  01x9-3x228-x3x9x   \n",
      "2           coesubin@jusighoesa.com  2005-12-24  female  01x9-7x873-x2x2x   \n",
      "3            yeongceol80@gangryu.kr  2003-02-09  female  01x9-3x519-x7x1x   \n",
      "4                   jiweon96@yu.net  2004-05-04    male  01x9-0x079-x9x2x   \n",
      "...                             ...         ...     ...               ...   \n",
      "99840           ggim@yuhanhoesa.com  1992-07-31    male  01x9-8x787-x6x7x   \n",
      "99841  gimjeongnam@gimgweonjang.com  1990-09-17    male  01x9-5x401-x0x0x   \n",
      "99842                  qu@gimgim.kr  1984-12-25  female  01x9-3x247-x9x7x   \n",
      "99843            yejun90@imubag.com  1985-05-11    male  01x9-5x324-x8x7x   \n",
      "99844        seongsu95@hwangryu.com  2000-02-18  female  01x9-5x277-x4x5x   \n",
      "\n",
      "      MobileCompany       OS  \n",
      "0               LGU      iOS  \n",
      "1                KT      iOS  \n",
      "2               LGU  Android  \n",
      "3               SKT      iOS  \n",
      "4               LGU  Android  \n",
      "...             ...      ...  \n",
      "99840           LGU      iOS  \n",
      "99841            KT  Android  \n",
      "99842           SKT      iOS  \n",
      "99843           LGU      iOS  \n",
      "99844            KT      iOS  \n",
      "\n",
      "[99845 rows x 10 columns]\n",
      "<class 'pandas.core.frame.DataFrame'>\n",
      "RangeIndex: 99845 entries, 0 to 99844\n",
      "Data columns (total 10 columns):\n",
      " #   Column         Non-Null Count  Dtype \n",
      "---  ------         --------------  ----- \n",
      " 0   Customer_ID    99845 non-null  object\n",
      " 1   Name           99845 non-null  object\n",
      " 2   Nickname       99845 non-null  object\n",
      " 3   Password       99845 non-null  object\n",
      " 4   Email          99845 non-null  object\n",
      " 5   Birth          99845 non-null  object\n",
      " 6   Gender         99845 non-null  object\n",
      " 7   C.P.           99845 non-null  object\n",
      " 8   MobileCompany  99845 non-null  object\n",
      " 9   OS             99845 non-null  object\n",
      "dtypes: object(10)\n",
      "memory usage: 7.6+ MB\n"
     ]
    }
   ],
   "source": [
    "CustomerLog = pd.read_csv('./data/customer.csv')\n",
    "print(CustomerLog)\n",
    "\n",
    "CustomerLog.info()"
   ]
  },
  {
   "attachments": {},
   "cell_type": "markdown",
   "metadata": {},
   "source": [
    "Customer 데이터를 살펴보니 총 열개 컬럼이 발견되었다.\n",
    "\n",
    "- 유저 아이디(Customer_ID)\n",
    "- 고객 이름(Name)\n",
    "- 게임 내 닉네임(Nickname)\n",
    "- 비밀번호(Password)\n",
    "- 고객 이메일(Email)\n",
    "- 고객 생년월일(Birth)\n",
    "- 고객 성별(Gender)\n",
    "- 고객 휴대폰번호(C.P.)\n",
    "- 모바일 서비스 기업(MobileCompany)\n",
    "- 모바일 OS(OS) <br>\n",
    "\n",
    "우리 게임을 이용하는 고객은 어떤 분들일까? 누가 우리 게임에서 결제하고 있을까?"
   ]
  },
  {
   "attachments": {},
   "cell_type": "markdown",
   "metadata": {},
   "source": [
    "#### 시각화를 통해 한 번 살펴보도록 하자\n",
    "이번에는 파이그래프를 사용하려고 한다. 먼저 고객 성별에 따른 파이 그래프를 그려보자. <br> \n",
    "customer 데이터에서 'Gender' 컬럼을 `groupby()`를 사용해 성별로 묶어준 후 파이 그래프를 그린다."
   ]
  },
  {
   "cell_type": "code",
   "execution_count": 16,
   "metadata": {},
   "outputs": [
    {
     "data": {
      "image/png": "[encoded data removed]",
      "text/plain": [
       "<Figure size 432x288 with 1 Axes>"
      ]
     },
     "metadata": {},
     "output_type": "display_data"
    }
   ],
   "source": [
    "# 고객 성별에 따른 파이그래프 그리기\n",
    "pie_data = CustomerLog.groupby(['Gender']).count().Name\n",
    "plt.pie(pie_data, labels=pie_data.index, autopct = '%1.1f%%')\n",
    "plt.title('Customer Gender')\n",
    "plt.show()"
   ]
  },
  {
   "attachments": {},
   "cell_type": "markdown",
   "metadata": {},
   "source": [
    "고객 모바일 서비스 기업과 고객 모바일 OS에 따른 파이 그래프를 그려보자"
   ]
  },
  {
   "cell_type": "code",
   "execution_count": 17,
   "metadata": {},
   "outputs": [
    {
     "data": {
      "image/png": "[encoded data removed]",
      "text/plain": [
       "<Figure size 432x288 with 1 Axes>"
      ]
     },
     "metadata": {},
     "output_type": "display_data"
    }
   ],
   "source": [
    "# 고객 모바일 서비스 기업에 따른 파이그래프 그리기\n",
    "pie_data = CustomerLog.groupby(['MobileCompany']).count().Name\n",
    "plt.pie(pie_data, labels=pie_data.index, autopct = '%1.1f%%')\n",
    "plt.title('Mobile Company')\n",
    "plt.show()"
   ]
  },
  {
   "cell_type": "code",
   "execution_count": 18,
   "metadata": {},
   "outputs": [
    {
     "data": {
      "image/png": "[encoded data removed]",
      "text/plain": [
       "<Figure size 432x288 with 1 Axes>"
      ]
     },
     "metadata": {},
     "output_type": "display_data"
    }
   ],
   "source": [
    "# 고객 모바일 os에 따른 파이그래프 그리기\n",
    "pie_data = CustomerLog.groupby(['OS']).count().Name\n",
    "plt.pie(pie_data, labels=pie_data.index, autopct = '%1.1f%%')\n",
    "plt.title('Mobile OS')\n",
    "plt.show()"
   ]
  },
  {
   "attachments": {},
   "cell_type": "markdown",
   "metadata": {},
   "source": [
    "우리 고객이 어떤 분들인지 대충 윤곽이 보인다! 여성보다는 남성이 많이 이용하고, 안드로이드를 사용하는 고객이 많다"
   ]
  },
  {
   "attachments": {},
   "cell_type": "markdown",
   "metadata": {},
   "source": [
    "#### 이번에는 결제 경험이 있는 고객들만을 골라서 똑같은 시각화를 수행해보자\n",
    "##### 데이터 결합\n",
    "`merge()` 함수를 사용해 Customer 데이터와 Sales 데이터를 결합해보자"
   ]
  },
  {
   "cell_type": "code",
   "execution_count": 19,
   "metadata": {},
   "outputs": [
    {
     "data": {
      "image/png": "[encoded data removed]",
      "text/plain": [
       "<Figure size 432x288 with 1 Axes>"
      ]
     },
     "metadata": {},
     "output_type": "display_data"
    }
   ],
   "source": [
    "# Customer 데이터와 Sales 데이터를 결합하기\n",
    "TotalData = pd.merge(CustomerLog, SalesLog)\n",
    "\n",
    "# 결제 경험이 있는 고객들만 골라내기\n",
    "PaymentCustomer = TotalData[(TotalData[\"Payment\"] != 0)]\n",
    "\n",
    "# 결제 경험이 있는 고객 성별에 따른 파이그래프 그리기\n",
    "pie_data = PaymentCustomer.groupby(['Gender']).count().Name\n",
    "plt.pie(pie_data, labels=pie_data.index, autopct = '%1.1f%%')\n",
    "plt.title('Payment Customer Gender')\n",
    "plt.show()"
   ]
  },
  {
   "cell_type": "code",
   "execution_count": 20,
   "metadata": {},
   "outputs": [
    {
     "data": {
      "image/png": "[encoded data removed]",
      "text/plain": [
       "<Figure size 432x288 with 1 Axes>"
      ]
     },
     "metadata": {},
     "output_type": "display_data"
    }
   ],
   "source": [
    "# 결제 경험이 있는 고객 모바일 서비스 기업에 따른 파이그래프 그리기\n",
    "pie_data = PaymentCustomer.groupby(['MobileCompany']).count().Name\n",
    "plt.pie(pie_data, labels=pie_data.index, autopct = '%1.1f%%')\n",
    "plt.title('Payment Customer Mobile')\n",
    "plt.show()"
   ]
  },
  {
   "cell_type": "code",
   "execution_count": 21,
   "metadata": {},
   "outputs": [
    {
     "data": {
      "image/png": "[encoded data removed]",
      "text/plain": [
       "<Figure size 432x288 with 1 Axes>"
      ]
     },
     "metadata": {},
     "output_type": "display_data"
    }
   ],
   "source": [
    "# 결제 경험이 있는 고객 모바일OS에 따른 파이그래프 그리기\n",
    "pie_data = PaymentCustomer.groupby(['OS']).count().Name\n",
    "plt.pie(pie_data, labels=pie_data.index, autopct = '%1.1f%%')\n",
    "plt.title('Payment Customer OS')\n",
    "plt.show()"
   ]
  },
  {
   "attachments": {},
   "cell_type": "markdown",
   "metadata": {},
   "source": [
    "큰 차이가 보이지 않는다. 아무래도 고객 성별과 통신사, OS는 결제와는 크게 상관없는 것 같다."
   ]
  },
  {
   "attachments": {},
   "cell_type": "markdown",
   "metadata": {},
   "source": [
    "#### 고객 성별에 따른 결제 금액을 월별로 한 번 관찰해보자\n",
    "##### 월별 고객\n",
    "먼저 월별 고객 성별에 따른 결제 금액을 확인해보자. 결제 금액이 있는 고객만 추려낸 PaymentCustomer 데이터에서 'Gender'와 'Month'를 묶은 후 각 값을 합해보자."
   ]
  },
  {
   "cell_type": "code",
   "execution_count": 22,
   "metadata": {},
   "outputs": [
    {
     "data": {
      "text/plain": [
       "Gender  Month  \n",
       "female  2022-02    32103200\n",
       "        2022-03    25295700\n",
       "male    2022-02    48738600\n",
       "        2022-03    38305600\n",
       "Name: Payment, dtype: int64"
      ]
     },
     "execution_count": 22,
     "metadata": {},
     "output_type": "execute_result"
    }
   ],
   "source": [
    "PaymentCustomer[\"Payment\"].groupby([PaymentCustomer[\"Gender\"], PaymentCustomer[\"Month\"]]).sum()"
   ]
  },
  {
   "attachments": {},
   "cell_type": "markdown",
   "metadata": {},
   "source": [
    "이번에는 male과 female 변수를 만들고 성별에 따라 데이터를 할당해보자"
   ]
  },
  {
   "cell_type": "code",
   "execution_count": 23,
   "metadata": {},
   "outputs": [],
   "source": [
    "male = PaymentCustomer[PaymentCustomer[\"Gender\"] == \"male\"]\n",
    "female = PaymentCustomer[PaymentCustomer[\"Gender\"] == \"female\"]"
   ]
  },
  {
   "attachments": {},
   "cell_type": "markdown",
   "metadata": {},
   "source": [
    "마지막으로 월별 여성과 남성 고객의 결제 금액을 각각의 막대 그래프로 그려보자"
   ]
  },
  {
   "cell_type": "code",
   "execution_count": 24,
   "metadata": {},
   "outputs": [
    {
     "data": {
      "image/png": "[encoded data removed]",
      "text/plain": [
       "<Figure size 432x288 with 1 Axes>"
      ]
     },
     "metadata": {
      "needs_background": "light"
     },
     "output_type": "display_data"
    }
   ],
   "source": [
    "# 여성 고객\n",
    "temp_data = female[\"Payment\"].groupby(female[\"Month\"]).sum()\n",
    "ax = plt.bar(temp_data.index, temp_data)\n",
    "plt.bar_label(ax, labels=[f\"{x:,.0f}\" for x in ax.datavalues], label_type=\"center\")\n",
    "plt.title(\"Payment by Female\")\n",
    "plt.show()"
   ]
  },
  {
   "cell_type": "code",
   "execution_count": 25,
   "metadata": {},
   "outputs": [
    {
     "data": {
      "image/png": "[encoded data removed]",
      "text/plain": [
       "<Figure size 432x288 with 1 Axes>"
      ]
     },
     "metadata": {
      "needs_background": "light"
     },
     "output_type": "display_data"
    }
   ],
   "source": [
    "# 남성 고객\n",
    "temp_data = male[\"Payment\"].groupby(male[\"Month\"]).sum()\n",
    "ax = plt.bar(temp_data.index, temp_data)\n",
    "plt.bar_label(ax, labels=[f\"{x:,.0f}\" for x in ax.datavalues], label_type=\"center\")\n",
    "plt.title(\"Payment by Male\")\n",
    "plt.show()"
   ]
  },
  {
   "attachments": {},
   "cell_type": "markdown",
   "metadata": {},
   "source": [
    "2월과 3월 모두 남성 고객이 더 많은 금액을 결제한 것을 알 수 있다. 하지만 남성과 여성 모두 2월에 비해 3월 결제 금액이 줄었다. <br>\n",
    "빨리 원인을 찾아야 한다."
   ]
  },
  {
   "attachments": {},
   "cell_type": "markdown",
   "metadata": {},
   "source": [
    "### 전략 수립 및 실행\n",
    "지금까지 분석 결과를 통해 다음과 같은 사실을 확인할 수 있다.\n",
    "1. 우리 회사의 3월 매출은 2월에 비해 감소했다.\n",
    "2. 현재 수집된 고객 관련 데이터로는 유의미한 원인이 도출되지 않는다.\n",
    "\n",
    "이제 이 결과를 바탕으로 매출액이 감소하는 원인을 찾아야 한다. 필요하면 추가적인 데이터 분석을 수행할 필요가 있다."
   ]
  }
 ],
 "metadata": {
  "kernelspec": {
   "display_name": "Python 3",
   "language": "python",
   "name": "python3"
  },
  "language_info": {
   "codemirror_mode": {
    "name": "ipython",
    "version": 3
   },
   "file_extension": ".py",
   "mimetype": "text/x-python",
   "name": "python",
   "nbconvert_exporter": "python",
   "pygments_lexer": "ipython3",
   "version": "3.10.2"
  },
  "orig_nbformat": 4,
  "vscode": {
   "interpreter": {
    "hash": "84ff453e9e41823f465f98f302bd467168d3c4e33364b020923e3381261c551a"
   }
  }
 },
 "nbformat": 4,
 "nbformat_minor": 2
}
